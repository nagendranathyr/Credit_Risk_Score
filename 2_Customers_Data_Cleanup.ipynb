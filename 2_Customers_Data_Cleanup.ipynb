{
 "cells": [
  {
   "cell_type": "code",
   "execution_count": 1,
   "id": "b175795d",
   "metadata": {},
   "outputs": [],
   "source": [
    "from pyspark.sql import SparkSession\n",
    "import getpass\n",
    "username = getpass.getuser()\n",
    "spark = SparkSession. \\\n",
    "builder. \\\n",
    "config('spark.ui.port', '0'). \\\n",
    "config(\"spark.sql.warehouse.dir\", f\"/user/{username}/warehouse\"). \\\n",
    "config('spark.shuffle.useOldFetchProtocol', 'true'). \\\n",
    "config('spark.app.name', 'itv012041_Customers_Data_Cleanup'). \\\n",
    "enableHiveSupport(). \\\n",
    "master('yarn'). \\\n",
    "getOrCreate()"
   ]
  },
  {
   "cell_type": "code",
   "execution_count": 2,
   "id": "b5e8e567",
   "metadata": {},
   "outputs": [
    {
     "data": {
      "text/html": [
       "\n",
       "            <div>\n",
       "                <p><b>SparkSession - hive</b></p>\n",
       "                \n",
       "        <div>\n",
       "            <p><b>SparkContext</b></p>\n",
       "\n",
       "            <p><a href=\"http://g02.itversity.com:35425\">Spark UI</a></p>\n",
       "\n",
       "            <dl>\n",
       "              <dt>Version</dt>\n",
       "                <dd><code>v3.1.2</code></dd>\n",
       "              <dt>Master</dt>\n",
       "                <dd><code>yarn</code></dd>\n",
       "              <dt>AppName</dt>\n",
       "                <dd><code>itv012041_Customers_Data_Cleanup</code></dd>\n",
       "            </dl>\n",
       "        </div>\n",
       "        \n",
       "            </div>\n",
       "        "
      ],
      "text/plain": [
       "<pyspark.sql.session.SparkSession at 0x7f0fd3dae860>"
      ]
     },
     "execution_count": 2,
     "metadata": {},
     "output_type": "execute_result"
    }
   ],
   "source": [
    "spark"
   ]
  },
  {
   "cell_type": "code",
   "execution_count": 3,
   "id": "9e5118f2",
   "metadata": {},
   "outputs": [],
   "source": [
    "customer_schema = \"\"\"member_id string, emp_title string, emp_length string, \n",
    "home_ownership string, annual_inc float, addr_state string, \n",
    "zip_code string, country string, grade string, \n",
    "sub_grade string, verification_status string, \n",
    "tot_hi_cred_lim float, application_type string, \n",
    "annual_inc_joint float, verification_status_joint string\"\"\""
   ]
  },
  {
   "cell_type": "code",
   "execution_count": 4,
   "id": "57089ae8",
   "metadata": {},
   "outputs": [],
   "source": [
    "customers_raw_df = spark.read \\\n",
    ".format(\"csv\") \\\n",
    ".option(\"header\", True) \\\n",
    ".schema(customer_schema) \\\n",
    ".load(\"/user/itv012041/lendingclubproject/raw/customers_data_csv\")"
   ]
  },
  {
   "cell_type": "code",
   "execution_count": 5,
   "id": "bf9d1355",
   "metadata": {},
   "outputs": [
    {
     "data": {
      "text/html": [
       "<table border='1'>\n",
       "<tr><th>member_id</th><th>emp_title</th><th>emp_length</th><th>home_ownership</th><th>annual_inc</th><th>addr_state</th><th>zip_code</th><th>country</th><th>grade</th><th>sub_grade</th><th>verification_status</th><th>tot_hi_cred_lim</th><th>application_type</th><th>annual_inc_joint</th><th>verification_status_joint</th></tr>\n",
       "<tr><td>bbf87639f02df9e0f...</td><td>Crothall Services...</td><td>3 years</td><td>RENT</td><td>28685.0</td><td>NY</td><td>104xx</td><td>USA</td><td>C</td><td>C1</td><td>Not Verified</td><td>null</td><td>Individual</td><td>null</td><td>null</td></tr>\n",
       "<tr><td>1166edd4433e2c5e6...</td><td>PharMerica</td><td>1 year</td><td>RENT</td><td>111000.0</td><td>TX</td><td>757xx</td><td>USA</td><td>B</td><td>B3</td><td>Not Verified</td><td>null</td><td>Individual</td><td>null</td><td>null</td></tr>\n",
       "<tr><td>85ac408940a41c483...</td><td>Robert Half Inter...</td><td>3 years</td><td>RENT</td><td>38000.0</td><td>CA</td><td>956xx</td><td>USA</td><td>A</td><td>A5</td><td>Not Verified</td><td>null</td><td>Individual</td><td>null</td><td>null</td></tr>\n",
       "<tr><td>b967e90649c13df8c...</td><td>walmart</td><td>2 years</td><td>RENT</td><td>17000.0</td><td>NY</td><td>130xx</td><td>USA</td><td>D</td><td>D1</td><td>Not Verified</td><td>null</td><td>Individual</td><td>null</td><td>null</td></tr>\n",
       "<tr><td>cf201bf3b979cc53f...</td><td>Delloite</td><td>10+ years</td><td>MORTGAGE</td><td>500000.0</td><td>GA</td><td>300xx</td><td>USA</td><td>C</td><td>C4</td><td>Not Verified</td><td>null</td><td>Individual</td><td>null</td><td>null</td></tr>\n",
       "<tr><td>fc5352bf3df1141df...</td><td>Hightower Investm...</td><td>3 years</td><td>OWN</td><td>65000.0</td><td>NY</td><td>100xx</td><td>USA</td><td>B</td><td>B5</td><td>Not Verified</td><td>null</td><td>Individual</td><td>null</td><td>null</td></tr>\n",
       "<tr><td>cf5f3e25690264e2f...</td><td>double barrel env...</td><td>2 years</td><td>MORTGAGE</td><td>48000.0</td><td>CA</td><td>933xx</td><td>USA</td><td>B</td><td>B5</td><td>Not Verified</td><td>null</td><td>Individual</td><td>null</td><td>null</td></tr>\n",
       "<tr><td>c3c8ed21681fdf8c1...</td><td>e-Dialog</td><td>3 years</td><td>MORTGAGE</td><td>68500.0</td><td>MA</td><td>021xx</td><td>USA</td><td>D</td><td>D4</td><td>Not Verified</td><td>null</td><td>Individual</td><td>null</td><td>null</td></tr>\n",
       "<tr><td>d01624b43a8b3d161...</td><td>City of Hialeah</td><td>10+ years</td><td>MORTGAGE</td><td>80000.0</td><td>FL</td><td>331xx</td><td>USA</td><td>D</td><td>D3</td><td>Not Verified</td><td>null</td><td>Individual</td><td>null</td><td>null</td></tr>\n",
       "<tr><td>ab0496cfe8100126c...</td><td>AARP Services</td><td>4 years</td><td>MORTGAGE</td><td>120000.0</td><td>VA</td><td>201xx</td><td>USA</td><td>D</td><td>D5</td><td>Verified</td><td>null</td><td>Individual</td><td>null</td><td>null</td></tr>\n",
       "<tr><td>4c30427b6fbbf6525...</td><td>Madison Square Ga...</td><td>3 years</td><td>RENT</td><td>70000.0</td><td>NJ</td><td>070xx</td><td>USA</td><td>B</td><td>B5</td><td>Verified</td><td>null</td><td>Individual</td><td>null</td><td>null</td></tr>\n",
       "<tr><td>557b10506829ffcaf...</td><td>Brookland-Cayce High</td><td>5 years</td><td>MORTGAGE</td><td>48000.0</td><td>SC</td><td>291xx</td><td>USA</td><td>C</td><td>C2</td><td>Verified</td><td>null</td><td>Individual</td><td>null</td><td>null</td></tr>\n",
       "<tr><td>b72cae3368f9c7ec8...</td><td>Canyon Independen...</td><td>4 years</td><td>MORTGAGE</td><td>40900.0</td><td>TX</td><td>790xx</td><td>USA</td><td>D</td><td>D4</td><td>Not Verified</td><td>null</td><td>Individual</td><td>null</td><td>null</td></tr>\n",
       "<tr><td>2b92b3ff9ed109fb1...</td><td>Pencor Services</td><td>10+ years</td><td>RENT</td><td>53591.0</td><td>PA</td><td>182xx</td><td>USA</td><td>D</td><td>D2</td><td>Not Verified</td><td>null</td><td>Individual</td><td>null</td><td>null</td></tr>\n",
       "<tr><td>b5c5b9fd47bd2ed6c...</td><td>HNTB Corporation</td><td>5 years</td><td>RENT</td><td>52582.0</td><td>TX</td><td>786xx</td><td>USA</td><td>B</td><td>B3</td><td>Not Verified</td><td>null</td><td>Individual</td><td>null</td><td>null</td></tr>\n",
       "<tr><td>c9c26daf82a214860...</td><td>MediMedia U.S.A.</td><td>10+ years</td><td>MORTGAGE</td><td>425000.0</td><td>educational</td><td>then next perhaps...</td><td>USA</td><td>A</td><td>A5</td><td>Not Verified</td><td>null</td><td>0.0</td><td>null</td><td>Individual</td></tr>\n",
       "<tr><td>b4870eb681e74c27b...</td><td>Purcell Associates</td><td>3 years</td><td>RENT</td><td>53040.0</td><td>CT</td><td>060xx</td><td>USA</td><td>B</td><td>B1</td><td>Not Verified</td><td>null</td><td>Individual</td><td>null</td><td>null</td></tr>\n",
       "<tr><td>4636a1f9103f6ea9c...</td><td>State Of New Hamp...</td><td>2 years</td><td>RENT</td><td>37920.0</td><td>NH</td><td>037xx</td><td>USA</td><td>C</td><td>C3</td><td>Not Verified</td><td>null</td><td>Individual</td><td>null</td><td>null</td></tr>\n",
       "<tr><td>5aff8b80c1f7e6c42...</td><td>mBank</td><td>&lt; 1 year</td><td>RENT</td><td>60000.0</td><td>MA</td><td>498xx</td><td>USA</td><td>D</td><td>D2</td><td>Not Verified</td><td>null</td><td>Individual</td><td>null</td><td>null</td></tr>\n",
       "<tr><td>610148b882e494503...</td><td>Boston Medical Ce...</td><td>3 years</td><td>MORTGAGE</td><td>75000.0</td><td>MA</td><td>021xx</td><td>USA</td><td>C</td><td>C4</td><td>Not Verified</td><td>null</td><td>Individual</td><td>null</td><td>null</td></tr>\n",
       "</table>\n",
       "only showing top 20 rows\n"
      ],
      "text/plain": [
       "+--------------------+--------------------+----------+--------------+----------+-----------+--------------------+-------+-----+---------+-------------------+---------------+----------------+----------------+-------------------------+\n",
       "|           member_id|           emp_title|emp_length|home_ownership|annual_inc| addr_state|            zip_code|country|grade|sub_grade|verification_status|tot_hi_cred_lim|application_type|annual_inc_joint|verification_status_joint|\n",
       "+--------------------+--------------------+----------+--------------+----------+-----------+--------------------+-------+-----+---------+-------------------+---------------+----------------+----------------+-------------------------+\n",
       "|bbf87639f02df9e0f...|Crothall Services...|   3 years|          RENT|   28685.0|         NY|               104xx|    USA|    C|       C1|       Not Verified|           null|      Individual|            null|                     null|\n",
       "|1166edd4433e2c5e6...|          PharMerica|    1 year|          RENT|  111000.0|         TX|               757xx|    USA|    B|       B3|       Not Verified|           null|      Individual|            null|                     null|\n",
       "|85ac408940a41c483...|Robert Half Inter...|   3 years|          RENT|   38000.0|         CA|               956xx|    USA|    A|       A5|       Not Verified|           null|      Individual|            null|                     null|\n",
       "|b967e90649c13df8c...|             walmart|   2 years|          RENT|   17000.0|         NY|               130xx|    USA|    D|       D1|       Not Verified|           null|      Individual|            null|                     null|\n",
       "|cf201bf3b979cc53f...|            Delloite| 10+ years|      MORTGAGE|  500000.0|         GA|               300xx|    USA|    C|       C4|       Not Verified|           null|      Individual|            null|                     null|\n",
       "|fc5352bf3df1141df...|Hightower Investm...|   3 years|           OWN|   65000.0|         NY|               100xx|    USA|    B|       B5|       Not Verified|           null|      Individual|            null|                     null|\n",
       "|cf5f3e25690264e2f...|double barrel env...|   2 years|      MORTGAGE|   48000.0|         CA|               933xx|    USA|    B|       B5|       Not Verified|           null|      Individual|            null|                     null|\n",
       "|c3c8ed21681fdf8c1...|            e-Dialog|   3 years|      MORTGAGE|   68500.0|         MA|               021xx|    USA|    D|       D4|       Not Verified|           null|      Individual|            null|                     null|\n",
       "|d01624b43a8b3d161...|     City of Hialeah| 10+ years|      MORTGAGE|   80000.0|         FL|               331xx|    USA|    D|       D3|       Not Verified|           null|      Individual|            null|                     null|\n",
       "|ab0496cfe8100126c...|       AARP Services|   4 years|      MORTGAGE|  120000.0|         VA|               201xx|    USA|    D|       D5|           Verified|           null|      Individual|            null|                     null|\n",
       "|4c30427b6fbbf6525...|Madison Square Ga...|   3 years|          RENT|   70000.0|         NJ|               070xx|    USA|    B|       B5|           Verified|           null|      Individual|            null|                     null|\n",
       "|557b10506829ffcaf...|Brookland-Cayce High|   5 years|      MORTGAGE|   48000.0|         SC|               291xx|    USA|    C|       C2|           Verified|           null|      Individual|            null|                     null|\n",
       "|b72cae3368f9c7ec8...|Canyon Independen...|   4 years|      MORTGAGE|   40900.0|         TX|               790xx|    USA|    D|       D4|       Not Verified|           null|      Individual|            null|                     null|\n",
       "|2b92b3ff9ed109fb1...|     Pencor Services| 10+ years|          RENT|   53591.0|         PA|               182xx|    USA|    D|       D2|       Not Verified|           null|      Individual|            null|                     null|\n",
       "|b5c5b9fd47bd2ed6c...|    HNTB Corporation|   5 years|          RENT|   52582.0|         TX|               786xx|    USA|    B|       B3|       Not Verified|           null|      Individual|            null|                     null|\n",
       "|c9c26daf82a214860...|    MediMedia U.S.A.| 10+ years|      MORTGAGE|  425000.0|educational|then next perhaps...|    USA|    A|       A5|       Not Verified|           null|             0.0|            null|               Individual|\n",
       "|b4870eb681e74c27b...|  Purcell Associates|   3 years|          RENT|   53040.0|         CT|               060xx|    USA|    B|       B1|       Not Verified|           null|      Individual|            null|                     null|\n",
       "|4636a1f9103f6ea9c...|State Of New Hamp...|   2 years|          RENT|   37920.0|         NH|               037xx|    USA|    C|       C3|       Not Verified|           null|      Individual|            null|                     null|\n",
       "|5aff8b80c1f7e6c42...|               mBank|  < 1 year|          RENT|   60000.0|         MA|               498xx|    USA|    D|       D2|       Not Verified|           null|      Individual|            null|                     null|\n",
       "|610148b882e494503...|Boston Medical Ce...|   3 years|      MORTGAGE|   75000.0|         MA|               021xx|    USA|    C|       C4|       Not Verified|           null|      Individual|            null|                     null|\n",
       "+--------------------+--------------------+----------+--------------+----------+-----------+--------------------+-------+-----+---------+-------------------+---------------+----------------+----------------+-------------------------+\n",
       "only showing top 20 rows"
      ]
     },
     "execution_count": 5,
     "metadata": {},
     "output_type": "execute_result"
    }
   ],
   "source": [
    "customers_raw_df"
   ]
  },
  {
   "cell_type": "code",
   "execution_count": 6,
   "id": "c68829bd",
   "metadata": {},
   "outputs": [
    {
     "name": "stdout",
     "output_type": "stream",
     "text": [
      "root\n",
      " |-- member_id: string (nullable = true)\n",
      " |-- emp_title: string (nullable = true)\n",
      " |-- emp_length: string (nullable = true)\n",
      " |-- home_ownership: string (nullable = true)\n",
      " |-- annual_inc: float (nullable = true)\n",
      " |-- addr_state: string (nullable = true)\n",
      " |-- zip_code: string (nullable = true)\n",
      " |-- country: string (nullable = true)\n",
      " |-- grade: string (nullable = true)\n",
      " |-- sub_grade: string (nullable = true)\n",
      " |-- verification_status: string (nullable = true)\n",
      " |-- tot_hi_cred_lim: float (nullable = true)\n",
      " |-- application_type: string (nullable = true)\n",
      " |-- annual_inc_joint: float (nullable = true)\n",
      " |-- verification_status_joint: string (nullable = true)\n",
      "\n"
     ]
    }
   ],
   "source": [
    "customers_raw_df.printSchema()"
   ]
  },
  {
   "cell_type": "code",
   "execution_count": 7,
   "id": "82cd1e25",
   "metadata": {},
   "outputs": [],
   "source": [
    "customers_renamed_df = customers_raw_df.withColumnRenamed(\"annual_inc\", \"annual_income\") \\\n",
    ".withColumnRenamed(\"addr_state\", \"address_state\") \\\n",
    ".withColumnRenamed(\"zip_code\", \"address_zipcode\") \\\n",
    ".withColumnRenamed(\"country\", \"address_country\") \\\n",
    ".withColumnRenamed(\"tot_hi_credit_lim\", \"total_high_credit_limit\") \\\n",
    ".withColumnRenamed(\"annual_inc_joint\", \"joint_annual_income\")"
   ]
  },
  {
   "cell_type": "code",
   "execution_count": 8,
   "id": "12b6d3f0",
   "metadata": {},
   "outputs": [
    {
     "data": {
      "text/html": [
       "<table border='1'>\n",
       "<tr><th>member_id</th><th>emp_title</th><th>emp_length</th><th>home_ownership</th><th>annual_income</th><th>address_state</th><th>address_zipcode</th><th>address_country</th><th>grade</th><th>sub_grade</th><th>verification_status</th><th>tot_hi_cred_lim</th><th>application_type</th><th>joint_annual_income</th><th>verification_status_joint</th></tr>\n",
       "<tr><td>bbf87639f02df9e0f...</td><td>Crothall Services...</td><td>3 years</td><td>RENT</td><td>28685.0</td><td>NY</td><td>104xx</td><td>USA</td><td>C</td><td>C1</td><td>Not Verified</td><td>null</td><td>Individual</td><td>null</td><td>null</td></tr>\n",
       "<tr><td>1166edd4433e2c5e6...</td><td>PharMerica</td><td>1 year</td><td>RENT</td><td>111000.0</td><td>TX</td><td>757xx</td><td>USA</td><td>B</td><td>B3</td><td>Not Verified</td><td>null</td><td>Individual</td><td>null</td><td>null</td></tr>\n",
       "<tr><td>85ac408940a41c483...</td><td>Robert Half Inter...</td><td>3 years</td><td>RENT</td><td>38000.0</td><td>CA</td><td>956xx</td><td>USA</td><td>A</td><td>A5</td><td>Not Verified</td><td>null</td><td>Individual</td><td>null</td><td>null</td></tr>\n",
       "<tr><td>b967e90649c13df8c...</td><td>walmart</td><td>2 years</td><td>RENT</td><td>17000.0</td><td>NY</td><td>130xx</td><td>USA</td><td>D</td><td>D1</td><td>Not Verified</td><td>null</td><td>Individual</td><td>null</td><td>null</td></tr>\n",
       "<tr><td>cf201bf3b979cc53f...</td><td>Delloite</td><td>10+ years</td><td>MORTGAGE</td><td>500000.0</td><td>GA</td><td>300xx</td><td>USA</td><td>C</td><td>C4</td><td>Not Verified</td><td>null</td><td>Individual</td><td>null</td><td>null</td></tr>\n",
       "<tr><td>fc5352bf3df1141df...</td><td>Hightower Investm...</td><td>3 years</td><td>OWN</td><td>65000.0</td><td>NY</td><td>100xx</td><td>USA</td><td>B</td><td>B5</td><td>Not Verified</td><td>null</td><td>Individual</td><td>null</td><td>null</td></tr>\n",
       "<tr><td>cf5f3e25690264e2f...</td><td>double barrel env...</td><td>2 years</td><td>MORTGAGE</td><td>48000.0</td><td>CA</td><td>933xx</td><td>USA</td><td>B</td><td>B5</td><td>Not Verified</td><td>null</td><td>Individual</td><td>null</td><td>null</td></tr>\n",
       "<tr><td>c3c8ed21681fdf8c1...</td><td>e-Dialog</td><td>3 years</td><td>MORTGAGE</td><td>68500.0</td><td>MA</td><td>021xx</td><td>USA</td><td>D</td><td>D4</td><td>Not Verified</td><td>null</td><td>Individual</td><td>null</td><td>null</td></tr>\n",
       "<tr><td>d01624b43a8b3d161...</td><td>City of Hialeah</td><td>10+ years</td><td>MORTGAGE</td><td>80000.0</td><td>FL</td><td>331xx</td><td>USA</td><td>D</td><td>D3</td><td>Not Verified</td><td>null</td><td>Individual</td><td>null</td><td>null</td></tr>\n",
       "<tr><td>ab0496cfe8100126c...</td><td>AARP Services</td><td>4 years</td><td>MORTGAGE</td><td>120000.0</td><td>VA</td><td>201xx</td><td>USA</td><td>D</td><td>D5</td><td>Verified</td><td>null</td><td>Individual</td><td>null</td><td>null</td></tr>\n",
       "<tr><td>4c30427b6fbbf6525...</td><td>Madison Square Ga...</td><td>3 years</td><td>RENT</td><td>70000.0</td><td>NJ</td><td>070xx</td><td>USA</td><td>B</td><td>B5</td><td>Verified</td><td>null</td><td>Individual</td><td>null</td><td>null</td></tr>\n",
       "<tr><td>557b10506829ffcaf...</td><td>Brookland-Cayce High</td><td>5 years</td><td>MORTGAGE</td><td>48000.0</td><td>SC</td><td>291xx</td><td>USA</td><td>C</td><td>C2</td><td>Verified</td><td>null</td><td>Individual</td><td>null</td><td>null</td></tr>\n",
       "<tr><td>b72cae3368f9c7ec8...</td><td>Canyon Independen...</td><td>4 years</td><td>MORTGAGE</td><td>40900.0</td><td>TX</td><td>790xx</td><td>USA</td><td>D</td><td>D4</td><td>Not Verified</td><td>null</td><td>Individual</td><td>null</td><td>null</td></tr>\n",
       "<tr><td>2b92b3ff9ed109fb1...</td><td>Pencor Services</td><td>10+ years</td><td>RENT</td><td>53591.0</td><td>PA</td><td>182xx</td><td>USA</td><td>D</td><td>D2</td><td>Not Verified</td><td>null</td><td>Individual</td><td>null</td><td>null</td></tr>\n",
       "<tr><td>b5c5b9fd47bd2ed6c...</td><td>HNTB Corporation</td><td>5 years</td><td>RENT</td><td>52582.0</td><td>TX</td><td>786xx</td><td>USA</td><td>B</td><td>B3</td><td>Not Verified</td><td>null</td><td>Individual</td><td>null</td><td>null</td></tr>\n",
       "<tr><td>c9c26daf82a214860...</td><td>MediMedia U.S.A.</td><td>10+ years</td><td>MORTGAGE</td><td>425000.0</td><td>educational</td><td>then next perhaps...</td><td>USA</td><td>A</td><td>A5</td><td>Not Verified</td><td>null</td><td>0.0</td><td>null</td><td>Individual</td></tr>\n",
       "<tr><td>b4870eb681e74c27b...</td><td>Purcell Associates</td><td>3 years</td><td>RENT</td><td>53040.0</td><td>CT</td><td>060xx</td><td>USA</td><td>B</td><td>B1</td><td>Not Verified</td><td>null</td><td>Individual</td><td>null</td><td>null</td></tr>\n",
       "<tr><td>4636a1f9103f6ea9c...</td><td>State Of New Hamp...</td><td>2 years</td><td>RENT</td><td>37920.0</td><td>NH</td><td>037xx</td><td>USA</td><td>C</td><td>C3</td><td>Not Verified</td><td>null</td><td>Individual</td><td>null</td><td>null</td></tr>\n",
       "<tr><td>5aff8b80c1f7e6c42...</td><td>mBank</td><td>&lt; 1 year</td><td>RENT</td><td>60000.0</td><td>MA</td><td>498xx</td><td>USA</td><td>D</td><td>D2</td><td>Not Verified</td><td>null</td><td>Individual</td><td>null</td><td>null</td></tr>\n",
       "<tr><td>610148b882e494503...</td><td>Boston Medical Ce...</td><td>3 years</td><td>MORTGAGE</td><td>75000.0</td><td>MA</td><td>021xx</td><td>USA</td><td>C</td><td>C4</td><td>Not Verified</td><td>null</td><td>Individual</td><td>null</td><td>null</td></tr>\n",
       "</table>\n",
       "only showing top 20 rows\n"
      ],
      "text/plain": [
       "+--------------------+--------------------+----------+--------------+-------------+-------------+--------------------+---------------+-----+---------+-------------------+---------------+----------------+-------------------+-------------------------+\n",
       "|           member_id|           emp_title|emp_length|home_ownership|annual_income|address_state|     address_zipcode|address_country|grade|sub_grade|verification_status|tot_hi_cred_lim|application_type|joint_annual_income|verification_status_joint|\n",
       "+--------------------+--------------------+----------+--------------+-------------+-------------+--------------------+---------------+-----+---------+-------------------+---------------+----------------+-------------------+-------------------------+\n",
       "|bbf87639f02df9e0f...|Crothall Services...|   3 years|          RENT|      28685.0|           NY|               104xx|            USA|    C|       C1|       Not Verified|           null|      Individual|               null|                     null|\n",
       "|1166edd4433e2c5e6...|          PharMerica|    1 year|          RENT|     111000.0|           TX|               757xx|            USA|    B|       B3|       Not Verified|           null|      Individual|               null|                     null|\n",
       "|85ac408940a41c483...|Robert Half Inter...|   3 years|          RENT|      38000.0|           CA|               956xx|            USA|    A|       A5|       Not Verified|           null|      Individual|               null|                     null|\n",
       "|b967e90649c13df8c...|             walmart|   2 years|          RENT|      17000.0|           NY|               130xx|            USA|    D|       D1|       Not Verified|           null|      Individual|               null|                     null|\n",
       "|cf201bf3b979cc53f...|            Delloite| 10+ years|      MORTGAGE|     500000.0|           GA|               300xx|            USA|    C|       C4|       Not Verified|           null|      Individual|               null|                     null|\n",
       "|fc5352bf3df1141df...|Hightower Investm...|   3 years|           OWN|      65000.0|           NY|               100xx|            USA|    B|       B5|       Not Verified|           null|      Individual|               null|                     null|\n",
       "|cf5f3e25690264e2f...|double barrel env...|   2 years|      MORTGAGE|      48000.0|           CA|               933xx|            USA|    B|       B5|       Not Verified|           null|      Individual|               null|                     null|\n",
       "|c3c8ed21681fdf8c1...|            e-Dialog|   3 years|      MORTGAGE|      68500.0|           MA|               021xx|            USA|    D|       D4|       Not Verified|           null|      Individual|               null|                     null|\n",
       "|d01624b43a8b3d161...|     City of Hialeah| 10+ years|      MORTGAGE|      80000.0|           FL|               331xx|            USA|    D|       D3|       Not Verified|           null|      Individual|               null|                     null|\n",
       "|ab0496cfe8100126c...|       AARP Services|   4 years|      MORTGAGE|     120000.0|           VA|               201xx|            USA|    D|       D5|           Verified|           null|      Individual|               null|                     null|\n",
       "|4c30427b6fbbf6525...|Madison Square Ga...|   3 years|          RENT|      70000.0|           NJ|               070xx|            USA|    B|       B5|           Verified|           null|      Individual|               null|                     null|\n",
       "|557b10506829ffcaf...|Brookland-Cayce High|   5 years|      MORTGAGE|      48000.0|           SC|               291xx|            USA|    C|       C2|           Verified|           null|      Individual|               null|                     null|\n",
       "|b72cae3368f9c7ec8...|Canyon Independen...|   4 years|      MORTGAGE|      40900.0|           TX|               790xx|            USA|    D|       D4|       Not Verified|           null|      Individual|               null|                     null|\n",
       "|2b92b3ff9ed109fb1...|     Pencor Services| 10+ years|          RENT|      53591.0|           PA|               182xx|            USA|    D|       D2|       Not Verified|           null|      Individual|               null|                     null|\n",
       "|b5c5b9fd47bd2ed6c...|    HNTB Corporation|   5 years|          RENT|      52582.0|           TX|               786xx|            USA|    B|       B3|       Not Verified|           null|      Individual|               null|                     null|\n",
       "|c9c26daf82a214860...|    MediMedia U.S.A.| 10+ years|      MORTGAGE|     425000.0|  educational|then next perhaps...|            USA|    A|       A5|       Not Verified|           null|             0.0|               null|               Individual|\n",
       "|b4870eb681e74c27b...|  Purcell Associates|   3 years|          RENT|      53040.0|           CT|               060xx|            USA|    B|       B1|       Not Verified|           null|      Individual|               null|                     null|\n",
       "|4636a1f9103f6ea9c...|State Of New Hamp...|   2 years|          RENT|      37920.0|           NH|               037xx|            USA|    C|       C3|       Not Verified|           null|      Individual|               null|                     null|\n",
       "|5aff8b80c1f7e6c42...|               mBank|  < 1 year|          RENT|      60000.0|           MA|               498xx|            USA|    D|       D2|       Not Verified|           null|      Individual|               null|                     null|\n",
       "|610148b882e494503...|Boston Medical Ce...|   3 years|      MORTGAGE|      75000.0|           MA|               021xx|            USA|    C|       C4|       Not Verified|           null|      Individual|               null|                     null|\n",
       "+--------------------+--------------------+----------+--------------+-------------+-------------+--------------------+---------------+-----+---------+-------------------+---------------+----------------+-------------------+-------------------------+\n",
       "only showing top 20 rows"
      ]
     },
     "execution_count": 8,
     "metadata": {},
     "output_type": "execute_result"
    }
   ],
   "source": [
    "customers_renamed_df"
   ]
  },
  {
   "cell_type": "code",
   "execution_count": 9,
   "id": "28bedba7",
   "metadata": {},
   "outputs": [],
   "source": [
    "from pyspark.sql.functions import current_timestamp\n",
    "customers_df_with_ingest_date = customers_renamed_df.withColumn(\"ingest_date\", current_timestamp())"
   ]
  },
  {
   "cell_type": "code",
   "execution_count": 10,
   "id": "b0c66308",
   "metadata": {},
   "outputs": [
    {
     "data": {
      "text/html": [
       "<table border='1'>\n",
       "<tr><th>member_id</th><th>emp_title</th><th>emp_length</th><th>home_ownership</th><th>annual_income</th><th>address_state</th><th>address_zipcode</th><th>address_country</th><th>grade</th><th>sub_grade</th><th>verification_status</th><th>tot_hi_cred_lim</th><th>application_type</th><th>joint_annual_income</th><th>verification_status_joint</th><th>ingest_date</th></tr>\n",
       "<tr><td>bbf87639f02df9e0f...</td><td>Crothall Services...</td><td>3 years</td><td>RENT</td><td>28685.0</td><td>NY</td><td>104xx</td><td>USA</td><td>C</td><td>C1</td><td>Not Verified</td><td>null</td><td>Individual</td><td>null</td><td>null</td><td>2024-12-12 10:14:...</td></tr>\n",
       "<tr><td>1166edd4433e2c5e6...</td><td>PharMerica</td><td>1 year</td><td>RENT</td><td>111000.0</td><td>TX</td><td>757xx</td><td>USA</td><td>B</td><td>B3</td><td>Not Verified</td><td>null</td><td>Individual</td><td>null</td><td>null</td><td>2024-12-12 10:14:...</td></tr>\n",
       "<tr><td>85ac408940a41c483...</td><td>Robert Half Inter...</td><td>3 years</td><td>RENT</td><td>38000.0</td><td>CA</td><td>956xx</td><td>USA</td><td>A</td><td>A5</td><td>Not Verified</td><td>null</td><td>Individual</td><td>null</td><td>null</td><td>2024-12-12 10:14:...</td></tr>\n",
       "<tr><td>b967e90649c13df8c...</td><td>walmart</td><td>2 years</td><td>RENT</td><td>17000.0</td><td>NY</td><td>130xx</td><td>USA</td><td>D</td><td>D1</td><td>Not Verified</td><td>null</td><td>Individual</td><td>null</td><td>null</td><td>2024-12-12 10:14:...</td></tr>\n",
       "<tr><td>cf201bf3b979cc53f...</td><td>Delloite</td><td>10+ years</td><td>MORTGAGE</td><td>500000.0</td><td>GA</td><td>300xx</td><td>USA</td><td>C</td><td>C4</td><td>Not Verified</td><td>null</td><td>Individual</td><td>null</td><td>null</td><td>2024-12-12 10:14:...</td></tr>\n",
       "<tr><td>fc5352bf3df1141df...</td><td>Hightower Investm...</td><td>3 years</td><td>OWN</td><td>65000.0</td><td>NY</td><td>100xx</td><td>USA</td><td>B</td><td>B5</td><td>Not Verified</td><td>null</td><td>Individual</td><td>null</td><td>null</td><td>2024-12-12 10:14:...</td></tr>\n",
       "<tr><td>cf5f3e25690264e2f...</td><td>double barrel env...</td><td>2 years</td><td>MORTGAGE</td><td>48000.0</td><td>CA</td><td>933xx</td><td>USA</td><td>B</td><td>B5</td><td>Not Verified</td><td>null</td><td>Individual</td><td>null</td><td>null</td><td>2024-12-12 10:14:...</td></tr>\n",
       "<tr><td>c3c8ed21681fdf8c1...</td><td>e-Dialog</td><td>3 years</td><td>MORTGAGE</td><td>68500.0</td><td>MA</td><td>021xx</td><td>USA</td><td>D</td><td>D4</td><td>Not Verified</td><td>null</td><td>Individual</td><td>null</td><td>null</td><td>2024-12-12 10:14:...</td></tr>\n",
       "<tr><td>d01624b43a8b3d161...</td><td>City of Hialeah</td><td>10+ years</td><td>MORTGAGE</td><td>80000.0</td><td>FL</td><td>331xx</td><td>USA</td><td>D</td><td>D3</td><td>Not Verified</td><td>null</td><td>Individual</td><td>null</td><td>null</td><td>2024-12-12 10:14:...</td></tr>\n",
       "<tr><td>ab0496cfe8100126c...</td><td>AARP Services</td><td>4 years</td><td>MORTGAGE</td><td>120000.0</td><td>VA</td><td>201xx</td><td>USA</td><td>D</td><td>D5</td><td>Verified</td><td>null</td><td>Individual</td><td>null</td><td>null</td><td>2024-12-12 10:14:...</td></tr>\n",
       "<tr><td>4c30427b6fbbf6525...</td><td>Madison Square Ga...</td><td>3 years</td><td>RENT</td><td>70000.0</td><td>NJ</td><td>070xx</td><td>USA</td><td>B</td><td>B5</td><td>Verified</td><td>null</td><td>Individual</td><td>null</td><td>null</td><td>2024-12-12 10:14:...</td></tr>\n",
       "<tr><td>557b10506829ffcaf...</td><td>Brookland-Cayce High</td><td>5 years</td><td>MORTGAGE</td><td>48000.0</td><td>SC</td><td>291xx</td><td>USA</td><td>C</td><td>C2</td><td>Verified</td><td>null</td><td>Individual</td><td>null</td><td>null</td><td>2024-12-12 10:14:...</td></tr>\n",
       "<tr><td>b72cae3368f9c7ec8...</td><td>Canyon Independen...</td><td>4 years</td><td>MORTGAGE</td><td>40900.0</td><td>TX</td><td>790xx</td><td>USA</td><td>D</td><td>D4</td><td>Not Verified</td><td>null</td><td>Individual</td><td>null</td><td>null</td><td>2024-12-12 10:14:...</td></tr>\n",
       "<tr><td>2b92b3ff9ed109fb1...</td><td>Pencor Services</td><td>10+ years</td><td>RENT</td><td>53591.0</td><td>PA</td><td>182xx</td><td>USA</td><td>D</td><td>D2</td><td>Not Verified</td><td>null</td><td>Individual</td><td>null</td><td>null</td><td>2024-12-12 10:14:...</td></tr>\n",
       "<tr><td>b5c5b9fd47bd2ed6c...</td><td>HNTB Corporation</td><td>5 years</td><td>RENT</td><td>52582.0</td><td>TX</td><td>786xx</td><td>USA</td><td>B</td><td>B3</td><td>Not Verified</td><td>null</td><td>Individual</td><td>null</td><td>null</td><td>2024-12-12 10:14:...</td></tr>\n",
       "<tr><td>c9c26daf82a214860...</td><td>MediMedia U.S.A.</td><td>10+ years</td><td>MORTGAGE</td><td>425000.0</td><td>educational</td><td>then next perhaps...</td><td>USA</td><td>A</td><td>A5</td><td>Not Verified</td><td>null</td><td>0.0</td><td>null</td><td>Individual</td><td>2024-12-12 10:14:...</td></tr>\n",
       "<tr><td>b4870eb681e74c27b...</td><td>Purcell Associates</td><td>3 years</td><td>RENT</td><td>53040.0</td><td>CT</td><td>060xx</td><td>USA</td><td>B</td><td>B1</td><td>Not Verified</td><td>null</td><td>Individual</td><td>null</td><td>null</td><td>2024-12-12 10:14:...</td></tr>\n",
       "<tr><td>4636a1f9103f6ea9c...</td><td>State Of New Hamp...</td><td>2 years</td><td>RENT</td><td>37920.0</td><td>NH</td><td>037xx</td><td>USA</td><td>C</td><td>C3</td><td>Not Verified</td><td>null</td><td>Individual</td><td>null</td><td>null</td><td>2024-12-12 10:14:...</td></tr>\n",
       "<tr><td>5aff8b80c1f7e6c42...</td><td>mBank</td><td>&lt; 1 year</td><td>RENT</td><td>60000.0</td><td>MA</td><td>498xx</td><td>USA</td><td>D</td><td>D2</td><td>Not Verified</td><td>null</td><td>Individual</td><td>null</td><td>null</td><td>2024-12-12 10:14:...</td></tr>\n",
       "<tr><td>610148b882e494503...</td><td>Boston Medical Ce...</td><td>3 years</td><td>MORTGAGE</td><td>75000.0</td><td>MA</td><td>021xx</td><td>USA</td><td>C</td><td>C4</td><td>Not Verified</td><td>null</td><td>Individual</td><td>null</td><td>null</td><td>2024-12-12 10:14:...</td></tr>\n",
       "</table>\n",
       "only showing top 20 rows\n"
      ],
      "text/plain": [
       "+--------------------+--------------------+----------+--------------+-------------+-------------+--------------------+---------------+-----+---------+-------------------+---------------+----------------+-------------------+-------------------------+--------------------+\n",
       "|           member_id|           emp_title|emp_length|home_ownership|annual_income|address_state|     address_zipcode|address_country|grade|sub_grade|verification_status|tot_hi_cred_lim|application_type|joint_annual_income|verification_status_joint|         ingest_date|\n",
       "+--------------------+--------------------+----------+--------------+-------------+-------------+--------------------+---------------+-----+---------+-------------------+---------------+----------------+-------------------+-------------------------+--------------------+\n",
       "|bbf87639f02df9e0f...|Crothall Services...|   3 years|          RENT|      28685.0|           NY|               104xx|            USA|    C|       C1|       Not Verified|           null|      Individual|               null|                     null|2024-12-12 10:14:...|\n",
       "|1166edd4433e2c5e6...|          PharMerica|    1 year|          RENT|     111000.0|           TX|               757xx|            USA|    B|       B3|       Not Verified|           null|      Individual|               null|                     null|2024-12-12 10:14:...|\n",
       "|85ac408940a41c483...|Robert Half Inter...|   3 years|          RENT|      38000.0|           CA|               956xx|            USA|    A|       A5|       Not Verified|           null|      Individual|               null|                     null|2024-12-12 10:14:...|\n",
       "|b967e90649c13df8c...|             walmart|   2 years|          RENT|      17000.0|           NY|               130xx|            USA|    D|       D1|       Not Verified|           null|      Individual|               null|                     null|2024-12-12 10:14:...|\n",
       "|cf201bf3b979cc53f...|            Delloite| 10+ years|      MORTGAGE|     500000.0|           GA|               300xx|            USA|    C|       C4|       Not Verified|           null|      Individual|               null|                     null|2024-12-12 10:14:...|\n",
       "|fc5352bf3df1141df...|Hightower Investm...|   3 years|           OWN|      65000.0|           NY|               100xx|            USA|    B|       B5|       Not Verified|           null|      Individual|               null|                     null|2024-12-12 10:14:...|\n",
       "|cf5f3e25690264e2f...|double barrel env...|   2 years|      MORTGAGE|      48000.0|           CA|               933xx|            USA|    B|       B5|       Not Verified|           null|      Individual|               null|                     null|2024-12-12 10:14:...|\n",
       "|c3c8ed21681fdf8c1...|            e-Dialog|   3 years|      MORTGAGE|      68500.0|           MA|               021xx|            USA|    D|       D4|       Not Verified|           null|      Individual|               null|                     null|2024-12-12 10:14:...|\n",
       "|d01624b43a8b3d161...|     City of Hialeah| 10+ years|      MORTGAGE|      80000.0|           FL|               331xx|            USA|    D|       D3|       Not Verified|           null|      Individual|               null|                     null|2024-12-12 10:14:...|\n",
       "|ab0496cfe8100126c...|       AARP Services|   4 years|      MORTGAGE|     120000.0|           VA|               201xx|            USA|    D|       D5|           Verified|           null|      Individual|               null|                     null|2024-12-12 10:14:...|\n",
       "|4c30427b6fbbf6525...|Madison Square Ga...|   3 years|          RENT|      70000.0|           NJ|               070xx|            USA|    B|       B5|           Verified|           null|      Individual|               null|                     null|2024-12-12 10:14:...|\n",
       "|557b10506829ffcaf...|Brookland-Cayce High|   5 years|      MORTGAGE|      48000.0|           SC|               291xx|            USA|    C|       C2|           Verified|           null|      Individual|               null|                     null|2024-12-12 10:14:...|\n",
       "|b72cae3368f9c7ec8...|Canyon Independen...|   4 years|      MORTGAGE|      40900.0|           TX|               790xx|            USA|    D|       D4|       Not Verified|           null|      Individual|               null|                     null|2024-12-12 10:14:...|\n",
       "|2b92b3ff9ed109fb1...|     Pencor Services| 10+ years|          RENT|      53591.0|           PA|               182xx|            USA|    D|       D2|       Not Verified|           null|      Individual|               null|                     null|2024-12-12 10:14:...|\n",
       "|b5c5b9fd47bd2ed6c...|    HNTB Corporation|   5 years|          RENT|      52582.0|           TX|               786xx|            USA|    B|       B3|       Not Verified|           null|      Individual|               null|                     null|2024-12-12 10:14:...|\n",
       "|c9c26daf82a214860...|    MediMedia U.S.A.| 10+ years|      MORTGAGE|     425000.0|  educational|then next perhaps...|            USA|    A|       A5|       Not Verified|           null|             0.0|               null|               Individual|2024-12-12 10:14:...|\n",
       "|b4870eb681e74c27b...|  Purcell Associates|   3 years|          RENT|      53040.0|           CT|               060xx|            USA|    B|       B1|       Not Verified|           null|      Individual|               null|                     null|2024-12-12 10:14:...|\n",
       "|4636a1f9103f6ea9c...|State Of New Hamp...|   2 years|          RENT|      37920.0|           NH|               037xx|            USA|    C|       C3|       Not Verified|           null|      Individual|               null|                     null|2024-12-12 10:14:...|\n",
       "|5aff8b80c1f7e6c42...|               mBank|  < 1 year|          RENT|      60000.0|           MA|               498xx|            USA|    D|       D2|       Not Verified|           null|      Individual|               null|                     null|2024-12-12 10:14:...|\n",
       "|610148b882e494503...|Boston Medical Ce...|   3 years|      MORTGAGE|      75000.0|           MA|               021xx|            USA|    C|       C4|       Not Verified|           null|      Individual|               null|                     null|2024-12-12 10:14:...|\n",
       "+--------------------+--------------------+----------+--------------+-------------+-------------+--------------------+---------------+-----+---------+-------------------+---------------+----------------+-------------------+-------------------------+--------------------+\n",
       "only showing top 20 rows"
      ]
     },
     "execution_count": 10,
     "metadata": {},
     "output_type": "execute_result"
    }
   ],
   "source": [
    "customers_df_with_ingest_date"
   ]
  },
  {
   "cell_type": "code",
   "execution_count": 11,
   "id": "00c9f0ed",
   "metadata": {},
   "outputs": [
    {
     "data": {
      "text/plain": [
       "2260701"
      ]
     },
     "execution_count": 11,
     "metadata": {},
     "output_type": "execute_result"
    }
   ],
   "source": [
    "customers_df_with_ingest_date.count()"
   ]
  },
  {
   "cell_type": "code",
   "execution_count": 12,
   "id": "1295c838",
   "metadata": {},
   "outputs": [],
   "source": [
    "customers_distinct = customers_df_with_ingest_date.distinct()"
   ]
  },
  {
   "cell_type": "code",
   "execution_count": 13,
   "id": "8823b74a",
   "metadata": {},
   "outputs": [],
   "source": [
    "customers_distinct.createOrReplaceTempView(\"customers\")"
   ]
  },
  {
   "cell_type": "code",
   "execution_count": 14,
   "id": "b26ba29a",
   "metadata": {},
   "outputs": [
    {
     "data": {
      "text/html": [
       "<table border='1'>\n",
       "<tr><th>member_id</th><th>emp_title</th><th>emp_length</th><th>home_ownership</th><th>annual_income</th><th>address_state</th><th>address_zipcode</th><th>address_country</th><th>grade</th><th>sub_grade</th><th>verification_status</th><th>tot_hi_cred_lim</th><th>application_type</th><th>joint_annual_income</th><th>verification_status_joint</th><th>ingest_date</th></tr>\n",
       "<tr><td>3cf9329afc524db70...</td><td>The Medicine Shoppe</td><td>4 years</td><td>OWN</td><td>15000.0</td><td>CA</td><td>930xx</td><td>USA</td><td>B</td><td>B4</td><td>Not Verified</td><td>null</td><td>Individual</td><td>null</td><td>null</td><td>2024-12-12 10:14:...</td></tr>\n",
       "<tr><td>1a4da9f27d4b476e5...</td><td>GTS</td><td>&lt; 1 year</td><td>MORTGAGE</td><td>43680.0</td><td>IL</td><td>601xx</td><td>USA</td><td>C</td><td>C2</td><td>Not Verified</td><td>null</td><td>Individual</td><td>null</td><td>null</td><td>2024-12-12 10:14:...</td></tr>\n",
       "<tr><td>9985708558f0dd08b...</td><td>Lanai High &amp; Elem...</td><td>8 years</td><td>RENT</td><td>15000.0</td><td>HI</td><td>967xx</td><td>USA</td><td>C</td><td>C2</td><td>Not Verified</td><td>null</td><td>Individual</td><td>null</td><td>null</td><td>2024-12-12 10:14:...</td></tr>\n",
       "<tr><td>5d12019fc2f2e29dc...</td><td>Sensis Corporation</td><td>2 years</td><td>RENT</td><td>103241.0</td><td>NY</td><td>132xx</td><td>USA</td><td>B</td><td>B1</td><td>Not Verified</td><td>null</td><td>Individual</td><td>null</td><td>null</td><td>2024-12-12 10:14:...</td></tr>\n",
       "<tr><td>65edbeffa728c7912...</td><td>Temecula Creek Ch...</td><td>3 years</td><td>RENT</td><td>42000.0</td><td>CA</td><td>925xx</td><td>USA</td><td>C</td><td>C3</td><td>Not Verified</td><td>null</td><td>Individual</td><td>null</td><td>null</td><td>2024-12-12 10:14:...</td></tr>\n",
       "<tr><td>59c539d9f9252c012...</td><td>null</td><td>&lt; 1 year</td><td>MORTGAGE</td><td>67500.0</td><td>324xx</td><td>Trying P2P Borrowing</td><td>USA</td><td>A</td><td>A2</td><td>Not Verified</td><td>0.0</td><td>1.0</td><td>null</td><td>null</td><td>2024-12-12 10:14:...</td></tr>\n",
       "<tr><td>33d891bc01647cc23...</td><td>Brandon Harley Da...</td><td>4 years</td><td>RENT</td><td>384000.0</td><td>FL</td><td>335xx</td><td>USA</td><td>E</td><td>E2</td><td>Not Verified</td><td>null</td><td>Individual</td><td>null</td><td>null</td><td>2024-12-12 10:14:...</td></tr>\n",
       "<tr><td>8b38830b3b0fe63ac...</td><td>BuckleySandler LLP</td><td>4 years</td><td>OWN</td><td>170000.0</td><td>MD</td><td>208xx</td><td>USA</td><td>B</td><td>B5</td><td>Not Verified</td><td>null</td><td>Individual</td><td>null</td><td>null</td><td>2024-12-12 10:14:...</td></tr>\n",
       "<tr><td>24a3fbb044a3ff34a...</td><td>American Public M...</td><td>&lt; 1 year</td><td>RENT</td><td>65000.0</td><td>MN</td><td>554xx</td><td>USA</td><td>F</td><td>F3</td><td>Not Verified</td><td>null</td><td>Individual</td><td>null</td><td>null</td><td>2024-12-12 10:14:...</td></tr>\n",
       "<tr><td>2bd27580b51910f20...</td><td>null</td><td>1 year</td><td>RENT</td><td>32000.0</td><td>TX</td><td>775xx</td><td>USA</td><td>A</td><td>A4</td><td>Not Verified</td><td>null</td><td>Individual</td><td>null</td><td>null</td><td>2024-12-12 10:14:...</td></tr>\n",
       "<tr><td>695617c136614500f...</td><td>Hylant Group</td><td>8 years</td><td>RENT</td><td>71015.04</td><td>OH</td><td>432xx</td><td>USA</td><td>B</td><td>B1</td><td>Not Verified</td><td>null</td><td>Individual</td><td>null</td><td>null</td><td>2024-12-12 10:14:...</td></tr>\n",
       "<tr><td>aecc19612cb4cb99c...</td><td>American Health C...</td><td>8 years</td><td>MORTGAGE</td><td>82000.0</td><td>MD</td><td>217xx</td><td>USA</td><td>C</td><td>C3</td><td>Not Verified</td><td>null</td><td>Individual</td><td>null</td><td>null</td><td>2024-12-12 10:14:...</td></tr>\n",
       "<tr><td>bc87f4ce6f1c6b588...</td><td>Vibe Teacher Recr...</td><td>&lt; 1 year</td><td>RENT</td><td>30000.0</td><td>SC</td><td>272xx</td><td>USA</td><td>B</td><td>B4</td><td>Not Verified</td><td>null</td><td>Individual</td><td>null</td><td>null</td><td>2024-12-12 10:14:...</td></tr>\n",
       "<tr><td>54fa5f237d327d68c...</td><td>NY Garage Doors Inc.</td><td>&lt; 1 year</td><td>RENT</td><td>36000.0</td><td>NY</td><td>112xx</td><td>USA</td><td>D</td><td>D4</td><td>Not Verified</td><td>null</td><td>Individual</td><td>null</td><td>null</td><td>2024-12-12 10:14:...</td></tr>\n",
       "<tr><td>6e98a93a5d645264f...</td><td>Gordy&#x27;s Courier S...</td><td>4 years</td><td>MORTGAGE</td><td>98240.0</td><td>OR</td><td>974xx</td><td>USA</td><td>E</td><td>E1</td><td>Not Verified</td><td>null</td><td>Individual</td><td>null</td><td>null</td><td>2024-12-12 10:14:...</td></tr>\n",
       "<tr><td>17c0476f921d908b3...</td><td>State Compensatio...</td><td>7 years</td><td>RENT</td><td>48000.0</td><td>CA</td><td>900xx</td><td>USA</td><td>A</td><td>A4</td><td>Not Verified</td><td>null</td><td>Individual</td><td>null</td><td>null</td><td>2024-12-12 10:14:...</td></tr>\n",
       "<tr><td>cde35ed5fdabc4fb8...</td><td>Self Employed</td><td>7 years</td><td>MORTGAGE</td><td>28000.0</td><td>but not to my sat...</td><td>they did</td><td>USA</td><td>A</td><td>A3</td><td>Not Verified</td><td>null</td><td>720.0</td><td>0.0</td><td>1.0</td><td>2024-12-12 10:14:...</td></tr>\n",
       "<tr><td>379065bdab9b01c6b...</td><td>Self-Employed</td><td>5 years</td><td>RENT</td><td>31200.0</td><td>AZ</td><td>857xx</td><td>USA</td><td>B</td><td>B3</td><td>Verified</td><td>null</td><td>Individual</td><td>null</td><td>null</td><td>2024-12-12 10:14:...</td></tr>\n",
       "<tr><td>8222f29690313b690...</td><td>Chaffey Joint Uni...</td><td>4 years</td><td>RENT</td><td>70000.0</td><td>CA</td><td>917xx</td><td>USA</td><td>A</td><td>A5</td><td>Not Verified</td><td>null</td><td>Individual</td><td>null</td><td>null</td><td>2024-12-12 10:14:...</td></tr>\n",
       "<tr><td>00c03c97e3d43385c...</td><td>Startek</td><td>1 year</td><td>MORTGAGE</td><td>79000.0</td><td>CO</td><td>801xx</td><td>USA</td><td>A</td><td>A4</td><td>Verified</td><td>null</td><td>Individual</td><td>null</td><td>null</td><td>2024-12-12 10:14:...</td></tr>\n",
       "</table>\n",
       "only showing top 20 rows\n"
      ],
      "text/plain": [
       "+--------------------+--------------------+----------+--------------+-------------+-------------+---------------+---------------+-----+---------+-------------------+---------------+----------------+-------------------+-------------------------+--------------------+\n",
       "|           member_id|           emp_title|emp_length|home_ownership|annual_income|address_state|address_zipcode|address_country|grade|sub_grade|verification_status|tot_hi_cred_lim|application_type|joint_annual_income|verification_status_joint|         ingest_date|\n",
       "+--------------------+--------------------+----------+--------------+-------------+-------------+---------------+---------------+-----+---------+-------------------+---------------+----------------+-------------------+-------------------------+--------------------+\n",
       "|1166edd4433e2c5e6...|          PharMerica|    1 year|          RENT|     111000.0|           TX|          757xx|            USA|    B|       B3|       Not Verified|           null|      Individual|               null|                     null|2024-12-12 10:14:...|\n",
       "|0d9a27b48c3738012...|      MMD Components|   7 years|      MORTGAGE|      55680.0|           CA|          925xx|            USA|    C|       C1|       Not Verified|           null|      Individual|               null|                     null|2024-12-12 10:14:...|\n",
       "|6d78d8ad6164a31d2...|                null|      null|           OWN|      32400.0|           TX|          775xx|            USA|    B|       B3|       Not Verified|           null|      Individual|               null|                     null|2024-12-12 10:14:...|\n",
       "|a0dffc77c9fbf11a3...|                 IBM|   3 years|          RENT|     132250.0|           CA|          940xx|            USA|    D|       D4|       Not Verified|           null|      Individual|               null|                     null|2024-12-12 10:14:...|\n",
       "|be2df801144b559d3...|advanced fabrication|   5 years|      MORTGAGE|     150000.0|           CA|          933xx|            USA|    A|       A5|       Not Verified|           null|      Individual|               null|                     null|2024-12-12 10:14:...|\n",
       "|b3762a7e920a20ecc...|         Tiny Prints|   2 years|      MORTGAGE|      85000.0|           CA|          951xx|            USA|    A|       A5|       Not Verified|           null|      Individual|               null|                     null|2024-12-12 10:14:...|\n",
       "|06e8ed2d77d956f17...|Desert Plumbing a...|   2 years|          RENT|      78000.0|           NV|          891xx|            USA|    B|       B4|           Verified|           null|      Individual|               null|                     null|2024-12-12 10:14:...|\n",
       "|1ac636cf0f4abf7f1...|    General Dynamics|   3 years|      MORTGAGE|      72600.0|           PA|          152xx|            USA|    A|       A3|           Verified|           null|      Individual|               null|                     null|2024-12-12 10:14:...|\n",
       "|166eb480fa7dbca9c...|       community ems|  < 1 year|          RENT|      65000.0|           MI|          483xx|            USA|    E|       E1|       Not Verified|           null|      Individual|               null|                     null|2024-12-12 10:14:...|\n",
       "|e9d2e9f44d032f7f2...|                null|  < 1 year|          RENT|     38200.08|           NJ|          076xx|            USA|    A|       A5|       Not Verified|           null|      Individual|               null|                     null|2024-12-12 10:14:...|\n",
       "|5a37f73114b81e1d7...|    SOUTH BAY MOTORS|   4 years|          RENT|      60000.0|           CA|          902xx|            USA|    E|       E1|       Not Verified|           null|      Individual|               null|                     null|2024-12-12 10:14:...|\n",
       "|b58cdb8f13a123e8e...|                null| 10+ years|      MORTGAGE|      48000.0|           VA|          234xx|            USA|    B|       B4|       Not Verified|           null|      Individual|               null|                     null|2024-12-12 10:14:...|\n",
       "|6c988f41cc6041f0e...|National Orthodon...|   3 years|          RENT|     190000.0|           TX|          784xx|            USA|    B|       B2|       Not Verified|           null|      Individual|               null|                     null|2024-12-12 10:14:...|\n",
       "|650a7a10815152287...|     Supreme Lending|   4 years|      MORTGAGE|     100000.0|           TX|          750xx|            USA|    B|       B2|           Verified|           null|      Individual|               null|                     null|2024-12-12 10:14:...|\n",
       "|08296076effbc1625...|Floyd County Boar...|   7 years|      MORTGAGE|      54000.0|           GA|          301xx|            USA|    A|       A5|       Not Verified|           null|      Individual|               null|                     null|2024-12-12 10:14:...|\n",
       "|ba75bfbb8688ce475...|          XL Capital|   2 years|      MORTGAGE|      75000.0|           PA|          194xx|            USA|    B|       B4|    Source Verified|           null|      Individual|               null|                     null|2024-12-12 10:14:...|\n",
       "|380b05ed6571cd0cd...| Green River Capital|  < 1 year|          RENT|      46000.0|           UT|          840xx|            USA|    D|       D5|       Not Verified|           null|      Individual|               null|                     null|2024-12-12 10:14:...|\n",
       "|8d73d7a5bd41c58bc...|   Catapult Learning|  < 1 year|      MORTGAGE|     245000.0|           FL|          334xx|            USA|    E|       E4|           Verified|           null|      Individual|               null|                     null|2024-12-12 10:14:...|\n",
       "|dbd373e4ca49f5daa...|Self/Harborview W...|    1 year|          RENT|      40000.0|           CT|          068xx|            USA|    B|       B3|       Not Verified|           null|      Individual|               null|                     null|2024-12-12 10:14:...|\n",
       "|a3eab009f5b5e3e1e...| American Eurocopter|  < 1 year|         OTHER|      79404.0|           VA|          223xx|            USA|    D|       D4|           Verified|           null|      Individual|               null|                     null|2024-12-12 10:14:...|\n",
       "+--------------------+--------------------+----------+--------------+-------------+-------------+---------------+---------------+-----+---------+-------------------+---------------+----------------+-------------------+-------------------------+--------------------+\n",
       "only showing top 20 rows"
      ]
     },
     "execution_count": 14,
     "metadata": {},
     "output_type": "execute_result"
    }
   ],
   "source": [
    "spark.sql(\"select * from customers\")"
   ]
  },
  {
   "cell_type": "code",
   "execution_count": 15,
   "id": "1471b727",
   "metadata": {},
   "outputs": [
    {
     "data": {
      "text/html": [
       "<table border='1'>\n",
       "<tr><th>member_id</th><th>emp_title</th><th>emp_length</th><th>home_ownership</th><th>annual_income</th><th>address_state</th><th>address_zipcode</th><th>address_country</th><th>grade</th><th>sub_grade</th><th>verification_status</th><th>tot_hi_cred_lim</th><th>application_type</th><th>joint_annual_income</th><th>verification_status_joint</th><th>ingest_date</th></tr>\n",
       "<tr><td>392650c3bcd78274d...</td><td>null</td><td>&lt; 1 year</td><td>NONE</td><td>null</td><td>NY</td><td>100xx</td><td>USA</td><td>A</td><td>A3</td><td>Not Verified</td><td>null</td><td>Individual</td><td>null</td><td>null</td><td>2024-12-12 10:15:...</td></tr>\n",
       "<tr><td>6653dca72da571005...</td><td>null</td><td>&lt; 1 year</td><td>NONE</td><td>null</td><td>NY</td><td>100xx</td><td>USA</td><td>A</td><td>A5</td><td>Not Verified</td><td>null</td><td>Individual</td><td>null</td><td>null</td><td>2024-12-12 10:15:...</td></tr>\n",
       "<tr><td>77f5f41c3ddd56543...</td><td>&quot;Coil Winder &quot;&quot;B&quot;&quot;</td><td>reactors&quot;</td><td>2 years</td><td>null</td><td>531xx</td><td>Other</td><td>USA</td><td>B</td><td>B4</td><td>38000.0</td><td>0.0</td><td>1.0</td><td>null</td><td>null</td><td>2024-12-12 10:15:...</td></tr>\n",
       "<tr><td>e3b0c44298fc1c149...</td><td>null</td><td>null</td><td>null</td><td>null</td><td>null</td><td>null</td><td>USA</td><td>null</td><td>null</td><td>null</td><td>null</td><td>null</td><td>null</td><td>null</td><td>2024-12-12 10:15:...</td></tr>\n",
       "<tr><td>6332caa680e7500fb...</td><td>null</td><td>&lt; 1 year</td><td>NONE</td><td>null</td><td>NY</td><td>100xx</td><td>USA</td><td>A</td><td>A2</td><td>Not Verified</td><td>null</td><td>Individual</td><td>null</td><td>null</td><td>2024-12-12 10:15:...</td></tr>\n",
       "</table>\n"
      ],
      "text/plain": [
       "+--------------------+------------------+----------+--------------+-------------+-------------+---------------+---------------+-----+---------+-------------------+---------------+----------------+-------------------+-------------------------+--------------------+\n",
       "|           member_id|         emp_title|emp_length|home_ownership|annual_income|address_state|address_zipcode|address_country|grade|sub_grade|verification_status|tot_hi_cred_lim|application_type|joint_annual_income|verification_status_joint|         ingest_date|\n",
       "+--------------------+------------------+----------+--------------+-------------+-------------+---------------+---------------+-----+---------+-------------------+---------------+----------------+-------------------+-------------------------+--------------------+\n",
       "|77f5f41c3ddd56543...|\"Coil Winder \"\"B\"\"| reactors\"|       2 years|         null|        531xx|          Other|            USA|    B|       B4|            38000.0|            0.0|             1.0|               null|                     null|2024-12-12 10:15:...|\n",
       "|e3b0c44298fc1c149...|              null|      null|          null|         null|         null|           null|            USA| null|     null|               null|           null|            null|               null|                     null|2024-12-12 10:15:...|\n",
       "|392650c3bcd78274d...|              null|  < 1 year|          NONE|         null|           NY|          100xx|            USA|    A|       A3|       Not Verified|           null|      Individual|               null|                     null|2024-12-12 10:15:...|\n",
       "|6653dca72da571005...|              null|  < 1 year|          NONE|         null|           NY|          100xx|            USA|    A|       A5|       Not Verified|           null|      Individual|               null|                     null|2024-12-12 10:15:...|\n",
       "|6332caa680e7500fb...|              null|  < 1 year|          NONE|         null|           NY|          100xx|            USA|    A|       A2|       Not Verified|           null|      Individual|               null|                     null|2024-12-12 10:15:...|\n",
       "+--------------------+------------------+----------+--------------+-------------+-------------+---------------+---------------+-----+---------+-------------------+---------------+----------------+-------------------+-------------------------+--------------------+"
      ]
     },
     "execution_count": 15,
     "metadata": {},
     "output_type": "execute_result"
    }
   ],
   "source": [
    "spark.sql(\"select * from customers where annual_income is null\")"
   ]
  },
  {
   "cell_type": "code",
   "execution_count": 16,
   "id": "c346c99f",
   "metadata": {},
   "outputs": [],
   "source": [
    "customers_income_filtered = spark.sql(\"select * from customers where annual_income is not null\")"
   ]
  },
  {
   "cell_type": "code",
   "execution_count": 17,
   "id": "b981d8dc",
   "metadata": {},
   "outputs": [
    {
     "data": {
      "text/html": [
       "<table border='1'>\n",
       "<tr><th>count(1)</th></tr>\n",
       "<tr><td>0</td></tr>\n",
       "</table>\n"
      ],
      "text/plain": [
       "+--------+\n",
       "|count(1)|\n",
       "+--------+\n",
       "|       0|\n",
       "+--------+"
      ]
     },
     "execution_count": 17,
     "metadata": {},
     "output_type": "execute_result"
    }
   ],
   "source": [
    "customers_income_filtered.createOrReplaceTempView(\"customers_income_filtered\")\n",
    "spark.sql(\"select count(*) from customers_income_filtered where annual_income is null\")"
   ]
  },
  {
   "cell_type": "code",
   "execution_count": 18,
   "id": "7a35b935",
   "metadata": {},
   "outputs": [
    {
     "data": {
      "text/html": [
       "<table border='1'>\n",
       "<tr><th>emp_length</th></tr>\n",
       "<tr><td>5 years</td></tr>\n",
       "<tr><td>9 years</td></tr>\n",
       "<tr><td>null</td></tr>\n",
       "<tr><td>1 year</td></tr>\n",
       "<tr><td>2 years</td></tr>\n",
       "<tr><td>7 years</td></tr>\n",
       "<tr><td>8 years</td></tr>\n",
       "<tr><td>4 years</td></tr>\n",
       "<tr><td>6 years</td></tr>\n",
       "<tr><td>3 years</td></tr>\n",
       "<tr><td>10+ years</td></tr>\n",
       "<tr><td>&lt; 1 year</td></tr>\n",
       "</table>\n"
      ],
      "text/plain": [
       "+----------+\n",
       "|emp_length|\n",
       "+----------+\n",
       "|   5 years|\n",
       "|   9 years|\n",
       "|      null|\n",
       "|    1 year|\n",
       "|   2 years|\n",
       "|   7 years|\n",
       "|   8 years|\n",
       "|   4 years|\n",
       "|   6 years|\n",
       "|   3 years|\n",
       "| 10+ years|\n",
       "|  < 1 year|\n",
       "+----------+"
      ]
     },
     "execution_count": 18,
     "metadata": {},
     "output_type": "execute_result"
    }
   ],
   "source": [
    "spark.sql(\"select distinct(emp_length) from customers_income_filtered\")"
   ]
  },
  {
   "cell_type": "code",
   "execution_count": 19,
   "id": "ea669075",
   "metadata": {},
   "outputs": [],
   "source": [
    "from pyspark.sql.functions import regexp_replace, col"
   ]
  },
  {
   "cell_type": "code",
   "execution_count": 20,
   "id": "7e1dae21",
   "metadata": {},
   "outputs": [],
   "source": [
    "customers_emp_length_cleaned = customers_income_filtered.withColumn(\"emp_length\", \n",
    "                                                                    regexp_replace(\n",
    "                                                                        col(\"emp_length\"), \n",
    "                                                                        \"(\\D)\", \"\"))"
   ]
  },
  {
   "cell_type": "code",
   "execution_count": 21,
   "id": "5ed70b45",
   "metadata": {},
   "outputs": [
    {
     "data": {
      "text/html": [
       "<table border='1'>\n",
       "<tr><th>member_id</th><th>emp_title</th><th>emp_length</th><th>home_ownership</th><th>annual_income</th><th>address_state</th><th>address_zipcode</th><th>address_country</th><th>grade</th><th>sub_grade</th><th>verification_status</th><th>tot_hi_cred_lim</th><th>application_type</th><th>joint_annual_income</th><th>verification_status_joint</th><th>ingest_date</th></tr>\n",
       "<tr><td>9b4c6e1fa91564fd1...</td><td>Senior Customer S...</td><td>10</td><td>MORTGAGE</td><td>118000.0</td><td>TX</td><td>773xx</td><td>USA</td><td>C</td><td>C1</td><td>Source Verified</td><td>228695.0</td><td>Individual</td><td>null</td><td>null</td><td>2024-12-12 10:15:...</td></tr>\n",
       "<tr><td>b5f6c0714525c3263...</td><td>insulator</td><td>1</td><td>MORTGAGE</td><td>90000.0</td><td>RI</td><td>028xx</td><td>USA</td><td>C</td><td>C1</td><td>Verified</td><td>246593.0</td><td>Individual</td><td>null</td><td>null</td><td>2024-12-12 10:15:...</td></tr>\n",
       "<tr><td>c328f514f0d675e51...</td><td>Medical Records/P...</td><td>4</td><td>OWN</td><td>75000.0</td><td>AR</td><td>722xx</td><td>USA</td><td>B</td><td>B2</td><td>Source Verified</td><td>70500.0</td><td>Individual</td><td>null</td><td>null</td><td>2024-12-12 10:15:...</td></tr>\n",
       "<tr><td>ff255a474a2342099...</td><td>Director of Schoo...</td><td>8</td><td>RENT</td><td>70000.0</td><td>CA</td><td>917xx</td><td>USA</td><td>B</td><td>B3</td><td>Source Verified</td><td>14000.0</td><td>Individual</td><td>null</td><td>null</td><td>2024-12-12 10:15:...</td></tr>\n",
       "<tr><td>f0a2f3491dcb2fe9f...</td><td>SECURITY PROFESSI...</td><td>8</td><td>RENT</td><td>38000.0</td><td>CA</td><td>940xx</td><td>USA</td><td>E</td><td>E1</td><td>Verified</td><td>47579.0</td><td>Individual</td><td>null</td><td>null</td><td>2024-12-12 10:15:...</td></tr>\n",
       "<tr><td>f2e0145b714f72de6...</td><td>Teacher</td><td>4</td><td>RENT</td><td>38500.0</td><td>VA</td><td>234xx</td><td>USA</td><td>B</td><td>B4</td><td>Source Verified</td><td>60534.0</td><td>Individual</td><td>null</td><td>null</td><td>2024-12-12 10:15:...</td></tr>\n",
       "<tr><td>54ba039a1cc9f9d1f...</td><td>Lpn</td><td>10</td><td>MORTGAGE</td><td>53800.0</td><td>MN</td><td>553xx</td><td>USA</td><td>C</td><td>C1</td><td>Not Verified</td><td>157479.0</td><td>Individual</td><td>null</td><td>null</td><td>2024-12-12 10:15:...</td></tr>\n",
       "<tr><td>d3e0c3a19e947c54a...</td><td>Administrative As...</td><td>10</td><td>MORTGAGE</td><td>43000.0</td><td>GA</td><td>310xx</td><td>USA</td><td>B</td><td>B2</td><td>Source Verified</td><td>186608.0</td><td>Individual</td><td>null</td><td>null</td><td>2024-12-12 10:15:...</td></tr>\n",
       "<tr><td>d64d07a5d175eb270...</td><td>Sales manager</td><td>1</td><td>OWN</td><td>126000.0</td><td>ND</td><td>585xx</td><td>USA</td><td>C</td><td>C4</td><td>Source Verified</td><td>79548.0</td><td>Individual</td><td>null</td><td>null</td><td>2024-12-12 10:15:...</td></tr>\n",
       "<tr><td>c083be2f70001a747...</td><td>machine operator</td><td>7</td><td>MORTGAGE</td><td>52860.0</td><td>NY</td><td>146xx</td><td>USA</td><td>B</td><td>B2</td><td>Not Verified</td><td>138368.0</td><td>Individual</td><td>null</td><td>null</td><td>2024-12-12 10:15:...</td></tr>\n",
       "<tr><td>d4a743e20c30fe629...</td><td>Mechanic</td><td>10</td><td>MORTGAGE</td><td>50000.0</td><td>PA</td><td>155xx</td><td>USA</td><td>C</td><td>C3</td><td>Source Verified</td><td>153882.0</td><td>Individual</td><td>null</td><td>null</td><td>2024-12-12 10:15:...</td></tr>\n",
       "<tr><td>265b9dd6bf969ef2f...</td><td>Dental Assisntan</td><td>6</td><td>RENT</td><td>30000.0</td><td>UT</td><td>844xx</td><td>USA</td><td>B</td><td>B3</td><td>Not Verified</td><td>31000.0</td><td>Individual</td><td>null</td><td>null</td><td>2024-12-12 10:15:...</td></tr>\n",
       "<tr><td>1abc75d520f36ac97...</td><td>Accountant for Te...</td><td>10</td><td>RENT</td><td>63000.0</td><td>TX</td><td>774xx</td><td>USA</td><td>E</td><td>E1</td><td>Verified</td><td>51429.0</td><td>Individual</td><td>null</td><td>null</td><td>2024-12-12 10:15:...</td></tr>\n",
       "<tr><td>4fdfafb1bf0fa3822...</td><td>COTA</td><td>1</td><td>RENT</td><td>65000.0</td><td>IL</td><td>605xx</td><td>USA</td><td>C</td><td>C4</td><td>Source Verified</td><td>112210.0</td><td>Individual</td><td>null</td><td>null</td><td>2024-12-12 10:15:...</td></tr>\n",
       "<tr><td>a300f90c26355ae22...</td><td>Teacher</td><td>1</td><td>RENT</td><td>62600.0</td><td>CA</td><td>918xx</td><td>USA</td><td>B</td><td>B1</td><td>Not Verified</td><td>48987.0</td><td>Individual</td><td>null</td><td>null</td><td>2024-12-12 10:15:...</td></tr>\n",
       "<tr><td>0f3753739f6cbd078...</td><td>Driver</td><td>2</td><td>RENT</td><td>70000.0</td><td>TX</td><td>790xx</td><td>USA</td><td>C</td><td>C1</td><td>Source Verified</td><td>57146.0</td><td>Individual</td><td>null</td><td>null</td><td>2024-12-12 10:15:...</td></tr>\n",
       "<tr><td>2580da6be347c3002...</td><td>Registered nurse</td><td>9</td><td>MORTGAGE</td><td>102000.0</td><td>NY</td><td>114xx</td><td>USA</td><td>A</td><td>A5</td><td>Verified</td><td>516040.0</td><td>Individual</td><td>null</td><td>null</td><td>2024-12-12 10:15:...</td></tr>\n",
       "<tr><td>ab6984e9312b4e237...</td><td>Programmer/Analyst</td><td>2</td><td>RENT</td><td>90000.0</td><td>CT</td><td>060xx</td><td>USA</td><td>C</td><td>C3</td><td>Verified</td><td>58674.0</td><td>Individual</td><td>null</td><td>null</td><td>2024-12-12 10:15:...</td></tr>\n",
       "<tr><td>becd6d389781a1e66...</td><td>Family service sp...</td><td>4</td><td>MORTGAGE</td><td>36687.0</td><td>NV</td><td>891xx</td><td>USA</td><td>B</td><td>B4</td><td>Verified</td><td>252290.0</td><td>Individual</td><td>null</td><td>null</td><td>2024-12-12 10:15:...</td></tr>\n",
       "<tr><td>c116a6a8f201cee1b...</td><td>Store Manager</td><td>4</td><td>RENT</td><td>90000.0</td><td>IN</td><td>475xx</td><td>USA</td><td>B</td><td>B4</td><td>Source Verified</td><td>72424.0</td><td>Individual</td><td>null</td><td>null</td><td>2024-12-12 10:15:...</td></tr>\n",
       "</table>\n",
       "only showing top 20 rows\n"
      ],
      "text/plain": [
       "+--------------------+--------------------+----------+--------------+-------------+-------------+---------------+---------------+-----+---------+-------------------+---------------+----------------+-------------------+-------------------------+--------------------+\n",
       "|           member_id|           emp_title|emp_length|home_ownership|annual_income|address_state|address_zipcode|address_country|grade|sub_grade|verification_status|tot_hi_cred_lim|application_type|joint_annual_income|verification_status_joint|         ingest_date|\n",
       "+--------------------+--------------------+----------+--------------+-------------+-------------+---------------+---------------+-----+---------+-------------------+---------------+----------------+-------------------+-------------------------+--------------------+\n",
       "|91f464a1f2e91ffd1...|         TRUCKDRIVER|        10|          RENT|      55000.0|           CA|          900xx|            USA|    B|       B2|           Verified|        39975.0|      Individual|               null|                     null|2024-12-12 10:15:...|\n",
       "|9d05f5ba74d623499...|Vice President of...|         6|           OWN|     150000.0|           FL|          339xx|            USA|    B|       B2|    Source Verified|       540741.0|      Individual|               null|                     null|2024-12-12 10:15:...|\n",
       "|9edd00d3673afcee8...|     Design Engineer|         2|      MORTGAGE|      70000.0|           CA|          925xx|            USA|    B|       B4|           Verified|       355027.0|       Joint App|           123000.0|                 Verified|2024-12-12 10:15:...|\n",
       "|d310f178369f578d1...|                null|         1|      MORTGAGE|     184000.0|           VA|          201xx|            USA|    B|       B1|       Not Verified|       564805.0|      Individual|               null|                     null|2024-12-12 10:15:...|\n",
       "|c407b81bb168bf8f5...|Assistant Project...|         3|          RENT|      74200.0|           AZ|          853xx|            USA|    A|       A1|    Source Verified|       277842.0|      Individual|               null|                     null|2024-12-12 10:15:...|\n",
       "|8d90c23cbb58c9d29...|    Registered Nurse|        10|          RENT|      54000.0|           PA|          193xx|            USA|    C|       C3|       Not Verified|       156222.0|       Joint App|            84000.0|             Not Verified|2024-12-12 10:15:...|\n",
       "|d1331a0869ea7f82b...|   School bus driver|         5|           OWN|      81952.0|           MA|          021xx|            USA|    A|       A4|    Source Verified|       149811.0|      Individual|               null|                     null|2024-12-12 10:15:...|\n",
       "|4ce16bdcc38edf76e...|             Teacher|        10|          RENT|      64000.0|           CA|          900xx|            USA|    A|       A5|    Source Verified|       123847.0|      Individual|               null|                     null|2024-12-12 10:15:...|\n",
       "|ae54b72910b742e1b...|          Operations|        10|          RENT|      90000.0|           AZ|          853xx|            USA|    C|       C5|    Source Verified|       149138.0|      Individual|               null|                     null|2024-12-12 10:15:...|\n",
       "|a89f0bb5b9ff9f53a...|                null|      null|      MORTGAGE|      10850.0|           OR|          971xx|            USA|    B|       B4|           Verified|       307396.0|       Joint App|            82850.0|                 Verified|2024-12-12 10:15:...|\n",
       "|aaa6763d386ca239c...|maintenance super...|        10|      MORTGAGE|      40000.0|           TX|          781xx|            USA|    A|       A4|    Source Verified|        67574.0|       Joint App|            52000.0|                     null|2024-12-12 10:15:...|\n",
       "|2a5f5f87d9fe28a03...|     General Manager|         8|          RENT|      65000.0|           IN|          462xx|            USA|    C|       C3|       Not Verified|        57156.0|      Individual|               null|                     null|2024-12-12 10:15:...|\n",
       "|cfd8dc7fd7a7ebb04...|      Administration|        10|           OWN|      52000.0|           OK|          740xx|            USA|    C|       C3|           Verified|       242764.0|      Individual|               null|                     null|2024-12-12 10:15:...|\n",
       "|779ca448bd97e1daa...|    Front Desk Agent|         1|          RENT|      42000.0|           NY|          113xx|            USA|    D|       D1|    Source Verified|        99663.0|      Individual|               null|                     null|2024-12-12 10:15:...|\n",
       "|1d5f8c7b172151a3f...| Director of QA / RA|         8|      MORTGAGE|     140000.0|           MA|          027xx|            USA|    B|       B5|       Not Verified|       470742.0|      Individual|               null|                     null|2024-12-12 10:15:...|\n",
       "|b675198f37f41671c...|           President|         1|          RENT|      90000.0|           NY|          104xx|            USA|    D|       D5|       Not Verified|        50738.0|      Individual|               null|                     null|2024-12-12 10:15:...|\n",
       "|deae3bb458d805078...|                null|      null|          RENT|      45000.0|           VA|          225xx|            USA|    A|       A5|    Source Verified|        28300.0|      Individual|               null|                     null|2024-12-12 10:15:...|\n",
       "|2c19628afae47bdec...|  Finanacial Advisor|        10|      MORTGAGE|     850000.0|           FL|          334xx|            USA|    C|       C4|    Source Verified|      2950685.0|      Individual|               null|                     null|2024-12-12 10:15:...|\n",
       "|1ca60d3a0b70b2c93...|     Forging Manager|        10|      MORTGAGE|      74500.0|           AR|          725xx|            USA|    A|       A4|    Source Verified|       120171.0|      Individual|               null|                     null|2024-12-12 10:15:...|\n",
       "|d6c8552d28a5a7d83...|                null|      null|           OWN|      20000.0|           CT|          066xx|            USA|    A|       A1|       Not Verified|        23779.0|      Individual|               null|                     null|2024-12-12 10:15:...|\n",
       "+--------------------+--------------------+----------+--------------+-------------+-------------+---------------+---------------+-----+---------+-------------------+---------------+----------------+-------------------+-------------------------+--------------------+\n",
       "only showing top 20 rows"
      ]
     },
     "execution_count": 21,
     "metadata": {},
     "output_type": "execute_result"
    }
   ],
   "source": [
    "customers_emp_length_cleaned"
   ]
  },
  {
   "cell_type": "code",
   "execution_count": 22,
   "id": "a1cf67ff",
   "metadata": {},
   "outputs": [
    {
     "name": "stdout",
     "output_type": "stream",
     "text": [
      "root\n",
      " |-- member_id: string (nullable = true)\n",
      " |-- emp_title: string (nullable = true)\n",
      " |-- emp_length: string (nullable = true)\n",
      " |-- home_ownership: string (nullable = true)\n",
      " |-- annual_income: float (nullable = true)\n",
      " |-- address_state: string (nullable = true)\n",
      " |-- address_zipcode: string (nullable = true)\n",
      " |-- address_country: string (nullable = true)\n",
      " |-- grade: string (nullable = true)\n",
      " |-- sub_grade: string (nullable = true)\n",
      " |-- verification_status: string (nullable = true)\n",
      " |-- tot_hi_cred_lim: float (nullable = true)\n",
      " |-- application_type: string (nullable = true)\n",
      " |-- joint_annual_income: float (nullable = true)\n",
      " |-- verification_status_joint: string (nullable = true)\n",
      " |-- ingest_date: timestamp (nullable = false)\n",
      "\n"
     ]
    }
   ],
   "source": [
    "customers_emp_length_cleaned.printSchema()"
   ]
  },
  {
   "cell_type": "code",
   "execution_count": 23,
   "id": "19397f46",
   "metadata": {},
   "outputs": [],
   "source": [
    "customers_emp_length_casted = customers_emp_length_cleaned.withColumn(\"emp_length\", customers_emp_length_cleaned.emp_length.cast('int'))"
   ]
  },
  {
   "cell_type": "code",
   "execution_count": 24,
   "id": "28c77a17",
   "metadata": {},
   "outputs": [
    {
     "data": {
      "text/html": [
       "<table border='1'>\n",
       "<tr><th>member_id</th><th>emp_title</th><th>emp_length</th><th>home_ownership</th><th>annual_income</th><th>address_state</th><th>address_zipcode</th><th>address_country</th><th>grade</th><th>sub_grade</th><th>verification_status</th><th>tot_hi_cred_lim</th><th>application_type</th><th>joint_annual_income</th><th>verification_status_joint</th><th>ingest_date</th></tr>\n",
       "<tr><td>553df42851a40d185...</td><td>Spivak Lipton LLP</td><td>10</td><td>OWN</td><td>66150.0</td><td>NY</td><td>112xx</td><td>USA</td><td>C</td><td>C1</td><td>Not Verified</td><td>null</td><td>Individual</td><td>null</td><td>null</td><td>2024-12-12 10:15:...</td></tr>\n",
       "<tr><td>67b033264ca0263a4...</td><td>E2 Inc.</td><td>4</td><td>RENT</td><td>62500.0</td><td>VA</td><td>229xx</td><td>USA</td><td>B</td><td>B2</td><td>Not Verified</td><td>null</td><td>Individual</td><td>null</td><td>null</td><td>2024-12-12 10:15:...</td></tr>\n",
       "<tr><td>9db01b50290493c94...</td><td>Matrix Resources</td><td>9</td><td>MORTGAGE</td><td>100000.0</td><td>GA</td><td>300xx</td><td>USA</td><td>A</td><td>A3</td><td>Not Verified</td><td>null</td><td>Individual</td><td>null</td><td>null</td><td>2024-12-12 10:15:...</td></tr>\n",
       "<tr><td>be36d0cb69bb6a768...</td><td>British Motors</td><td>4</td><td>RENT</td><td>72000.0</td><td>CA</td><td>949xx</td><td>USA</td><td>C</td><td>C4</td><td>Not Verified</td><td>null</td><td>Individual</td><td>null</td><td>null</td><td>2024-12-12 10:15:...</td></tr>\n",
       "<tr><td>9c8ade856ec9e7a2f...</td><td>Soldier Capital, LLC</td><td>1</td><td>RENT</td><td>84000.0</td><td>NJ</td><td>070xx</td><td>USA</td><td>D</td><td>D2</td><td>Not Verified</td><td>null</td><td>Individual</td><td>null</td><td>null</td><td>2024-12-12 10:15:...</td></tr>\n",
       "<tr><td>7cfacd9a93884dfe7...</td><td>Boeing</td><td>10</td><td>MORTGAGE</td><td>92000.0</td><td>AL</td><td>357xx</td><td>USA</td><td>E</td><td>E2</td><td>Verified</td><td>null</td><td>Individual</td><td>null</td><td>null</td><td>2024-12-12 10:15:...</td></tr>\n",
       "<tr><td>f7cead1c1282f92e4...</td><td>null</td><td>1</td><td>OWN</td><td>200000.0</td><td>MA</td><td>024xx</td><td>USA</td><td>D</td><td>D2</td><td>Verified</td><td>null</td><td>Individual</td><td>null</td><td>null</td><td>2024-12-12 10:15:...</td></tr>\n",
       "<tr><td>89d65d245751401c5...</td><td>Howard Dental Group</td><td>1</td><td>RENT</td><td>120000.0</td><td>GA</td><td>314xx</td><td>USA</td><td>A</td><td>A2</td><td>Not Verified</td><td>null</td><td>Individual</td><td>null</td><td>null</td><td>2024-12-12 10:15:...</td></tr>\n",
       "<tr><td>cbae860ce12b719c7...</td><td>Pelham School Dis...</td><td>1</td><td>RENT</td><td>55000.0</td><td>NY</td><td>104xx</td><td>USA</td><td>B</td><td>B5</td><td>Not Verified</td><td>null</td><td>Individual</td><td>null</td><td>null</td><td>2024-12-12 10:15:...</td></tr>\n",
       "<tr><td>86846d1901bf9cf7a...</td><td>Highland Theatres</td><td>10</td><td>RENT</td><td>83200.0</td><td>CA</td><td>902xx</td><td>USA</td><td>D</td><td>D3</td><td>Verified</td><td>null</td><td>Individual</td><td>null</td><td>null</td><td>2024-12-12 10:15:...</td></tr>\n",
       "<tr><td>b58a56c7ce373b48c...</td><td>Rubio&#x27;s fresh Mex...</td><td>2</td><td>RENT</td><td>52000.0</td><td>CA</td><td>902xx</td><td>USA</td><td>B</td><td>B2</td><td>Not Verified</td><td>null</td><td>Individual</td><td>null</td><td>null</td><td>2024-12-12 10:15:...</td></tr>\n",
       "<tr><td>fd32c9e1f86c067d8...</td><td>Colorado Mountain...</td><td>1</td><td>MORTGAGE</td><td>45000.0</td><td>CO</td><td>804xx</td><td>USA</td><td>A</td><td>A1</td><td>Not Verified</td><td>null</td><td>Individual</td><td>null</td><td>null</td><td>2024-12-12 10:15:...</td></tr>\n",
       "<tr><td>0412e7cf9da4974bb...</td><td>Unified Grocers</td><td>10</td><td>RENT</td><td>79701.0</td><td>CA</td><td>926xx</td><td>USA</td><td>C</td><td>C4</td><td>Verified</td><td>null</td><td>Individual</td><td>null</td><td>null</td><td>2024-12-12 10:15:...</td></tr>\n",
       "<tr><td>fdabb154c6c59d265...</td><td>Publix Supermarke...</td><td>4</td><td>MORTGAGE</td><td>50000.0</td><td>GA</td><td>300xx</td><td>USA</td><td>D</td><td>D3</td><td>Verified</td><td>null</td><td>Individual</td><td>null</td><td>null</td><td>2024-12-12 10:15:...</td></tr>\n",
       "<tr><td>418b7c1d332bd9801...</td><td>Marfork Processing</td><td>10</td><td>MORTGAGE</td><td>80000.0</td><td>WV</td><td>258xx</td><td>USA</td><td>C</td><td>C2</td><td>Not Verified</td><td>null</td><td>Individual</td><td>null</td><td>null</td><td>2024-12-12 10:15:...</td></tr>\n",
       "<tr><td>8cbe4cdaefc343445...</td><td>Wells Fargo</td><td>1</td><td>RENT</td><td>32000.0</td><td>MN</td><td>554xx</td><td>USA</td><td>C</td><td>C3</td><td>Verified</td><td>null</td><td>Individual</td><td>null</td><td>null</td><td>2024-12-12 10:15:...</td></tr>\n",
       "<tr><td>d3b0c96a2e920cfed...</td><td>Greatland Realty</td><td>1</td><td>OWN</td><td>22000.0</td><td>CA</td><td>917xx</td><td>USA</td><td>D</td><td>D4</td><td>Not Verified</td><td>null</td><td>Individual</td><td>null</td><td>null</td><td>2024-12-12 10:15:...</td></tr>\n",
       "<tr><td>7cda27f5ff92a3359...</td><td>Daniel Ripley Cat...</td><td>4</td><td>OTHER</td><td>21000.0</td><td>CA</td><td>949xx</td><td>USA</td><td>B</td><td>B5</td><td>Not Verified</td><td>null</td><td>Individual</td><td>null</td><td>null</td><td>2024-12-12 10:15:...</td></tr>\n",
       "<tr><td>b0841fdcb2921e6c9...</td><td>Creative Space</td><td>2</td><td>RENT</td><td>48000.0</td><td>CA</td><td>900xx</td><td>USA</td><td>C</td><td>C4</td><td>Source Verified</td><td>null</td><td>Individual</td><td>null</td><td>null</td><td>2024-12-12 10:15:...</td></tr>\n",
       "<tr><td>89a1342eb8f360051...</td><td>BR+A Consulting E...</td><td>2</td><td>RENT</td><td>70000.0</td><td>NY</td><td>112xx</td><td>USA</td><td>A</td><td>A5</td><td>Source Verified</td><td>null</td><td>Individual</td><td>null</td><td>null</td><td>2024-12-12 10:15:...</td></tr>\n",
       "</table>\n",
       "only showing top 20 rows\n"
      ],
      "text/plain": [
       "+--------------------+--------------------+----------+--------------+-------------+-------------+---------------+---------------+-----+---------+-------------------+---------------+----------------+-------------------+-------------------------+--------------------+\n",
       "|           member_id|           emp_title|emp_length|home_ownership|annual_income|address_state|address_zipcode|address_country|grade|sub_grade|verification_status|tot_hi_cred_lim|application_type|joint_annual_income|verification_status_joint|         ingest_date|\n",
       "+--------------------+--------------------+----------+--------------+-------------+-------------+---------------+---------------+-----+---------+-------------------+---------------+----------------+-------------------+-------------------------+--------------------+\n",
       "|2b2b17236baa8a6bf...|Mortgage loan off...|         3|      MORTGAGE|     125000.0|           NC|          281xx|            USA|    A|       A5|       Not Verified|       152939.0|      Individual|               null|                     null|2024-12-12 10:15:...|\n",
       "|3835d0dd9bceefd30...|Vice President of...|         2|          RENT|      57000.0|           SC|          290xx|            USA|    C|       C4|           Verified|        28570.0|      Individual|               null|                     null|2024-12-12 10:15:...|\n",
       "|fc7071b0ec6190c89...|    Finance Director|         3|      MORTGAGE|      42500.0|           TN|          385xx|            USA|    B|       B3|       Not Verified|       176044.0|      Individual|               null|                     null|2024-12-12 10:15:...|\n",
       "|08ab8696252dfbd51...|QA Document Speci...|         7|      MORTGAGE|      42000.0|           TX|          760xx|            USA|    A|       A4|       Not Verified|       245380.0|      Individual|               null|                     null|2024-12-12 10:15:...|\n",
       "|8d93d91b9ab108976...|           Recruiter|        10|          RENT|      63000.0|           NY|          125xx|            USA|    C|       C3|           Verified|        73196.0|      Individual|               null|                     null|2024-12-12 10:15:...|\n",
       "|c7608472c722de742...|Field Service Tec...|         1|          RENT|      32000.0|           GA|          302xx|            USA|    A|       A4|       Not Verified|        11500.0|      Individual|               null|                     null|2024-12-12 10:15:...|\n",
       "|107e94e3c79b44c8d...|Director, Global ...|         2|      MORTGAGE|     160000.0|           CA|          921xx|            USA|    B|       B2|    Source Verified|       838010.0|      Individual|               null|                     null|2024-12-12 10:15:...|\n",
       "|02c163865d9a2be0e...|       Sales Manager|         6|          RENT|     125000.0|           IN|          469xx|            USA|    C|       C5|           Verified|        66037.0|      Individual|               null|                     null|2024-12-12 10:15:...|\n",
       "|26875c3254c8c1a43...| Warehouse associate|         5|      MORTGAGE|      40000.0|           DE|          199xx|            USA|    B|       B4|           Verified|       201247.0|      Individual|               null|                     null|2024-12-12 10:15:...|\n",
       "|bed70dea1e1484ab7...|     Insurance Agent|        10|      MORTGAGE|      68000.0|           FL|          333xx|            USA|    B|       B2|           Verified|         8600.0|      Individual|               null|                     null|2024-12-12 10:15:...|\n",
       "|9a11c0ca2618158cd...|       House Maneger|         4|      MORTGAGE|      60000.0|           MN|          551xx|            USA|    B|       B2|    Source Verified|       177761.0|      Individual|               null|                     null|2024-12-12 10:15:...|\n",
       "|ec6107723e09a1ee4...|        Investigator|         3|          RENT|      65000.0|           NY|          142xx|            USA|    B|       B3|    Source Verified|        75011.0|      Individual|               null|                     null|2024-12-12 10:15:...|\n",
       "|c3438b118578ea1a7...| Building supervisor|        10|      MORTGAGE|      83000.0|           CT|          068xx|            USA|    B|       B5|           Verified|       488470.0|      Individual|               null|                     null|2024-12-12 10:15:...|\n",
       "|37058c886b641f1d4...|                Lcpo|        10|          RENT|      72000.0|           IL|          600xx|            USA|    C|       C4|    Source Verified|       359199.0|      Individual|               null|                     null|2024-12-12 10:15:...|\n",
       "|330c020ccf5b8eb76...|       memberservice|         2|          RENT|      24000.0|           MN|          564xx|            USA|    B|       B2|       Not Verified|        19700.0|      Individual|               null|                     null|2024-12-12 10:15:...|\n",
       "|e0b6cf03c113a53c8...|         School nurs|         1|           OWN|      40000.0|           FL|          344xx|            USA|    C|       C2|    Source Verified|       100455.0|      Individual|               null|                     null|2024-12-12 10:15:...|\n",
       "|fa5fd0ed9d69a763f...|medical transcrip...|        10|          RENT|      55000.0|           CO|          800xx|            USA|    D|       D2|    Source Verified|        51357.0|      Individual|               null|                     null|2024-12-12 10:15:...|\n",
       "|60eb5d8375cef4543...|              Server|         3|      MORTGAGE|      35000.0|           KY|          402xx|            USA|    B|       B5|       Not Verified|        80813.0|      Individual|               null|                     null|2024-12-12 10:15:...|\n",
       "|49159c858e29d9c40...|Hearing conservation|         1|      MORTGAGE|      45000.0|           FL|          346xx|            USA|    C|       C3|       Not Verified|       316925.0|       Joint App|           136000.0|             Not Verified|2024-12-12 10:15:...|\n",
       "|4c7deca4c539b1d3f...|        Loan Officer|         3|      MORTGAGE|      42000.0|           PA|          170xx|            USA|    C|       C1|       Not Verified|       118600.0|      Individual|               null|                     null|2024-12-12 10:15:...|\n",
       "+--------------------+--------------------+----------+--------------+-------------+-------------+---------------+---------------+-----+---------+-------------------+---------------+----------------+-------------------+-------------------------+--------------------+\n",
       "only showing top 20 rows"
      ]
     },
     "execution_count": 24,
     "metadata": {},
     "output_type": "execute_result"
    }
   ],
   "source": [
    "customers_emp_length_casted"
   ]
  },
  {
   "cell_type": "code",
   "execution_count": 25,
   "id": "6b081eab",
   "metadata": {},
   "outputs": [
    {
     "name": "stdout",
     "output_type": "stream",
     "text": [
      "root\n",
      " |-- member_id: string (nullable = true)\n",
      " |-- emp_title: string (nullable = true)\n",
      " |-- emp_length: integer (nullable = true)\n",
      " |-- home_ownership: string (nullable = true)\n",
      " |-- annual_income: float (nullable = true)\n",
      " |-- address_state: string (nullable = true)\n",
      " |-- address_zipcode: string (nullable = true)\n",
      " |-- address_country: string (nullable = true)\n",
      " |-- grade: string (nullable = true)\n",
      " |-- sub_grade: string (nullable = true)\n",
      " |-- verification_status: string (nullable = true)\n",
      " |-- tot_hi_cred_lim: float (nullable = true)\n",
      " |-- application_type: string (nullable = true)\n",
      " |-- joint_annual_income: float (nullable = true)\n",
      " |-- verification_status_joint: string (nullable = true)\n",
      " |-- ingest_date: timestamp (nullable = false)\n",
      "\n"
     ]
    }
   ],
   "source": [
    "customers_emp_length_casted.printSchema()"
   ]
  },
  {
   "cell_type": "code",
   "execution_count": 26,
   "id": "96085773",
   "metadata": {},
   "outputs": [
    {
     "data": {
      "text/plain": [
       "146903"
      ]
     },
     "execution_count": 26,
     "metadata": {},
     "output_type": "execute_result"
    }
   ],
   "source": [
    "customers_emp_length_casted.filter(\"emp_length is null\").count()"
   ]
  },
  {
   "cell_type": "code",
   "execution_count": 27,
   "id": "26030f2e",
   "metadata": {},
   "outputs": [],
   "source": [
    "customers_emp_length_casted.createOrReplaceTempView(\"customers_emp_length_casted\")"
   ]
  },
  {
   "cell_type": "code",
   "execution_count": 28,
   "id": "696c8570",
   "metadata": {},
   "outputs": [],
   "source": [
    "avg_emp_length = spark.sql(\"select floor(avg(emp_length)) as avg_emp_length from customers_emp_length_casted\").collect()"
   ]
  },
  {
   "cell_type": "code",
   "execution_count": 29,
   "id": "2f79600d",
   "metadata": {},
   "outputs": [
    {
     "name": "stdout",
     "output_type": "stream",
     "text": [
      "[Row(avg_emp_length=6)]\n"
     ]
    }
   ],
   "source": [
    "print(avg_emp_length)"
   ]
  },
  {
   "cell_type": "code",
   "execution_count": 30,
   "id": "f9bbf772",
   "metadata": {},
   "outputs": [],
   "source": [
    "avg_employment_length = avg_emp_length[0][0]"
   ]
  },
  {
   "cell_type": "code",
   "execution_count": 31,
   "id": "4cbede81",
   "metadata": {},
   "outputs": [
    {
     "data": {
      "text/plain": [
       "6"
      ]
     },
     "execution_count": 31,
     "metadata": {},
     "output_type": "execute_result"
    }
   ],
   "source": [
    "avg_employment_length"
   ]
  },
  {
   "cell_type": "code",
   "execution_count": 32,
   "id": "891443ec",
   "metadata": {},
   "outputs": [],
   "source": [
    "customers_emp_length_replaced = customers_emp_length_casted.na.fill(avg_employment_length, subset=['emp_length'])"
   ]
  },
  {
   "cell_type": "code",
   "execution_count": 33,
   "id": "4efb3dd4",
   "metadata": {},
   "outputs": [
    {
     "data": {
      "text/html": [
       "<table border='1'>\n",
       "<tr><th>member_id</th><th>emp_title</th><th>emp_length</th><th>home_ownership</th><th>annual_income</th><th>address_state</th><th>address_zipcode</th><th>address_country</th><th>grade</th><th>sub_grade</th><th>verification_status</th><th>tot_hi_cred_lim</th><th>application_type</th><th>joint_annual_income</th><th>verification_status_joint</th><th>ingest_date</th></tr>\n",
       "<tr><td>3ef0c414327b234b8...</td><td>Producer</td><td>8</td><td>MORTGAGE</td><td>45000.0</td><td>FL</td><td>322xx</td><td>USA</td><td>E</td><td>E5</td><td>Source Verified</td><td>98500.0</td><td>Individual</td><td>null</td><td>null</td><td>2024-12-12 10:16:...</td></tr>\n",
       "<tr><td>a2c38280e0b8330ef...</td><td>Seamstress</td><td>2</td><td>RENT</td><td>25000.0</td><td>OH</td><td>432xx</td><td>USA</td><td>C</td><td>C1</td><td>Verified</td><td>92734.0</td><td>Individual</td><td>null</td><td>null</td><td>2024-12-12 10:16:...</td></tr>\n",
       "<tr><td>7a7b53896eb082ff1...</td><td>Service Manger</td><td>1</td><td>MORTGAGE</td><td>87000.0</td><td>IL</td><td>604xx</td><td>USA</td><td>C</td><td>C3</td><td>Source Verified</td><td>230086.0</td><td>Individual</td><td>null</td><td>null</td><td>2024-12-12 10:16:...</td></tr>\n",
       "<tr><td>5484abfabd3c11221...</td><td>Operation Manager</td><td>1</td><td>MORTGAGE</td><td>70000.0</td><td>TX</td><td>785xx</td><td>USA</td><td>D</td><td>D1</td><td>Source Verified</td><td>9286.0</td><td>Individual</td><td>null</td><td>null</td><td>2024-12-12 10:16:...</td></tr>\n",
       "<tr><td>6a51e670937a8e03e...</td><td>Packer/order puller</td><td>1</td><td>RENT</td><td>21200.0</td><td>CA</td><td>913xx</td><td>USA</td><td>D</td><td>D5</td><td>Verified</td><td>31167.0</td><td>Individual</td><td>null</td><td>null</td><td>2024-12-12 10:16:...</td></tr>\n",
       "<tr><td>326ef319ec5a2928b...</td><td>Doorman</td><td>6</td><td>RENT</td><td>82440.0</td><td>NY</td><td>104xx</td><td>USA</td><td>B</td><td>B5</td><td>Verified</td><td>21200.0</td><td>Individual</td><td>null</td><td>null</td><td>2024-12-12 10:16:...</td></tr>\n",
       "<tr><td>8fabcdf5dd46c92f1...</td><td>Electrical appren...</td><td>3</td><td>RENT</td><td>40320.0</td><td>MD</td><td>208xx</td><td>USA</td><td>C</td><td>C3</td><td>Source Verified</td><td>14071.0</td><td>Individual</td><td>null</td><td>null</td><td>2024-12-12 10:16:...</td></tr>\n",
       "<tr><td>65526144d655c3118...</td><td>Dispatcher</td><td>4</td><td>RENT</td><td>40000.0</td><td>FL</td><td>327xx</td><td>USA</td><td>D</td><td>D2</td><td>Source Verified</td><td>59103.0</td><td>Individual</td><td>null</td><td>null</td><td>2024-12-12 10:16:...</td></tr>\n",
       "<tr><td>5236ac81e883c8e18...</td><td>registered nurse</td><td>7</td><td>MORTGAGE</td><td>95000.0</td><td>CA</td><td>917xx</td><td>USA</td><td>D</td><td>D2</td><td>Source Verified</td><td>525749.0</td><td>Individual</td><td>null</td><td>null</td><td>2024-12-12 10:16:...</td></tr>\n",
       "<tr><td>55968feb4db0e2a11...</td><td>Professor</td><td>3</td><td>RENT</td><td>75000.0</td><td>IL</td><td>606xx</td><td>USA</td><td>E</td><td>E1</td><td>Source Verified</td><td>192648.0</td><td>Individual</td><td>null</td><td>null</td><td>2024-12-12 10:16:...</td></tr>\n",
       "<tr><td>5fe0d3845fe94a297...</td><td>null</td><td>6</td><td>RENT</td><td>30547.0</td><td>CA</td><td>900xx</td><td>USA</td><td>E</td><td>E3</td><td>Verified</td><td>8800.0</td><td>Individual</td><td>null</td><td>null</td><td>2024-12-12 10:16:...</td></tr>\n",
       "<tr><td>90e4b50ea0641d3ba...</td><td>Driver</td><td>8</td><td>RENT</td><td>57000.0</td><td>NY</td><td>120xx</td><td>USA</td><td>C</td><td>C2</td><td>Not Verified</td><td>113247.0</td><td>Individual</td><td>null</td><td>null</td><td>2024-12-12 10:16:...</td></tr>\n",
       "<tr><td>40ce5db5fcae6e77d...</td><td>Teacher</td><td>2</td><td>MORTGAGE</td><td>67000.0</td><td>CA</td><td>958xx</td><td>USA</td><td>C</td><td>C3</td><td>Source Verified</td><td>358921.0</td><td>Individual</td><td>null</td><td>null</td><td>2024-12-12 10:16:...</td></tr>\n",
       "<tr><td>693f608c38132c039...</td><td>Community Correct...</td><td>2</td><td>MORTGAGE</td><td>74000.0</td><td>FL</td><td>328xx</td><td>USA</td><td>C</td><td>C2</td><td>Source Verified</td><td>224246.0</td><td>Individual</td><td>null</td><td>null</td><td>2024-12-12 10:16:...</td></tr>\n",
       "<tr><td>13e2d3528ae029c9a...</td><td>officer</td><td>3</td><td>RENT</td><td>28891.0</td><td>NY</td><td>114xx</td><td>USA</td><td>D</td><td>D4</td><td>Source Verified</td><td>14300.0</td><td>Individual</td><td>null</td><td>null</td><td>2024-12-12 10:16:...</td></tr>\n",
       "<tr><td>20087c7f21e1bb890...</td><td>Otr driver</td><td>2</td><td>RENT</td><td>47000.0</td><td>MT</td><td>590xx</td><td>USA</td><td>D</td><td>D2</td><td>Source Verified</td><td>73143.0</td><td>Individual</td><td>null</td><td>null</td><td>2024-12-12 10:16:...</td></tr>\n",
       "<tr><td>804988e9971a80eb0...</td><td>Testing Manager</td><td>10</td><td>MORTGAGE</td><td>89000.0</td><td>NJ</td><td>080xx</td><td>USA</td><td>C</td><td>C1</td><td>Source Verified</td><td>170241.0</td><td>Individual</td><td>null</td><td>null</td><td>2024-12-12 10:16:...</td></tr>\n",
       "<tr><td>3e4902222ff465063...</td><td>Billing</td><td>10</td><td>MORTGAGE</td><td>46000.0</td><td>NJ</td><td>083xx</td><td>USA</td><td>F</td><td>F4</td><td>Verified</td><td>86774.0</td><td>Individual</td><td>null</td><td>null</td><td>2024-12-12 10:16:...</td></tr>\n",
       "<tr><td>b86d6c3ae98c3a5b8...</td><td>Mail carrier</td><td>10</td><td>RENT</td><td>75000.0</td><td>CA</td><td>925xx</td><td>USA</td><td>C</td><td>C2</td><td>Source Verified</td><td>39300.0</td><td>Individual</td><td>null</td><td>null</td><td>2024-12-12 10:16:...</td></tr>\n",
       "<tr><td>8dbe555b78156af3b...</td><td>COO</td><td>10</td><td>MORTGAGE</td><td>100000.0</td><td>FL</td><td>327xx</td><td>USA</td><td>C</td><td>C3</td><td>Source Verified</td><td>517733.0</td><td>Individual</td><td>null</td><td>null</td><td>2024-12-12 10:16:...</td></tr>\n",
       "</table>\n",
       "only showing top 20 rows\n"
      ],
      "text/plain": [
       "+--------------------+--------------------+----------+--------------+-------------+-------------+---------------+---------------+-----+---------+-------------------+---------------+----------------+-------------------+-------------------------+--------------------+\n",
       "|           member_id|           emp_title|emp_length|home_ownership|annual_income|address_state|address_zipcode|address_country|grade|sub_grade|verification_status|tot_hi_cred_lim|application_type|joint_annual_income|verification_status_joint|         ingest_date|\n",
       "+--------------------+--------------------+----------+--------------+-------------+-------------+---------------+---------------+-----+---------+-------------------+---------------+----------------+-------------------+-------------------------+--------------------+\n",
       "|1b7f716c8b78d132e...|             Teacher|         3|      MORTGAGE|      37540.0|           OH|          430xx|            USA|    A|       A3|           Verified|       275150.0|       Joint App|            92212.0|          Source Verified|2024-12-12 10:16:...|\n",
       "|bff8782be8e7751ba...|Recreation Coordi...|         1|           OWN|      35360.0|           OR|          978xx|            USA|    A|       A4|           Verified|        57002.0|      Individual|               null|                     null|2024-12-12 10:16:...|\n",
       "|0408c192c6bb7e754...|                Cook|        10|      MORTGAGE|      42000.0|           ND|          581xx|            USA|    A|       A2|    Source Verified|       184453.0|       Joint App|            83000.0|          Source Verified|2024-12-12 10:16:...|\n",
       "|706051e9ecb71761b...|                null|         6|      MORTGAGE|     108000.0|           MD|          206xx|            USA|    E|       E3|    Source Verified|        59781.0|      Individual|               null|                     null|2024-12-12 10:16:...|\n",
       "|0ff61a9ede4deec11...|           HIM Clerk|         6|          RENT|      34000.0|           MI|          480xx|            USA|    A|       A3|    Source Verified|       118137.0|       Joint App|            66000.0|          Source Verified|2024-12-12 10:16:...|\n",
       "|9ae62c4178a209d7c...|              Driver|         1|          RENT|      44000.0|           GA|          308xx|            USA|    B|       B5|    Source Verified|        24166.0|      Individual|               null|                     null|2024-12-12 10:16:...|\n",
       "|5e3b473d82b910ee4...|                null|         6|          RENT|      17900.0|           TN|          380xx|            USA|    A|       A2|           Verified|        20822.0|      Individual|               null|                     null|2024-12-12 10:16:...|\n",
       "|d04068d735f899bc2...|         Firefighter|        10|      MORTGAGE|     154000.0|           RI|          028xx|            USA|    A|       A3|    Source Verified|       361683.0|      Individual|               null|                     null|2024-12-12 10:16:...|\n",
       "|08b2a6c6a494bce23...|Digital Marketing...|         2|          RENT|      81000.0|           IL|          606xx|            USA|    D|       D3|    Source Verified|       121726.0|      Individual|               null|                     null|2024-12-12 10:16:...|\n",
       "|94f157f7e20979ecd...|    machine operator|         5|          RENT|      55000.0|           NY|          107xx|            USA|    C|       C5|       Not Verified|        30336.0|      Individual|               null|                     null|2024-12-12 10:16:...|\n",
       "|4381ea5c5bb601fde...|    Paraprofessional|        10|      MORTGAGE|      51000.0|           GA|          300xx|            USA|    A|       A3|       Not Verified|       402315.0|       Joint App|           131000.0|             Not Verified|2024-12-12 10:16:...|\n",
       "|d7e1a0c483baed95c...|                null|         6|          RENT|      28800.0|           AZ|          850xx|            USA|    B|       B2|           Verified|         9900.0|      Individual|               null|                     null|2024-12-12 10:16:...|\n",
       "|b7f85853fc15d162f...|Sales Representative|        10|      MORTGAGE|      42000.0|           AL|          354xx|            USA|    B|       B5|       Not Verified|        92901.0|       Joint App|            65000.0|             Not Verified|2024-12-12 10:16:...|\n",
       "|1a38d750cdd71b582...|        Truck Driver|         4|          RENT|      80000.0|           NJ|          088xx|            USA|    C|       C2|    Source Verified|        79521.0|      Individual|               null|                     null|2024-12-12 10:16:...|\n",
       "|6071c534d9605dd2d...|                null|         6|           OWN|     125000.0|           NY|          145xx|            USA|    A|       A2|       Not Verified|       380790.0|      Individual|               null|                     null|2024-12-12 10:16:...|\n",
       "|625caedaa1536078f...|                null|         6|          RENT|      75000.0|           NV|          891xx|            USA|    B|       B1|       Not Verified|        26986.0|      Individual|               null|                     null|2024-12-12 10:16:...|\n",
       "|ed0a47c89885ac0e1...| Support Coordinator|         2|          RENT|      55000.0|           MI|          486xx|            USA|    A|       A1|       Not Verified|        79690.0|      Individual|               null|                     null|2024-12-12 10:16:...|\n",
       "|ff1db871284b0a3d1...| Patient Coordinator|         3|      MORTGAGE|      45000.0|           MN|          553xx|            USA|    D|       D3|           Verified|       368430.0|       Joint App|           150000.0|             Not Verified|2024-12-12 10:16:...|\n",
       "|040af07d96a94472e...|           Secretary|        10|          RENT|      49000.0|           NY|          132xx|            USA|    B|       B5|           Verified|        81628.0|      Individual|               null|                     null|2024-12-12 10:16:...|\n",
       "|2aec46d25e2476917...|     Legal Secretary|        10|      MORTGAGE|      61250.0|           TX|          774xx|            USA|    D|       D1|           Verified|        54032.0|      Individual|               null|                     null|2024-12-12 10:16:...|\n",
       "+--------------------+--------------------+----------+--------------+-------------+-------------+---------------+---------------+-----+---------+-------------------+---------------+----------------+-------------------+-------------------------+--------------------+\n",
       "only showing top 20 rows"
      ]
     },
     "execution_count": 33,
     "metadata": {},
     "output_type": "execute_result"
    }
   ],
   "source": [
    "customers_emp_length_replaced"
   ]
  },
  {
   "cell_type": "code",
   "execution_count": 34,
   "id": "a55efc40",
   "metadata": {},
   "outputs": [
    {
     "data": {
      "text/plain": [
       "0"
      ]
     },
     "execution_count": 34,
     "metadata": {},
     "output_type": "execute_result"
    }
   ],
   "source": [
    "customers_emp_length_replaced.filter(\"emp_length is null\").count()"
   ]
  },
  {
   "cell_type": "code",
   "execution_count": 35,
   "id": "d80434f3",
   "metadata": {},
   "outputs": [],
   "source": [
    "customers_emp_length_replaced.createOrReplaceTempView(\"customers_emp_length_replaced\")"
   ]
  },
  {
   "cell_type": "code",
   "execution_count": 37,
   "id": "c81303ae",
   "metadata": {},
   "outputs": [
    {
     "data": {
      "text/html": [
       "<table border='1'>\n",
       "<tr><th>count(address_state)</th></tr>\n",
       "<tr><td>254</td></tr>\n",
       "</table>\n"
      ],
      "text/plain": [
       "+--------------------+\n",
       "|count(address_state)|\n",
       "+--------------------+\n",
       "|                 254|\n",
       "+--------------------+"
      ]
     },
     "execution_count": 37,
     "metadata": {},
     "output_type": "execute_result"
    }
   ],
   "source": [
    "spark.sql(\"select count(address_state) from customers_emp_length_replaced where length(address_state) > 2\")"
   ]
  },
  {
   "cell_type": "code",
   "execution_count": 38,
   "id": "46e5e668",
   "metadata": {},
   "outputs": [],
   "source": [
    "from pyspark.sql.functions import when, col, length"
   ]
  },
  {
   "cell_type": "code",
   "execution_count": 40,
   "id": "6ae9dbf6",
   "metadata": {},
   "outputs": [],
   "source": [
    "customers_state_cleaned = customers_emp_length_replaced.withColumn(\n",
    "    \"address_state\", \n",
    "    when(length(col(\"address_state\")) > 2, \"NA\").otherwise(col(\"address_state\"))\n",
    ")"
   ]
  },
  {
   "cell_type": "code",
   "execution_count": 41,
   "id": "52e09e52",
   "metadata": {},
   "outputs": [
    {
     "data": {
      "text/html": [
       "<table border='1'>\n",
       "<tr><th>member_id</th><th>emp_title</th><th>emp_length</th><th>home_ownership</th><th>annual_income</th><th>address_state</th><th>address_zipcode</th><th>address_country</th><th>grade</th><th>sub_grade</th><th>verification_status</th><th>tot_hi_cred_lim</th><th>application_type</th><th>joint_annual_income</th><th>verification_status_joint</th><th>ingest_date</th></tr>\n",
       "<tr><td>446196d7b12508af7...</td><td>null</td><td>6</td><td>MORTGAGE</td><td>60000.0</td><td>MN</td><td>550xx</td><td>USA</td><td>C</td><td>C1</td><td>Verified</td><td>211000.0</td><td>Individual</td><td>null</td><td>null</td><td>2024-12-12 10:30:...</td></tr>\n",
       "<tr><td>a04d3bd8853ee9091...</td><td>Fireman&#x27;s Fund In...</td><td>1</td><td>OWN</td><td>35000.0</td><td>MO</td><td>633xx</td><td>USA</td><td>E</td><td>E5</td><td>Verified</td><td>42926.0</td><td>Individual</td><td>null</td><td>null</td><td>2024-12-12 10:30:...</td></tr>\n",
       "<tr><td>1e015ea585e9061b3...</td><td>Tufts Health Plan</td><td>1</td><td>MORTGAGE</td><td>65000.0</td><td>MA</td><td>021xx</td><td>USA</td><td>B</td><td>B1</td><td>Not Verified</td><td>267883.0</td><td>Individual</td><td>null</td><td>null</td><td>2024-12-12 10:30:...</td></tr>\n",
       "<tr><td>af4afe11742622395...</td><td>Dunkin Donuts</td><td>10</td><td>RENT</td><td>56160.0</td><td>CT</td><td>060xx</td><td>USA</td><td>C</td><td>C5</td><td>Not Verified</td><td>39759.0</td><td>Individual</td><td>null</td><td>null</td><td>2024-12-12 10:30:...</td></tr>\n",
       "<tr><td>7daa0b03228588cdc...</td><td>null</td><td>6</td><td>RENT</td><td>15995.0</td><td>OH</td><td>437xx</td><td>USA</td><td>D</td><td>D5</td><td>Verified</td><td>13900.0</td><td>Individual</td><td>null</td><td>null</td><td>2024-12-12 10:30:...</td></tr>\n",
       "<tr><td>12887da8b12f8a721...</td><td>Concur Technologies</td><td>3</td><td>MORTGAGE</td><td>150000.0</td><td>WA</td><td>980xx</td><td>USA</td><td>B</td><td>B2</td><td>Verified</td><td>293801.0</td><td>Individual</td><td>null</td><td>null</td><td>2024-12-12 10:30:...</td></tr>\n",
       "<tr><td>2fa324bbfec2e4a14...</td><td>Intersil</td><td>10</td><td>MORTGAGE</td><td>75000.0</td><td>CA</td><td>945xx</td><td>USA</td><td>B</td><td>B2</td><td>Verified</td><td>284680.0</td><td>Individual</td><td>null</td><td>null</td><td>2024-12-12 10:30:...</td></tr>\n",
       "<tr><td>32b5a4c4b2dce7c32...</td><td>Mile High Organics</td><td>3</td><td>RENT</td><td>33000.0</td><td>CO</td><td>803xx</td><td>USA</td><td>C</td><td>C2</td><td>Not Verified</td><td>59897.0</td><td>Individual</td><td>null</td><td>null</td><td>2024-12-12 10:30:...</td></tr>\n",
       "<tr><td>4da10e92478b8bf22...</td><td>valley hospital a...</td><td>4</td><td>MORTGAGE</td><td>75000.0</td><td>NV</td><td>891xx</td><td>USA</td><td>A</td><td>A5</td><td>Not Verified</td><td>214394.0</td><td>Individual</td><td>null</td><td>null</td><td>2024-12-12 10:30:...</td></tr>\n",
       "<tr><td>8db97fcd1784116a4...</td><td>Mashburn Trans. S...</td><td>10</td><td>RENT</td><td>70000.0</td><td>CA</td><td>932xx</td><td>USA</td><td>C</td><td>C1</td><td>Verified</td><td>59355.0</td><td>Individual</td><td>null</td><td>null</td><td>2024-12-12 10:30:...</td></tr>\n",
       "<tr><td>792c5237f8e8cd6af...</td><td>wells fargo</td><td>1</td><td>MORTGAGE</td><td>96000.0</td><td>CA</td><td>957xx</td><td>USA</td><td>B</td><td>B5</td><td>Verified</td><td>273631.0</td><td>Individual</td><td>null</td><td>null</td><td>2024-12-12 10:30:...</td></tr>\n",
       "<tr><td>a299ed3b261565faf...</td><td>sci greensburg</td><td>7</td><td>MORTGAGE</td><td>60000.0</td><td>PA</td><td>156xx</td><td>USA</td><td>C</td><td>C1</td><td>Verified</td><td>162708.0</td><td>Individual</td><td>null</td><td>null</td><td>2024-12-12 10:30:...</td></tr>\n",
       "<tr><td>2aeb8ca13ae9ec894...</td><td>SSAB Steel</td><td>10</td><td>RENT</td><td>130000.0</td><td>AL</td><td>365xx</td><td>USA</td><td>D</td><td>D1</td><td>Verified</td><td>49900.0</td><td>Individual</td><td>null</td><td>null</td><td>2024-12-12 10:30:...</td></tr>\n",
       "<tr><td>c82ff4cd7cc71cabb...</td><td>Beaufort County S...</td><td>8</td><td>MORTGAGE</td><td>35000.0</td><td>NC</td><td>285xx</td><td>USA</td><td>B</td><td>B4</td><td>Verified</td><td>189750.0</td><td>Individual</td><td>null</td><td>null</td><td>2024-12-12 10:30:...</td></tr>\n",
       "<tr><td>7e0cb8addf2fd2764...</td><td>The College Board</td><td>2</td><td>RENT</td><td>68000.0</td><td>NJ</td><td>075xx</td><td>USA</td><td>C</td><td>C5</td><td>Verified</td><td>60110.0</td><td>Individual</td><td>null</td><td>null</td><td>2024-12-12 10:30:...</td></tr>\n",
       "<tr><td>5e34ef008683a4563...</td><td>L&amp;L Transportation</td><td>2</td><td>RENT</td><td>57000.0</td><td>LA</td><td>707xx</td><td>USA</td><td>C</td><td>C5</td><td>Not Verified</td><td>32036.0</td><td>Individual</td><td>null</td><td>null</td><td>2024-12-12 10:30:...</td></tr>\n",
       "<tr><td>9bd83adf503241a5a...</td><td>Imagine!</td><td>10</td><td>MORTGAGE</td><td>62000.0</td><td>CO</td><td>805xx</td><td>USA</td><td>B</td><td>B4</td><td>Source Verified</td><td>172050.0</td><td>Individual</td><td>null</td><td>null</td><td>2024-12-12 10:30:...</td></tr>\n",
       "<tr><td>e210f9a7637c66c9a...</td><td>The Benjamin Hote...</td><td>9</td><td>RENT</td><td>85000.0</td><td>NY</td><td>113xx</td><td>USA</td><td>B</td><td>B3</td><td>Verified</td><td>31971.0</td><td>Individual</td><td>null</td><td>null</td><td>2024-12-12 10:30:...</td></tr>\n",
       "<tr><td>5aa0a68de669e49ef...</td><td>Sysco West Coast ...</td><td>9</td><td>RENT</td><td>38000.0</td><td>FL</td><td>342xx</td><td>USA</td><td>D</td><td>D2</td><td>Not Verified</td><td>39625.0</td><td>Individual</td><td>null</td><td>null</td><td>2024-12-12 10:30:...</td></tr>\n",
       "<tr><td>97f45b33046092952...</td><td>Alliant Tech.</td><td>5</td><td>MORTGAGE</td><td>56000.0</td><td>MN</td><td>553xx</td><td>USA</td><td>D</td><td>D4</td><td>Verified</td><td>249325.0</td><td>Individual</td><td>null</td><td>null</td><td>2024-12-12 10:30:...</td></tr>\n",
       "</table>\n",
       "only showing top 20 rows\n"
      ],
      "text/plain": [
       "+--------------------+--------------------+----------+--------------+-------------+-------------+---------------+---------------+-----+---------+-------------------+---------------+----------------+-------------------+-------------------------+--------------------+\n",
       "|           member_id|           emp_title|emp_length|home_ownership|annual_income|address_state|address_zipcode|address_country|grade|sub_grade|verification_status|tot_hi_cred_lim|application_type|joint_annual_income|verification_status_joint|         ingest_date|\n",
       "+--------------------+--------------------+----------+--------------+-------------+-------------+---------------+---------------+-----+---------+-------------------+---------------+----------------+-------------------+-------------------------+--------------------+\n",
       "|cf39f9cbcc4e6d340...|           Turbo Fab|        10|      MORTGAGE|     95324.07|           TX|          770xx|            USA|    B|       B4|       Not Verified|       236572.0|      Individual|               null|                     null|2024-12-12 10:30:...|\n",
       "|489dd0df8f0045810...|Brinker Internati...|         5|      MORTGAGE|      78000.0|           TX|          761xx|            USA|    A|       A5|           Verified|       242415.0|      Individual|               null|                     null|2024-12-12 10:30:...|\n",
       "|f2f747623efa5b5ff...|   Kaplan University|         9|          RENT|      95000.0|           FL|          334xx|            USA|    B|       B2|           Verified|        15935.0|      Individual|               null|                     null|2024-12-12 10:30:...|\n",
       "|4120e8ea7c5cfb198...|Frederick County ...|        10|      MORTGAGE|      85000.0|           VA|          226xx|            USA|    B|       B4|           Verified|       480999.0|      Individual|               null|                     null|2024-12-12 10:30:...|\n",
       "|17c91c057488f5e15...|   KE&G construction|         7|      MORTGAGE|      38000.0|           AZ|          856xx|            USA|    B|       B2|       Not Verified|       189622.0|      Individual|               null|                     null|2024-12-12 10:30:...|\n",
       "|9a2bbbb870835e126...|  Oak Lodge Holdings|         8|          RENT|      52000.0|           NJ|          070xx|            USA|    E|       E4|       Not Verified|        26223.0|      Individual|               null|                     null|2024-12-12 10:30:...|\n",
       "|ea1483036a76f4cd6...|Wheatstone Corpor...|        10|      MORTGAGE|      76000.0|           NC|          285xx|            USA|    D|       D4|           Verified|       173848.0|      Individual|               null|                     null|2024-12-12 10:30:...|\n",
       "|53e4c6df8c79e4060...|The Cullom Corpor...|        10|          RENT|      67000.0|           IN|          463xx|            USA|    E|       E5|           Verified|       118700.0|      Individual|               null|                     null|2024-12-12 10:30:...|\n",
       "|ced2c00a66344b0cf...|  I scope technology|         6|      MORTGAGE|     250000.0|           VA|          220xx|            USA|    C|       C2|    Source Verified|       861451.0|      Individual|               null|                     null|2024-12-12 10:30:...|\n",
       "|7b292b397caceb7a9...|               Xerox|        10|      MORTGAGE|      75000.0|           NJ|          070xx|            USA|    C|       C4|           Verified|       312046.0|      Individual|               null|                     null|2024-12-12 10:30:...|\n",
       "|18fef06e27b1a9f46...|  Dadada Media Group|         6|          RENT|      76000.0|           OH|          441xx|            USA|    D|       D1|       Not Verified|        60377.0|      Individual|               null|                     null|2024-12-12 10:30:...|\n",
       "|6f0df217c54dcb0f8...|Link2Health Solut...|         2|          RENT|     105000.0|           NY|          100xx|            USA|    A|       A5|           Verified|       131299.0|      Individual|               null|                     null|2024-12-12 10:30:...|\n",
       "|71b1803a9758f608a...|    The Premier Goup|         1|          RENT|      39520.0|           CO|          805xx|            USA|    B|       B5|           Verified|         8000.0|      Individual|               null|                     null|2024-12-12 10:30:...|\n",
       "|f7fc154c6112d1a4e...|                null|         7|      MORTGAGE|      95000.0|           FL|          347xx|            USA|    B|       B3|           Verified|       178217.0|      Individual|               null|                     null|2024-12-12 10:30:...|\n",
       "|499acd6185d9d51f8...|   Houston fire dept|         9|      MORTGAGE|      85000.0|           TX|          773xx|            USA|    A|       A5|       Not Verified|        37673.0|      Individual|               null|                     null|2024-12-12 10:30:...|\n",
       "|898708974ba747aec...|        Bloosman Gas|         6|      MORTGAGE|      33000.0|           SC|          296xx|            USA|    C|       C5|           Verified|       134722.0|      Individual|               null|                     null|2024-12-12 10:30:...|\n",
       "|9dad350516fd52a86...|            Shearers|         1|           OWN|      32000.0|           OH|          446xx|            USA|    D|       D3|       Not Verified|        31249.0|      Individual|               null|                     null|2024-12-12 10:30:...|\n",
       "|cc4a0b170df8e247a...|          GOVERNMENT|         6|      MORTGAGE|      63000.0|           HI|          967xx|            USA|    B|       B2|       Not Verified|       431068.0|      Individual|               null|                     null|2024-12-12 10:30:...|\n",
       "|bf2602aaa434296d8...|                null|         6|      MORTGAGE|      67200.0|           FL|          335xx|            USA|    C|       C1|           Verified|       342192.0|      Individual|               null|                     null|2024-12-12 10:30:...|\n",
       "|1e2d9af9e31ba978b...|                 CSS|        10|      MORTGAGE|     110000.0|           VA|          221xx|            USA|    C|       C4|           Verified|       239798.0|      Individual|               null|                     null|2024-12-12 10:30:...|\n",
       "+--------------------+--------------------+----------+--------------+-------------+-------------+---------------+---------------+-----+---------+-------------------+---------------+----------------+-------------------+-------------------------+--------------------+\n",
       "only showing top 20 rows"
      ]
     },
     "execution_count": 41,
     "metadata": {},
     "output_type": "execute_result"
    }
   ],
   "source": [
    "customers_state_cleaned"
   ]
  },
  {
   "cell_type": "code",
   "execution_count": 42,
   "id": "9eaae467",
   "metadata": {},
   "outputs": [
    {
     "data": {
      "text/plain": [
       "<bound method DataFrame.distinct of +-------------+\n",
       "|address_state|\n",
       "+-------------+\n",
       "|           GA|\n",
       "|           TX|\n",
       "|           CT|\n",
       "|           CA|\n",
       "|           CO|\n",
       "|           MI|\n",
       "|           IL|\n",
       "|           VA|\n",
       "|           TX|\n",
       "|           AZ|\n",
       "|           NY|\n",
       "|           NV|\n",
       "|           TN|\n",
       "|           NJ|\n",
       "|           AL|\n",
       "|           OH|\n",
       "|           MS|\n",
       "|           NY|\n",
       "|           NY|\n",
       "|           FL|\n",
       "+-------------+\n",
       "only showing top 20 rows\n",
       ">"
      ]
     },
     "execution_count": 42,
     "metadata": {},
     "output_type": "execute_result"
    }
   ],
   "source": [
    "customers_state_cleaned.select(\"address_state\").distinct"
   ]
  },
  {
   "cell_type": "code",
   "execution_count": 45,
   "id": "18ccddec",
   "metadata": {},
   "outputs": [],
   "source": [
    "customers_state_cleaned.write \\\n",
    ".option(\"header\", True) \\\n",
    ".format(\"parquet\") \\\n",
    ".mode(\"overwrite\") \\\n",
    ".option(\"path\", \"/user/itv012041/lendingclubproject/cleaned/customers_parquet\") \\\n",
    ".save()"
   ]
  },
  {
   "cell_type": "code",
   "execution_count": null,
   "id": "d83ee6f7",
   "metadata": {},
   "outputs": [],
   "source": []
  }
 ],
 "metadata": {
  "kernelspec": {
   "display_name": "Pyspark 3",
   "language": "python",
   "name": "pyspark3"
  },
  "language_info": {
   "codemirror_mode": {
    "name": "ipython",
    "version": 3
   },
   "file_extension": ".py",
   "mimetype": "text/x-python",
   "name": "python",
   "nbconvert_exporter": "python",
   "pygments_lexer": "ipython3",
   "version": "3.6.12"
  }
 },
 "nbformat": 4,
 "nbformat_minor": 5
}
