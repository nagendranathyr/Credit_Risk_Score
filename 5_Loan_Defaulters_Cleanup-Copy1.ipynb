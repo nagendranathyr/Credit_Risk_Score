{
 "cells": [
  {
   "cell_type": "code",
   "execution_count": 1,
   "id": "2991c8e3",
   "metadata": {},
   "outputs": [],
   "source": [
    "from pyspark.sql import SparkSession\n",
    "import getpass\n",
    "username = getpass.getuser()\n",
    "spark = SparkSession. \\\n",
    "builder. \\\n",
    "config('spark.ui.port', '0'). \\\n",
    "config(\"spark.sql.warehouse.dir\", f\"/user/{username}/warehouse\"). \\\n",
    "config('spark.shuffle.useOldFetchProtocol', 'true'). \\\n",
    "config('spark.app.name', 'itv012041_Loan_Defaulters_Cleanup'). \\\n",
    "enableHiveSupport(). \\\n",
    "master('yarn'). \\\n",
    "getOrCreate()"
   ]
  },
  {
   "cell_type": "code",
   "execution_count": 2,
   "id": "08e99394",
   "metadata": {},
   "outputs": [
    {
     "data": {
      "text/html": [
       "\n",
       "            <div>\n",
       "                <p><b>SparkSession - hive</b></p>\n",
       "                \n",
       "        <div>\n",
       "            <p><b>SparkContext</b></p>\n",
       "\n",
       "            <p><a href=\"http://g02.itversity.com:37155\">Spark UI</a></p>\n",
       "\n",
       "            <dl>\n",
       "              <dt>Version</dt>\n",
       "                <dd><code>v3.1.2</code></dd>\n",
       "              <dt>Master</dt>\n",
       "                <dd><code>yarn</code></dd>\n",
       "              <dt>AppName</dt>\n",
       "                <dd><code>itv012041_Loan_Defaulters_Cleanup</code></dd>\n",
       "            </dl>\n",
       "        </div>\n",
       "        \n",
       "            </div>\n",
       "        "
      ],
      "text/plain": [
       "<pyspark.sql.session.SparkSession at 0x7fbde15b68d0>"
      ]
     },
     "execution_count": 2,
     "metadata": {},
     "output_type": "execute_result"
    }
   ],
   "source": [
    "spark"
   ]
  },
  {
   "cell_type": "code",
   "execution_count": 3,
   "id": "49acc23e",
   "metadata": {},
   "outputs": [],
   "source": [
    "defaulters_schema = \"\"\"member_id string, delinq_2yrs float, delinq_amnt float,\n",
    "pub_rec float, pub_rec_bankruptcies float, inq_last_6mths float,\n",
    "total_rec_late_fee float, mths_since_last_delinq float, mths_since_last_record\n",
    "float\"\"\""
   ]
  },
  {
   "cell_type": "code",
   "execution_count": 4,
   "id": "4311edd6",
   "metadata": {},
   "outputs": [],
   "source": [
    "loans_defaulters_raw_df = spark.read \\\n",
    ".format(\"csv\") \\\n",
    ".option(\"header\", True) \\\n",
    ".schema(defaulters_schema) \\\n",
    ".load(\"/user/itv012041/lendingclubproject/raw/loan_defaulters_data_csv\")"
   ]
  },
  {
   "cell_type": "code",
   "execution_count": 5,
   "id": "92cd0cab",
   "metadata": {},
   "outputs": [
    {
     "data": {
      "text/html": [
       "<table border='1'>\n",
       "<tr><th>member_id</th><th>delinq_2yrs</th><th>delinq_amnt</th><th>pub_rec</th><th>pub_rec_bankruptcies</th><th>inq_last_6mths</th><th>total_rec_late_fee</th><th>mths_since_last_delinq</th><th>mths_since_last_record</th></tr>\n",
       "<tr><td>f90d0607c9b0fa739...</td><td>0.0</td><td>0.0</td><td>0.0</td><td>0.0</td><td>1.0</td><td>0.0</td><td>31.0</td><td>null</td></tr>\n",
       "<tr><td>99d92e92a800aa4ab...</td><td>1.0</td><td>0.0</td><td>0.0</td><td>0.0</td><td>0.0</td><td>0.0</td><td>6.0</td><td>null</td></tr>\n",
       "<tr><td>6fa139cac7b13feb8...</td><td>0.0</td><td>0.0</td><td>0.0</td><td>0.0</td><td>0.0</td><td>0.0</td><td>47.0</td><td>null</td></tr>\n",
       "<tr><td>e8f881a1a3858e248...</td><td>0.0</td><td>0.0</td><td>0.0</td><td>0.0</td><td>0.0</td><td>0.0</td><td>33.0</td><td>null</td></tr>\n",
       "<tr><td>c8655c7f8efef0342...</td><td>1.0</td><td>0.0</td><td>0.0</td><td>0.0</td><td>0.0</td><td>0.0</td><td>21.0</td><td>null</td></tr>\n",
       "<tr><td>8ddccb7d382d2bfa5...</td><td>0.0</td><td>0.0</td><td>0.0</td><td>0.0</td><td>0.0</td><td>0.0</td><td>null</td><td>null</td></tr>\n",
       "<tr><td>5ee639ebe58af7ebd...</td><td>0.0</td><td>0.0</td><td>1.0</td><td>0.0</td><td>2.0</td><td>0.0</td><td>null</td><td>71.0</td></tr>\n",
       "<tr><td>0d85da60a31069c9d...</td><td>1.0</td><td>0.0</td><td>2.0</td><td>0.0</td><td>0.0</td><td>0.0</td><td>6.0</td><td>63.0</td></tr>\n",
       "<tr><td>d98e23f7616bc19d2...</td><td>0.0</td><td>0.0</td><td>0.0</td><td>0.0</td><td>0.0</td><td>0.0</td><td>36.0</td><td>null</td></tr>\n",
       "<tr><td>5320d16780c93fe3d...</td><td>0.0</td><td>0.0</td><td>0.0</td><td>0.0</td><td>0.0</td><td>0.0</td><td>35.0</td><td>null</td></tr>\n",
       "<tr><td>4754f7ddc361ee17e...</td><td>0.0</td><td>0.0</td><td>0.0</td><td>0.0</td><td>0.0</td><td>0.0</td><td>null</td><td>null</td></tr>\n",
       "<tr><td>610b771e1cd1a948d...</td><td>0.0</td><td>0.0</td><td>0.0</td><td>0.0</td><td>3.0</td><td>0.0</td><td>null</td><td>null</td></tr>\n",
       "<tr><td>1a2ebfa028dd75ece...</td><td>0.0</td><td>0.0</td><td>0.0</td><td>0.0</td><td>2.0</td><td>0.0</td><td>30.0</td><td>null</td></tr>\n",
       "<tr><td>2835469dd982ec6fd...</td><td>4.0</td><td>0.0</td><td>0.0</td><td>0.0</td><td>0.0</td><td>0.0</td><td>5.0</td><td>null</td></tr>\n",
       "<tr><td>64554289d0dcbfba2...</td><td>1.0</td><td>0.0</td><td>0.0</td><td>0.0</td><td>2.0</td><td>0.0</td><td>20.0</td><td>null</td></tr>\n",
       "<tr><td>89f0699b7cf792107...</td><td>0.0</td><td>0.0</td><td>0.0</td><td>0.0</td><td>2.0</td><td>0.0</td><td>28.0</td><td>null</td></tr>\n",
       "<tr><td>f403d14f8d8469b78...</td><td>0.0</td><td>0.0</td><td>0.0</td><td>0.0</td><td>1.0</td><td>0.0</td><td>null</td><td>null</td></tr>\n",
       "<tr><td>879ac1d1414e07371...</td><td>1.0</td><td>0.0</td><td>2.0</td><td>0.0</td><td>2.0</td><td>0.0</td><td>15.0</td><td>32.0</td></tr>\n",
       "<tr><td>44a488cca3a90ae44...</td><td>1.0</td><td>0.0</td><td>0.0</td><td>0.0</td><td>1.0</td><td>0.0</td><td>19.0</td><td>null</td></tr>\n",
       "<tr><td>beff83cc71643ea56...</td><td>0.0</td><td>0.0</td><td>0.0</td><td>0.0</td><td>0.0</td><td>0.0</td><td>37.0</td><td>null</td></tr>\n",
       "</table>\n",
       "only showing top 20 rows\n"
      ],
      "text/plain": [
       "+--------------------+-----------+-----------+-------+--------------------+--------------+------------------+----------------------+----------------------+\n",
       "|           member_id|delinq_2yrs|delinq_amnt|pub_rec|pub_rec_bankruptcies|inq_last_6mths|total_rec_late_fee|mths_since_last_delinq|mths_since_last_record|\n",
       "+--------------------+-----------+-----------+-------+--------------------+--------------+------------------+----------------------+----------------------+\n",
       "|f90d0607c9b0fa739...|        0.0|        0.0|    0.0|                 0.0|           1.0|               0.0|                  31.0|                  null|\n",
       "|99d92e92a800aa4ab...|        1.0|        0.0|    0.0|                 0.0|           0.0|               0.0|                   6.0|                  null|\n",
       "|6fa139cac7b13feb8...|        0.0|        0.0|    0.0|                 0.0|           0.0|               0.0|                  47.0|                  null|\n",
       "|e8f881a1a3858e248...|        0.0|        0.0|    0.0|                 0.0|           0.0|               0.0|                  33.0|                  null|\n",
       "|c8655c7f8efef0342...|        1.0|        0.0|    0.0|                 0.0|           0.0|               0.0|                  21.0|                  null|\n",
       "|8ddccb7d382d2bfa5...|        0.0|        0.0|    0.0|                 0.0|           0.0|               0.0|                  null|                  null|\n",
       "|5ee639ebe58af7ebd...|        0.0|        0.0|    1.0|                 0.0|           2.0|               0.0|                  null|                  71.0|\n",
       "|0d85da60a31069c9d...|        1.0|        0.0|    2.0|                 0.0|           0.0|               0.0|                   6.0|                  63.0|\n",
       "|d98e23f7616bc19d2...|        0.0|        0.0|    0.0|                 0.0|           0.0|               0.0|                  36.0|                  null|\n",
       "|5320d16780c93fe3d...|        0.0|        0.0|    0.0|                 0.0|           0.0|               0.0|                  35.0|                  null|\n",
       "|4754f7ddc361ee17e...|        0.0|        0.0|    0.0|                 0.0|           0.0|               0.0|                  null|                  null|\n",
       "|610b771e1cd1a948d...|        0.0|        0.0|    0.0|                 0.0|           3.0|               0.0|                  null|                  null|\n",
       "|1a2ebfa028dd75ece...|        0.0|        0.0|    0.0|                 0.0|           2.0|               0.0|                  30.0|                  null|\n",
       "|2835469dd982ec6fd...|        4.0|        0.0|    0.0|                 0.0|           0.0|               0.0|                   5.0|                  null|\n",
       "|64554289d0dcbfba2...|        1.0|        0.0|    0.0|                 0.0|           2.0|               0.0|                  20.0|                  null|\n",
       "|89f0699b7cf792107...|        0.0|        0.0|    0.0|                 0.0|           2.0|               0.0|                  28.0|                  null|\n",
       "|f403d14f8d8469b78...|        0.0|        0.0|    0.0|                 0.0|           1.0|               0.0|                  null|                  null|\n",
       "|879ac1d1414e07371...|        1.0|        0.0|    2.0|                 0.0|           2.0|               0.0|                  15.0|                  32.0|\n",
       "|44a488cca3a90ae44...|        1.0|        0.0|    0.0|                 0.0|           1.0|               0.0|                  19.0|                  null|\n",
       "|beff83cc71643ea56...|        0.0|        0.0|    0.0|                 0.0|           0.0|               0.0|                  37.0|                  null|\n",
       "+--------------------+-----------+-----------+-------+--------------------+--------------+------------------+----------------------+----------------------+\n",
       "only showing top 20 rows"
      ]
     },
     "execution_count": 5,
     "metadata": {},
     "output_type": "execute_result"
    }
   ],
   "source": [
    "loans_defaulters_raw_df"
   ]
  },
  {
   "cell_type": "code",
   "execution_count": 6,
   "id": "d0488fd2",
   "metadata": {},
   "outputs": [
    {
     "name": "stdout",
     "output_type": "stream",
     "text": [
      "root\n",
      " |-- member_id: string (nullable = true)\n",
      " |-- delinq_2yrs: float (nullable = true)\n",
      " |-- delinq_amnt: float (nullable = true)\n",
      " |-- pub_rec: float (nullable = true)\n",
      " |-- pub_rec_bankruptcies: float (nullable = true)\n",
      " |-- inq_last_6mths: float (nullable = true)\n",
      " |-- total_rec_late_fee: float (nullable = true)\n",
      " |-- mths_since_last_delinq: float (nullable = true)\n",
      " |-- mths_since_last_record: float (nullable = true)\n",
      "\n"
     ]
    }
   ],
   "source": [
    "loans_defaulters_raw_df.printSchema()"
   ]
  },
  {
   "cell_type": "code",
   "execution_count": 7,
   "id": "3c6bfac3",
   "metadata": {},
   "outputs": [],
   "source": [
    "loans_defaulters_raw_df.createOrReplaceTempView(\"loan_defaulters\")"
   ]
  },
  {
   "cell_type": "code",
   "execution_count": 8,
   "id": "3bf1932b",
   "metadata": {},
   "outputs": [
    {
     "data": {
      "text/html": [
       "<table border='1'>\n",
       "<tr><th>delinq_2yrs</th></tr>\n",
       "<tr><td>20.04</td></tr>\n",
       "<tr><td>18.53</td></tr>\n",
       "<tr><td>18.0</td></tr>\n",
       "<tr><td>26.24</td></tr>\n",
       "<tr><td>6.52</td></tr>\n",
       "<tr><td>9.0</td></tr>\n",
       "<tr><td>21.72</td></tr>\n",
       "<tr><td>17.17</td></tr>\n",
       "<tr><td>58.0</td></tr>\n",
       "<tr><td>5.0</td></tr>\n",
       "<tr><td>39.0</td></tr>\n",
       "<tr><td>9.44</td></tr>\n",
       "<tr><td>17.0</td></tr>\n",
       "<tr><td>30.0</td></tr>\n",
       "<tr><td>26.0</td></tr>\n",
       "<tr><td>29.0</td></tr>\n",
       "<tr><td>9.56</td></tr>\n",
       "<tr><td>23.0</td></tr>\n",
       "<tr><td>1.41</td></tr>\n",
       "<tr><td>17.18</td></tr>\n",
       "</table>\n",
       "only showing top 20 rows\n"
      ],
      "text/plain": [
       "+-----------+\n",
       "|delinq_2yrs|\n",
       "+-----------+\n",
       "|      20.04|\n",
       "|      18.53|\n",
       "|       18.0|\n",
       "|      26.24|\n",
       "|       6.52|\n",
       "|        9.0|\n",
       "|      21.72|\n",
       "|      17.17|\n",
       "|       58.0|\n",
       "|        5.0|\n",
       "|       39.0|\n",
       "|       9.44|\n",
       "|       17.0|\n",
       "|       30.0|\n",
       "|       26.0|\n",
       "|       29.0|\n",
       "|       9.56|\n",
       "|       23.0|\n",
       "|       1.41|\n",
       "|      17.18|\n",
       "+-----------+\n",
       "only showing top 20 rows"
      ]
     },
     "execution_count": 8,
     "metadata": {},
     "output_type": "execute_result"
    }
   ],
   "source": [
    "spark.sql(\"select distinct(delinq_2yrs) from loan_defaulters\")"
   ]
  },
  {
   "cell_type": "code",
   "execution_count": 9,
   "id": "9d5fb2b1",
   "metadata": {},
   "outputs": [
    {
     "name": "stdout",
     "output_type": "stream",
     "text": [
      "+-----------+--------+\n",
      "|delinq_2yrs|count(1)|\n",
      "+-----------+--------+\n",
      "|        0.0| 1838878|\n",
      "|        1.0|  281335|\n",
      "|        2.0|   81285|\n",
      "|        3.0|   29539|\n",
      "|        4.0|   13179|\n",
      "|        5.0|    6599|\n",
      "|        6.0|    3717|\n",
      "|        7.0|    2062|\n",
      "|        8.0|    1223|\n",
      "|        9.0|     818|\n",
      "|       10.0|     556|\n",
      "|       11.0|     363|\n",
      "|       12.0|     264|\n",
      "|       null|     261|\n",
      "|       13.0|     165|\n",
      "|       14.0|     120|\n",
      "|       15.0|      87|\n",
      "|       16.0|      55|\n",
      "|       17.0|      30|\n",
      "|       18.0|      30|\n",
      "|       19.0|      23|\n",
      "|       20.0|      17|\n",
      "|       21.0|      12|\n",
      "|       22.0|       5|\n",
      "|       24.0|       4|\n",
      "|       26.0|       3|\n",
      "|       30.0|       2|\n",
      "|       25.0|       2|\n",
      "|       3.44|       2|\n",
      "|       29.0|       2|\n",
      "|       23.0|       2|\n",
      "|       1.41|       1|\n",
      "|       9.44|       1|\n",
      "|      26.24|       1|\n",
      "|      20.04|       1|\n",
      "|      17.18|       1|\n",
      "|      13.76|       1|\n",
      "|       5.52|       1|\n",
      "|       6.52|       1|\n",
      "|       14.1|       1|\n",
      "+-----------+--------+\n",
      "only showing top 40 rows\n",
      "\n"
     ]
    }
   ],
   "source": [
    "spark.sql(\"select delinq_2yrs, count(*) \\\n",
    "            from loan_defaulters \\\n",
    "            group by 1 \\\n",
    "            order by 2 desc\").show(40)"
   ]
  },
  {
   "cell_type": "code",
   "execution_count": 31,
   "id": "2257e029",
   "metadata": {},
   "outputs": [],
   "source": [
    "from pyspark.sql.functions import col\n",
    "loans_defaulters_delinq_2yrs_processed_df = loans_defaulters_raw_df.withColumn(\"delinq_2yrs\", col(\"delinq_2yrs\").cast(\"integer\")) \\\n",
    ".fillna(0, subset = [\"delinq_2yrs\"])"
   ]
  },
  {
   "cell_type": "code",
   "execution_count": 32,
   "id": "d5834a84",
   "metadata": {},
   "outputs": [],
   "source": [
    "loans_defaulters_pub_rec_processed_df = loans_defaulters_delinq_2yrs_processed_df.withColumn(\"pub_rec\", col(\"pub_rec\").cast(\"integer\")) \\\n",
    ".fillna(0, subset = [\"pub_rec\"])"
   ]
  },
  {
   "cell_type": "code",
   "execution_count": 33,
   "id": "dae80e8d",
   "metadata": {},
   "outputs": [],
   "source": [
    "loans_defaulters_pub_rec_bankruptcies_processed_df = loans_defaulters_pub_rec_processed_df.withColumn(\"pub_rec_bankruptcies\", col(\"pub_rec_bankruptcies\").cast(\"integer\")) \\\n",
    ".fillna(0, subset = [\"pub_rec_bankruptcies\"])"
   ]
  },
  {
   "cell_type": "code",
   "execution_count": 34,
   "id": "0a7ab1be",
   "metadata": {},
   "outputs": [],
   "source": [
    "loans_defaulters_inq_last_6mths_processed_df = loans_defaulters_pub_rec_bankruptcies_processed_df.withColumn(\"inq_last_6mths\", col(\"inq_last_6mths\").cast(\"integer\")) \\\n",
    ".fillna(0, subset = [\"inq_last_6mths\"])"
   ]
  },
  {
   "cell_type": "code",
   "execution_count": 35,
   "id": "b6b0c9b4",
   "metadata": {},
   "outputs": [],
   "source": [
    "loans_defaulters_inq_last_6mths_processed_df.createOrReplaceTempView(\"loan_defaulters\")"
   ]
  },
  {
   "cell_type": "code",
   "execution_count": 36,
   "id": "b88c7bd3",
   "metadata": {},
   "outputs": [
    {
     "data": {
      "text/html": [
       "<table border='1'>\n",
       "<tr><th>member_id</th><th>delinq_2yrs</th><th>delinq_amnt</th><th>pub_rec</th><th>pub_rec_bankruptcies</th><th>inq_last_6mths</th><th>total_rec_late_fee</th><th>mths_since_last_delinq</th><th>mths_since_last_record</th></tr>\n",
       "<tr><td>f90d0607c9b0fa739...</td><td>0</td><td>0.0</td><td>0</td><td>0</td><td>1</td><td>0.0</td><td>31.0</td><td>null</td></tr>\n",
       "<tr><td>99d92e92a800aa4ab...</td><td>1</td><td>0.0</td><td>0</td><td>0</td><td>0</td><td>0.0</td><td>6.0</td><td>null</td></tr>\n",
       "<tr><td>6fa139cac7b13feb8...</td><td>0</td><td>0.0</td><td>0</td><td>0</td><td>0</td><td>0.0</td><td>47.0</td><td>null</td></tr>\n",
       "<tr><td>e8f881a1a3858e248...</td><td>0</td><td>0.0</td><td>0</td><td>0</td><td>0</td><td>0.0</td><td>33.0</td><td>null</td></tr>\n",
       "<tr><td>c8655c7f8efef0342...</td><td>1</td><td>0.0</td><td>0</td><td>0</td><td>0</td><td>0.0</td><td>21.0</td><td>null</td></tr>\n",
       "<tr><td>8ddccb7d382d2bfa5...</td><td>0</td><td>0.0</td><td>0</td><td>0</td><td>0</td><td>0.0</td><td>null</td><td>null</td></tr>\n",
       "<tr><td>5ee639ebe58af7ebd...</td><td>0</td><td>0.0</td><td>1</td><td>0</td><td>2</td><td>0.0</td><td>null</td><td>71.0</td></tr>\n",
       "<tr><td>0d85da60a31069c9d...</td><td>1</td><td>0.0</td><td>2</td><td>0</td><td>0</td><td>0.0</td><td>6.0</td><td>63.0</td></tr>\n",
       "<tr><td>d98e23f7616bc19d2...</td><td>0</td><td>0.0</td><td>0</td><td>0</td><td>0</td><td>0.0</td><td>36.0</td><td>null</td></tr>\n",
       "<tr><td>5320d16780c93fe3d...</td><td>0</td><td>0.0</td><td>0</td><td>0</td><td>0</td><td>0.0</td><td>35.0</td><td>null</td></tr>\n",
       "<tr><td>4754f7ddc361ee17e...</td><td>0</td><td>0.0</td><td>0</td><td>0</td><td>0</td><td>0.0</td><td>null</td><td>null</td></tr>\n",
       "<tr><td>610b771e1cd1a948d...</td><td>0</td><td>0.0</td><td>0</td><td>0</td><td>3</td><td>0.0</td><td>null</td><td>null</td></tr>\n",
       "<tr><td>1a2ebfa028dd75ece...</td><td>0</td><td>0.0</td><td>0</td><td>0</td><td>2</td><td>0.0</td><td>30.0</td><td>null</td></tr>\n",
       "<tr><td>2835469dd982ec6fd...</td><td>4</td><td>0.0</td><td>0</td><td>0</td><td>0</td><td>0.0</td><td>5.0</td><td>null</td></tr>\n",
       "<tr><td>64554289d0dcbfba2...</td><td>1</td><td>0.0</td><td>0</td><td>0</td><td>2</td><td>0.0</td><td>20.0</td><td>null</td></tr>\n",
       "<tr><td>89f0699b7cf792107...</td><td>0</td><td>0.0</td><td>0</td><td>0</td><td>2</td><td>0.0</td><td>28.0</td><td>null</td></tr>\n",
       "<tr><td>f403d14f8d8469b78...</td><td>0</td><td>0.0</td><td>0</td><td>0</td><td>1</td><td>0.0</td><td>null</td><td>null</td></tr>\n",
       "<tr><td>879ac1d1414e07371...</td><td>1</td><td>0.0</td><td>2</td><td>0</td><td>2</td><td>0.0</td><td>15.0</td><td>32.0</td></tr>\n",
       "<tr><td>44a488cca3a90ae44...</td><td>1</td><td>0.0</td><td>0</td><td>0</td><td>1</td><td>0.0</td><td>19.0</td><td>null</td></tr>\n",
       "<tr><td>beff83cc71643ea56...</td><td>0</td><td>0.0</td><td>0</td><td>0</td><td>0</td><td>0.0</td><td>37.0</td><td>null</td></tr>\n",
       "</table>\n",
       "only showing top 20 rows\n"
      ],
      "text/plain": [
       "+--------------------+-----------+-----------+-------+--------------------+--------------+------------------+----------------------+----------------------+\n",
       "|           member_id|delinq_2yrs|delinq_amnt|pub_rec|pub_rec_bankruptcies|inq_last_6mths|total_rec_late_fee|mths_since_last_delinq|mths_since_last_record|\n",
       "+--------------------+-----------+-----------+-------+--------------------+--------------+------------------+----------------------+----------------------+\n",
       "|f90d0607c9b0fa739...|          0|        0.0|      0|                   0|             1|               0.0|                  31.0|                  null|\n",
       "|99d92e92a800aa4ab...|          1|        0.0|      0|                   0|             0|               0.0|                   6.0|                  null|\n",
       "|6fa139cac7b13feb8...|          0|        0.0|      0|                   0|             0|               0.0|                  47.0|                  null|\n",
       "|e8f881a1a3858e248...|          0|        0.0|      0|                   0|             0|               0.0|                  33.0|                  null|\n",
       "|c8655c7f8efef0342...|          1|        0.0|      0|                   0|             0|               0.0|                  21.0|                  null|\n",
       "|8ddccb7d382d2bfa5...|          0|        0.0|      0|                   0|             0|               0.0|                  null|                  null|\n",
       "|5ee639ebe58af7ebd...|          0|        0.0|      1|                   0|             2|               0.0|                  null|                  71.0|\n",
       "|0d85da60a31069c9d...|          1|        0.0|      2|                   0|             0|               0.0|                   6.0|                  63.0|\n",
       "|d98e23f7616bc19d2...|          0|        0.0|      0|                   0|             0|               0.0|                  36.0|                  null|\n",
       "|5320d16780c93fe3d...|          0|        0.0|      0|                   0|             0|               0.0|                  35.0|                  null|\n",
       "|4754f7ddc361ee17e...|          0|        0.0|      0|                   0|             0|               0.0|                  null|                  null|\n",
       "|610b771e1cd1a948d...|          0|        0.0|      0|                   0|             3|               0.0|                  null|                  null|\n",
       "|1a2ebfa028dd75ece...|          0|        0.0|      0|                   0|             2|               0.0|                  30.0|                  null|\n",
       "|2835469dd982ec6fd...|          4|        0.0|      0|                   0|             0|               0.0|                   5.0|                  null|\n",
       "|64554289d0dcbfba2...|          1|        0.0|      0|                   0|             2|               0.0|                  20.0|                  null|\n",
       "|89f0699b7cf792107...|          0|        0.0|      0|                   0|             2|               0.0|                  28.0|                  null|\n",
       "|f403d14f8d8469b78...|          0|        0.0|      0|                   0|             1|               0.0|                  null|                  null|\n",
       "|879ac1d1414e07371...|          1|        0.0|      2|                   0|             2|               0.0|                  15.0|                  32.0|\n",
       "|44a488cca3a90ae44...|          1|        0.0|      0|                   0|             1|               0.0|                  19.0|                  null|\n",
       "|beff83cc71643ea56...|          0|        0.0|      0|                   0|             0|               0.0|                  37.0|                  null|\n",
       "+--------------------+-----------+-----------+-------+--------------------+--------------+------------------+----------------------+----------------------+\n",
       "only showing top 20 rows"
      ]
     },
     "execution_count": 36,
     "metadata": {},
     "output_type": "execute_result"
    }
   ],
   "source": [
    "spark.sql(\"select * from loan_defaulters\")"
   ]
  },
  {
   "cell_type": "code",
   "execution_count": 37,
   "id": "12df27f2",
   "metadata": {},
   "outputs": [
    {
     "name": "stdout",
     "output_type": "stream",
     "text": [
      "+-----------+--------+\n",
      "|delinq_2yrs|count(1)|\n",
      "+-----------+--------+\n",
      "|          0| 1839141|\n",
      "|          1|  281337|\n",
      "|          2|   81285|\n",
      "|          3|   29545|\n",
      "|          4|   13180|\n",
      "|          5|    6601|\n",
      "|          6|    3719|\n",
      "|          7|    2063|\n",
      "|          8|    1226|\n",
      "|          9|     821|\n",
      "|         10|     558|\n",
      "|         11|     363|\n",
      "|         12|     266|\n",
      "|         13|     167|\n",
      "|         14|     123|\n",
      "|         15|      90|\n",
      "|         16|      56|\n",
      "|         17|      33|\n",
      "|         18|      32|\n",
      "|         19|      24|\n",
      "|         20|      19|\n",
      "|         21|      16|\n",
      "|         22|       7|\n",
      "|         24|       6|\n",
      "|         23|       5|\n",
      "|         26|       4|\n",
      "|         29|       2|\n",
      "|         25|       2|\n",
      "|         30|       2|\n",
      "|         28|       1|\n",
      "|         27|       1|\n",
      "|         32|       1|\n",
      "|         35|       1|\n",
      "|         58|       1|\n",
      "|         42|       1|\n",
      "|         39|       1|\n",
      "|         36|       1|\n",
      "+-----------+--------+\n",
      "\n"
     ]
    }
   ],
   "source": [
    "spark.sql(\"select delinq_2yrs, count(*) \\\n",
    "            from loan_defaulters \\\n",
    "            group by 1 \\\n",
    "            order by 2 desc\").show(100)"
   ]
  },
  {
   "cell_type": "code",
   "execution_count": 38,
   "id": "5387493e",
   "metadata": {},
   "outputs": [],
   "source": [
    "#If a person has not defaulted, then no need to store his information in loan defaulters data"
   ]
  },
  {
   "cell_type": "code",
   "execution_count": 39,
   "id": "06297da4",
   "metadata": {},
   "outputs": [],
   "source": [
    "loan_defaulters_actual_df = spark.sql(\"select member_id, delinq_2yrs, delinq_amnt, \\\n",
    "int(mths_since_last_delinq) from loan_defaulters \\\n",
    "where delinq_2yrs > 0 or mths_since_last_delinq > 0\")"
   ]
  },
  {
   "cell_type": "code",
   "execution_count": 40,
   "id": "0e4066e8",
   "metadata": {},
   "outputs": [
    {
     "data": {
      "text/html": [
       "<table border='1'>\n",
       "<tr><th>member_id</th><th>delinq_2yrs</th><th>delinq_amnt</th><th>mths_since_last_delinq</th></tr>\n",
       "<tr><td>f90d0607c9b0fa739...</td><td>0</td><td>0.0</td><td>31</td></tr>\n",
       "<tr><td>99d92e92a800aa4ab...</td><td>1</td><td>0.0</td><td>6</td></tr>\n",
       "<tr><td>6fa139cac7b13feb8...</td><td>0</td><td>0.0</td><td>47</td></tr>\n",
       "<tr><td>e8f881a1a3858e248...</td><td>0</td><td>0.0</td><td>33</td></tr>\n",
       "<tr><td>c8655c7f8efef0342...</td><td>1</td><td>0.0</td><td>21</td></tr>\n",
       "<tr><td>0d85da60a31069c9d...</td><td>1</td><td>0.0</td><td>6</td></tr>\n",
       "<tr><td>d98e23f7616bc19d2...</td><td>0</td><td>0.0</td><td>36</td></tr>\n",
       "<tr><td>5320d16780c93fe3d...</td><td>0</td><td>0.0</td><td>35</td></tr>\n",
       "<tr><td>1a2ebfa028dd75ece...</td><td>0</td><td>0.0</td><td>30</td></tr>\n",
       "<tr><td>2835469dd982ec6fd...</td><td>4</td><td>0.0</td><td>5</td></tr>\n",
       "<tr><td>64554289d0dcbfba2...</td><td>1</td><td>0.0</td><td>20</td></tr>\n",
       "<tr><td>89f0699b7cf792107...</td><td>0</td><td>0.0</td><td>28</td></tr>\n",
       "<tr><td>879ac1d1414e07371...</td><td>1</td><td>0.0</td><td>15</td></tr>\n",
       "<tr><td>44a488cca3a90ae44...</td><td>1</td><td>0.0</td><td>19</td></tr>\n",
       "<tr><td>beff83cc71643ea56...</td><td>0</td><td>0.0</td><td>37</td></tr>\n",
       "<tr><td>20c0f8ec46623f355...</td><td>0</td><td>0.0</td><td>24</td></tr>\n",
       "<tr><td>032f50f481dd2636a...</td><td>0</td><td>0.0</td><td>57</td></tr>\n",
       "<tr><td>76d93b51e176dad97...</td><td>0</td><td>0.0</td><td>35</td></tr>\n",
       "<tr><td>0a5d21d0c927242bb...</td><td>2</td><td>0.0</td><td>7</td></tr>\n",
       "<tr><td>79635622ea90ed23d...</td><td>0</td><td>0.0</td><td>45</td></tr>\n",
       "</table>\n",
       "only showing top 20 rows\n"
      ],
      "text/plain": [
       "+--------------------+-----------+-----------+----------------------+\n",
       "|           member_id|delinq_2yrs|delinq_amnt|mths_since_last_delinq|\n",
       "+--------------------+-----------+-----------+----------------------+\n",
       "|f90d0607c9b0fa739...|          0|        0.0|                    31|\n",
       "|99d92e92a800aa4ab...|          1|        0.0|                     6|\n",
       "|6fa139cac7b13feb8...|          0|        0.0|                    47|\n",
       "|e8f881a1a3858e248...|          0|        0.0|                    33|\n",
       "|c8655c7f8efef0342...|          1|        0.0|                    21|\n",
       "|0d85da60a31069c9d...|          1|        0.0|                     6|\n",
       "|d98e23f7616bc19d2...|          0|        0.0|                    36|\n",
       "|5320d16780c93fe3d...|          0|        0.0|                    35|\n",
       "|1a2ebfa028dd75ece...|          0|        0.0|                    30|\n",
       "|2835469dd982ec6fd...|          4|        0.0|                     5|\n",
       "|64554289d0dcbfba2...|          1|        0.0|                    20|\n",
       "|89f0699b7cf792107...|          0|        0.0|                    28|\n",
       "|879ac1d1414e07371...|          1|        0.0|                    15|\n",
       "|44a488cca3a90ae44...|          1|        0.0|                    19|\n",
       "|beff83cc71643ea56...|          0|        0.0|                    37|\n",
       "|20c0f8ec46623f355...|          0|        0.0|                    24|\n",
       "|032f50f481dd2636a...|          0|        0.0|                    57|\n",
       "|76d93b51e176dad97...|          0|        0.0|                    35|\n",
       "|0a5d21d0c927242bb...|          2|        0.0|                     7|\n",
       "|79635622ea90ed23d...|          0|        0.0|                    45|\n",
       "+--------------------+-----------+-----------+----------------------+\n",
       "only showing top 20 rows"
      ]
     },
     "execution_count": 40,
     "metadata": {},
     "output_type": "execute_result"
    }
   ],
   "source": [
    "loan_defaulters_actual_df"
   ]
  },
  {
   "cell_type": "code",
   "execution_count": 41,
   "id": "d74cb313",
   "metadata": {},
   "outputs": [
    {
     "data": {
      "text/plain": [
       "1106163"
      ]
     },
     "execution_count": 41,
     "metadata": {},
     "output_type": "execute_result"
    }
   ],
   "source": [
    "loan_defaulters_actual_df.count()"
   ]
  },
  {
   "cell_type": "code",
   "execution_count": 42,
   "id": "4905380e",
   "metadata": {},
   "outputs": [],
   "source": [
    "loan_defaulters_with_records_or_enq_df = spark.sql(\"select member_id, pub_rec, pub_rec_bankruptcies, \\\n",
    "inq_last_6mths \\\n",
    "from loan_defaulters where pub_rec > 0.0 or pub_rec_bankruptcies > 0.0 \\\n",
    "or inq_last_6mths > 0.0\")"
   ]
  },
  {
   "cell_type": "code",
   "execution_count": 43,
   "id": "9843a8a5",
   "metadata": {},
   "outputs": [
    {
     "data": {
      "text/html": [
       "<table border='1'>\n",
       "<tr><th>member_id</th><th>pub_rec</th><th>pub_rec_bankruptcies</th><th>inq_last_6mths</th></tr>\n",
       "<tr><td>f90d0607c9b0fa739...</td><td>0</td><td>0</td><td>1</td></tr>\n",
       "<tr><td>5ee639ebe58af7ebd...</td><td>1</td><td>0</td><td>2</td></tr>\n",
       "<tr><td>0d85da60a31069c9d...</td><td>2</td><td>0</td><td>0</td></tr>\n",
       "<tr><td>610b771e1cd1a948d...</td><td>0</td><td>0</td><td>3</td></tr>\n",
       "<tr><td>1a2ebfa028dd75ece...</td><td>0</td><td>0</td><td>2</td></tr>\n",
       "<tr><td>64554289d0dcbfba2...</td><td>0</td><td>0</td><td>2</td></tr>\n",
       "<tr><td>89f0699b7cf792107...</td><td>0</td><td>0</td><td>2</td></tr>\n",
       "<tr><td>f403d14f8d8469b78...</td><td>0</td><td>0</td><td>1</td></tr>\n",
       "<tr><td>879ac1d1414e07371...</td><td>2</td><td>0</td><td>2</td></tr>\n",
       "<tr><td>44a488cca3a90ae44...</td><td>0</td><td>0</td><td>1</td></tr>\n",
       "<tr><td>e0398778a6c38e50b...</td><td>0</td><td>0</td><td>2</td></tr>\n",
       "<tr><td>20c0f8ec46623f355...</td><td>0</td><td>0</td><td>1</td></tr>\n",
       "<tr><td>032f50f481dd2636a...</td><td>1</td><td>1</td><td>1</td></tr>\n",
       "<tr><td>76d93b51e176dad97...</td><td>1</td><td>1</td><td>0</td></tr>\n",
       "<tr><td>0a5d21d0c927242bb...</td><td>0</td><td>0</td><td>1</td></tr>\n",
       "<tr><td>2bd20b5ec75a4cc97...</td><td>1</td><td>1</td><td>0</td></tr>\n",
       "<tr><td>1cfe8fd2c31fefd01...</td><td>0</td><td>0</td><td>3</td></tr>\n",
       "<tr><td>139e0e7e89a59c78a...</td><td>1</td><td>1</td><td>0</td></tr>\n",
       "<tr><td>0b69aff3bc31ab72f...</td><td>0</td><td>0</td><td>1</td></tr>\n",
       "<tr><td>0f353af62031d1f53...</td><td>0</td><td>0</td><td>1</td></tr>\n",
       "</table>\n",
       "only showing top 20 rows\n"
      ],
      "text/plain": [
       "+--------------------+-------+--------------------+--------------+\n",
       "|           member_id|pub_rec|pub_rec_bankruptcies|inq_last_6mths|\n",
       "+--------------------+-------+--------------------+--------------+\n",
       "|f90d0607c9b0fa739...|      0|                   0|             1|\n",
       "|5ee639ebe58af7ebd...|      1|                   0|             2|\n",
       "|0d85da60a31069c9d...|      2|                   0|             0|\n",
       "|610b771e1cd1a948d...|      0|                   0|             3|\n",
       "|1a2ebfa028dd75ece...|      0|                   0|             2|\n",
       "|64554289d0dcbfba2...|      0|                   0|             2|\n",
       "|89f0699b7cf792107...|      0|                   0|             2|\n",
       "|f403d14f8d8469b78...|      0|                   0|             1|\n",
       "|879ac1d1414e07371...|      2|                   0|             2|\n",
       "|44a488cca3a90ae44...|      0|                   0|             1|\n",
       "|e0398778a6c38e50b...|      0|                   0|             2|\n",
       "|20c0f8ec46623f355...|      0|                   0|             1|\n",
       "|032f50f481dd2636a...|      1|                   1|             1|\n",
       "|76d93b51e176dad97...|      1|                   1|             0|\n",
       "|0a5d21d0c927242bb...|      0|                   0|             1|\n",
       "|2bd20b5ec75a4cc97...|      1|                   1|             0|\n",
       "|1cfe8fd2c31fefd01...|      0|                   0|             3|\n",
       "|139e0e7e89a59c78a...|      1|                   1|             0|\n",
       "|0b69aff3bc31ab72f...|      0|                   0|             1|\n",
       "|0f353af62031d1f53...|      0|                   0|             1|\n",
       "+--------------------+-------+--------------------+--------------+\n",
       "only showing top 20 rows"
      ]
     },
     "execution_count": 43,
     "metadata": {},
     "output_type": "execute_result"
    }
   ],
   "source": [
    "loan_defaulters_with_records_or_enq_df"
   ]
  },
  {
   "cell_type": "code",
   "execution_count": 44,
   "id": "849058e7",
   "metadata": {},
   "outputs": [
    {
     "data": {
      "text/plain": [
       "1070124"
      ]
     },
     "execution_count": 44,
     "metadata": {},
     "output_type": "execute_result"
    }
   ],
   "source": [
    "loan_defaulters_with_records_or_enq_df.count()"
   ]
  },
  {
   "cell_type": "code",
   "execution_count": 45,
   "id": "f2a891f9",
   "metadata": {},
   "outputs": [],
   "source": [
    "loan_defaulters_actual_df.write \\\n",
    ".option(\"header\", True) \\\n",
    ".format(\"csv\") \\\n",
    ".mode(\"overwrite\") \\\n",
    ".option(\"path\", \"/user/itv012041/lendingclubproject/cleaned/loan_defaulters_csv\") \\\n",
    ".save()"
   ]
  },
  {
   "cell_type": "code",
   "execution_count": 46,
   "id": "6e5848cd",
   "metadata": {},
   "outputs": [],
   "source": [
    "loan_defaulters_actual_df.write \\\n",
    ".option(\"header\", True) \\\n",
    ".format(\"parquet\") \\\n",
    ".mode(\"overwrite\") \\\n",
    ".option(\"path\", \"/user/itv012041/lendingclubproject/cleaned/loan_defaulters_parquet\") \\\n",
    ".save()"
   ]
  },
  {
   "cell_type": "code",
   "execution_count": 47,
   "id": "79207c0b",
   "metadata": {},
   "outputs": [],
   "source": [
    "loan_defaulters_with_records_or_enq_df.write \\\n",
    ".option(\"header\", True) \\\n",
    ".format(\"csv\") \\\n",
    ".mode(\"overwrite\") \\\n",
    ".option(\"path\", \"/user/itv012041/lendingclubproject/cleaned/loan_defaulters_with_records_or_enq_csv\") \\\n",
    ".save()"
   ]
  },
  {
   "cell_type": "code",
   "execution_count": 48,
   "id": "7b4e8ad4",
   "metadata": {},
   "outputs": [],
   "source": [
    "loan_defaulters_with_records_or_enq_df.write \\\n",
    ".option(\"header\", True) \\\n",
    ".format(\"parquet\") \\\n",
    ".mode(\"overwrite\") \\\n",
    ".option(\"path\", \"/user/itv012041/lendingclubproject/cleaned/loan_defaulters_with_records_or_enq_parquet\") \\\n",
    ".save()"
   ]
  },
  {
   "cell_type": "code",
   "execution_count": 37,
   "id": "d131736c",
   "metadata": {},
   "outputs": [],
   "source": [
    "spark.stop()"
   ]
  },
  {
   "cell_type": "code",
   "execution_count": null,
   "id": "1ba2b026",
   "metadata": {},
   "outputs": [],
   "source": []
  }
 ],
 "metadata": {
  "kernelspec": {
   "display_name": "Pyspark 3",
   "language": "python",
   "name": "pyspark3"
  },
  "language_info": {
   "codemirror_mode": {
    "name": "ipython",
    "version": 3
   },
   "file_extension": ".py",
   "mimetype": "text/x-python",
   "name": "python",
   "nbconvert_exporter": "python",
   "pygments_lexer": "ipython3",
   "version": "3.6.12"
  }
 },
 "nbformat": 4,
 "nbformat_minor": 5
}
