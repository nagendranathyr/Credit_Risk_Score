{
 "cells": [
  {
   "cell_type": "code",
   "execution_count": 42,
   "id": "1396fc8d",
   "metadata": {},
   "outputs": [],
   "source": [
    "from pyspark.sql import SparkSession\n",
    "import getpass\n",
    "username = getpass.getuser()\n",
    "spark = SparkSession. \\\n",
    "builder. \\\n",
    "config('spark.ui.port', '0'). \\\n",
    "config(\"spark.sql.warehouse.dir\", f\"/user/{username}/warehouse\"). \\\n",
    "config('spark.shuffle.useOldFetchProtocol', 'true'). \\\n",
    "config('spark.app.name', 'itv012041_Loans_Data_Cleanup'). \\\n",
    "enableHiveSupport(). \\\n",
    "master('yarn'). \\\n",
    "getOrCreate()"
   ]
  },
  {
   "cell_type": "code",
   "execution_count": 43,
   "id": "009915b3",
   "metadata": {},
   "outputs": [
    {
     "data": {
      "text/html": [
       "\n",
       "            <div>\n",
       "                <p><b>SparkSession - hive</b></p>\n",
       "                \n",
       "        <div>\n",
       "            <p><b>SparkContext</b></p>\n",
       "\n",
       "            <p><a href=\"http://g02.itversity.com:42283\">Spark UI</a></p>\n",
       "\n",
       "            <dl>\n",
       "              <dt>Version</dt>\n",
       "                <dd><code>v3.1.2</code></dd>\n",
       "              <dt>Master</dt>\n",
       "                <dd><code>yarn</code></dd>\n",
       "              <dt>AppName</dt>\n",
       "                <dd><code>itv012041_Loans_Data_Cleanup</code></dd>\n",
       "            </dl>\n",
       "        </div>\n",
       "        \n",
       "            </div>\n",
       "        "
      ],
      "text/plain": [
       "<pyspark.sql.session.SparkSession at 0x7f3c38eb8630>"
      ]
     },
     "execution_count": 43,
     "metadata": {},
     "output_type": "execute_result"
    }
   ],
   "source": [
    "spark"
   ]
  },
  {
   "cell_type": "code",
   "execution_count": 44,
   "id": "7d7b8a4b",
   "metadata": {},
   "outputs": [],
   "source": [
    "loans_schema=\"\"\"loan_id string,member_id string,loan_amount float,funded_amount float,loan_term_months string,\n",
    "interest_rate float,monthly_installment float,issue_date string,loan_status string,loan_purpose string,\n",
    "loan_title string\"\"\""
   ]
  },
  {
   "cell_type": "code",
   "execution_count": 45,
   "id": "17fe5a0d",
   "metadata": {},
   "outputs": [],
   "source": [
    "loans_raw_df = spark.read \\\n",
    ".format(\"csv\") \\\n",
    ".option(\"header\", True) \\\n",
    ".schema(loans_schema) \\\n",
    ".load(\"/user/itv012041/lendingclubproject/raw/loans_data_csv\")"
   ]
  },
  {
   "cell_type": "code",
   "execution_count": 16,
   "id": "cdad1a9d",
   "metadata": {},
   "outputs": [
    {
     "data": {
      "text/html": [
       "<table border='1'>\n",
       "<tr><th>loan_id</th><th>member_id</th><th>loan_amount</th><th>funded_amount</th><th>loan_term_months</th><th>interest_rate</th><th>monthly_installment</th><th>issue_date</th><th>loan_status</th><th>loan_purpose</th><th>loan_title</th></tr>\n",
       "<tr><td>76003861</td><td>6f32d9a5af686d037...</td><td>24000.0</td><td>24000.0</td><td>60 months</td><td>15.31</td><td>574.88</td><td>Apr-2016</td><td>Charged Off</td><td>debt_consolidation</td><td>Debt consolidation</td></tr>\n",
       "<tr><td>76263914</td><td>e9f0d508da72a2f6f...</td><td>2400.0</td><td>2400.0</td><td>36 months</td><td>11.47</td><td>79.11</td><td>Apr-2016</td><td>Fully Paid</td><td>debt_consolidation</td><td>Debt consolidation</td></tr>\n",
       "<tr><td>75537401</td><td>d0e4ce54c2c9eda10...</td><td>12600.0</td><td>12600.0</td><td>36 months</td><td>7.39</td><td>391.31</td><td>Apr-2016</td><td>Fully Paid</td><td>other</td><td>Other</td></tr>\n",
       "<tr><td>75038986</td><td>a6ac8fa6500b757de...</td><td>16800.0</td><td>16800.0</td><td>60 months</td><td>19.53</td><td>440.72</td><td>Apr-2016</td><td>Current</td><td>credit_card</td><td>Credit card refin...</td></tr>\n",
       "<tr><td>76301424</td><td>47d6ef856ab65437e...</td><td>4300.0</td><td>4300.0</td><td>36 months</td><td>17.27</td><td>153.89</td><td>Apr-2016</td><td>Charged Off</td><td>debt_consolidation</td><td>Debt consolidation</td></tr>\n",
       "<tr><td>75333198</td><td>a50a79ff1e281eae8...</td><td>8950.0</td><td>8950.0</td><td>36 months</td><td>22.45</td><td>343.9</td><td>Apr-2016</td><td>Current</td><td>credit_card</td><td>Credit card refin...</td></tr>\n",
       "<tr><td>76391453</td><td>1d958a151f5710d8f...</td><td>35000.0</td><td>35000.0</td><td>60 months</td><td>12.99</td><td>796.18</td><td>Apr-2016</td><td>Fully Paid</td><td>debt_consolidation</td><td>Debt consolidation</td></tr>\n",
       "<tr><td>76363364</td><td>c543fd86ac52bfa5c...</td><td>15000.0</td><td>15000.0</td><td>36 months</td><td>9.16</td><td>478.12</td><td>Apr-2016</td><td>Fully Paid</td><td>house</td><td>Home buying</td></tr>\n",
       "<tr><td>76272510</td><td>146d0f5d55cc7e35c...</td><td>30000.0</td><td>30000.0</td><td>60 months</td><td>16.29</td><td>734.18</td><td>Apr-2016</td><td>Current</td><td>debt_consolidation</td><td>Debt consolidation</td></tr>\n",
       "<tr><td>76304116</td><td>a21ce38328fe67c6e...</td><td>4800.0</td><td>4800.0</td><td>36 months</td><td>19.99</td><td>178.37</td><td>Apr-2016</td><td>Fully Paid</td><td>credit_card</td><td>Credit card refin...</td></tr>\n",
       "<tr><td>76422971</td><td>1da96b507933ce0ce...</td><td>10000.0</td><td>10000.0</td><td>36 months</td><td>19.53</td><td>369.25</td><td>Apr-2016</td><td>Charged Off</td><td>moving</td><td>Moving and reloca...</td></tr>\n",
       "<tr><td>75369187</td><td>fe7d7a615ae740daf...</td><td>35000.0</td><td>35000.0</td><td>60 months</td><td>11.99</td><td>778.38</td><td>Apr-2016</td><td>Current</td><td>credit_card</td><td>null</td></tr>\n",
       "<tr><td>76212079</td><td>526fa33888d5d9be8...</td><td>6400.0</td><td>6400.0</td><td>36 months</td><td>9.16</td><td>204.0</td><td>Apr-2016</td><td>Current</td><td>credit_card</td><td>Credit card refin...</td></tr>\n",
       "<tr><td>75104089</td><td>13eeac2df238280cf...</td><td>8500.0</td><td>8500.0</td><td>36 months</td><td>9.75</td><td>273.28</td><td>Apr-2016</td><td>Fully Paid</td><td>debt_consolidation</td><td>Debt consolidation</td></tr>\n",
       "<tr><td>75669444</td><td>e05c359cbb91e9eef...</td><td>30800.0</td><td>30800.0</td><td>60 months</td><td>19.53</td><td>807.98</td><td>Apr-2016</td><td>Current</td><td>debt_consolidation</td><td>Debt consolidation</td></tr>\n",
       "<tr><td>76223382</td><td>95fd1d002ac8755c0...</td><td>2000.0</td><td>2000.0</td><td>36 months</td><td>9.16</td><td>63.75</td><td>Apr-2016</td><td>Current</td><td>debt_consolidation</td><td>Debt consolidation</td></tr>\n",
       "<tr><td>76223540</td><td>ce1c3cf9756bd2710...</td><td>25000.0</td><td>25000.0</td><td>36 months</td><td>17.27</td><td>894.69</td><td>Apr-2016</td><td>Fully Paid</td><td>debt_consolidation</td><td>Debt consolidation</td></tr>\n",
       "<tr><td>76255093</td><td>5b26ae5b424bfd3af...</td><td>7000.0</td><td>7000.0</td><td>36 months</td><td>16.29</td><td>247.11</td><td>Apr-2016</td><td>Fully Paid</td><td>credit_card</td><td>Credit card refin...</td></tr>\n",
       "<tr><td>76402196</td><td>104ac11a9b8d6c93e...</td><td>8000.0</td><td>8000.0</td><td>36 months</td><td>13.67</td><td>272.15</td><td>Apr-2016</td><td>Current</td><td>debt_consolidation</td><td>Debt consolidation</td></tr>\n",
       "<tr><td>76223437</td><td>92efc4bdda4343b40...</td><td>24000.0</td><td>24000.0</td><td>36 months</td><td>9.16</td><td>764.99</td><td>Apr-2016</td><td>Fully Paid</td><td>other</td><td>Other</td></tr>\n",
       "</table>\n",
       "only showing top 20 rows\n"
      ],
      "text/plain": [
       "+--------+--------------------+-----------+-------------+----------------+-------------+-------------------+----------+-----------+------------------+--------------------+\n",
       "| loan_id|           member_id|loan_amount|funded_amount|loan_term_months|interest_rate|monthly_installment|issue_date|loan_status|      loan_purpose|          loan_title|\n",
       "+--------+--------------------+-----------+-------------+----------------+-------------+-------------------+----------+-----------+------------------+--------------------+\n",
       "|76003861|6f32d9a5af686d037...|    24000.0|      24000.0|       60 months|        15.31|             574.88|  Apr-2016|Charged Off|debt_consolidation|  Debt consolidation|\n",
       "|76263914|e9f0d508da72a2f6f...|     2400.0|       2400.0|       36 months|        11.47|              79.11|  Apr-2016| Fully Paid|debt_consolidation|  Debt consolidation|\n",
       "|75537401|d0e4ce54c2c9eda10...|    12600.0|      12600.0|       36 months|         7.39|             391.31|  Apr-2016| Fully Paid|             other|               Other|\n",
       "|75038986|a6ac8fa6500b757de...|    16800.0|      16800.0|       60 months|        19.53|             440.72|  Apr-2016|    Current|       credit_card|Credit card refin...|\n",
       "|76301424|47d6ef856ab65437e...|     4300.0|       4300.0|       36 months|        17.27|             153.89|  Apr-2016|Charged Off|debt_consolidation|  Debt consolidation|\n",
       "|75333198|a50a79ff1e281eae8...|     8950.0|       8950.0|       36 months|        22.45|              343.9|  Apr-2016|    Current|       credit_card|Credit card refin...|\n",
       "|76391453|1d958a151f5710d8f...|    35000.0|      35000.0|       60 months|        12.99|             796.18|  Apr-2016| Fully Paid|debt_consolidation|  Debt consolidation|\n",
       "|76363364|c543fd86ac52bfa5c...|    15000.0|      15000.0|       36 months|         9.16|             478.12|  Apr-2016| Fully Paid|             house|         Home buying|\n",
       "|76272510|146d0f5d55cc7e35c...|    30000.0|      30000.0|       60 months|        16.29|             734.18|  Apr-2016|    Current|debt_consolidation|  Debt consolidation|\n",
       "|76304116|a21ce38328fe67c6e...|     4800.0|       4800.0|       36 months|        19.99|             178.37|  Apr-2016| Fully Paid|       credit_card|Credit card refin...|\n",
       "|76422971|1da96b507933ce0ce...|    10000.0|      10000.0|       36 months|        19.53|             369.25|  Apr-2016|Charged Off|            moving|Moving and reloca...|\n",
       "|75369187|fe7d7a615ae740daf...|    35000.0|      35000.0|       60 months|        11.99|             778.38|  Apr-2016|    Current|       credit_card|                null|\n",
       "|76212079|526fa33888d5d9be8...|     6400.0|       6400.0|       36 months|         9.16|              204.0|  Apr-2016|    Current|       credit_card|Credit card refin...|\n",
       "|75104089|13eeac2df238280cf...|     8500.0|       8500.0|       36 months|         9.75|             273.28|  Apr-2016| Fully Paid|debt_consolidation|  Debt consolidation|\n",
       "|75669444|e05c359cbb91e9eef...|    30800.0|      30800.0|       60 months|        19.53|             807.98|  Apr-2016|    Current|debt_consolidation|  Debt consolidation|\n",
       "|76223382|95fd1d002ac8755c0...|     2000.0|       2000.0|       36 months|         9.16|              63.75|  Apr-2016|    Current|debt_consolidation|  Debt consolidation|\n",
       "|76223540|ce1c3cf9756bd2710...|    25000.0|      25000.0|       36 months|        17.27|             894.69|  Apr-2016| Fully Paid|debt_consolidation|  Debt consolidation|\n",
       "|76255093|5b26ae5b424bfd3af...|     7000.0|       7000.0|       36 months|        16.29|             247.11|  Apr-2016| Fully Paid|       credit_card|Credit card refin...|\n",
       "|76402196|104ac11a9b8d6c93e...|     8000.0|       8000.0|       36 months|        13.67|             272.15|  Apr-2016|    Current|debt_consolidation|  Debt consolidation|\n",
       "|76223437|92efc4bdda4343b40...|    24000.0|      24000.0|       36 months|         9.16|             764.99|  Apr-2016| Fully Paid|             other|               Other|\n",
       "+--------+--------------------+-----------+-------------+----------------+-------------+-------------------+----------+-----------+------------------+--------------------+\n",
       "only showing top 20 rows"
      ]
     },
     "execution_count": 16,
     "metadata": {},
     "output_type": "execute_result"
    }
   ],
   "source": [
    "loans_raw_df"
   ]
  },
  {
   "cell_type": "code",
   "execution_count": 18,
   "id": "72bcd887",
   "metadata": {},
   "outputs": [
    {
     "name": "stdout",
     "output_type": "stream",
     "text": [
      "root\n",
      " |-- loan_id: string (nullable = true)\n",
      " |-- member_id: string (nullable = true)\n",
      " |-- loan_amount: float (nullable = true)\n",
      " |-- funded_amount: float (nullable = true)\n",
      " |-- loan_term_months: string (nullable = true)\n",
      " |-- interest_rate: float (nullable = true)\n",
      " |-- monthly_installment: float (nullable = true)\n",
      " |-- issue_date: string (nullable = true)\n",
      " |-- loan_status: string (nullable = true)\n",
      " |-- loan_purpose: string (nullable = true)\n",
      " |-- loan_title: string (nullable = true)\n",
      "\n"
     ]
    }
   ],
   "source": [
    "loans_raw_df.printSchema()"
   ]
  },
  {
   "cell_type": "code",
   "execution_count": 46,
   "id": "6e2cee59",
   "metadata": {},
   "outputs": [],
   "source": [
    "from pyspark.sql.functions import current_timestamp"
   ]
  },
  {
   "cell_type": "code",
   "execution_count": 47,
   "id": "9c110e7d",
   "metadata": {},
   "outputs": [],
   "source": [
    "loans_df_with_ingest_date = loans_raw_df.withColumn(\"ingest_date\", current_timestamp())"
   ]
  },
  {
   "cell_type": "code",
   "execution_count": 23,
   "id": "e616b8ad",
   "metadata": {},
   "outputs": [
    {
     "data": {
      "text/html": [
       "<table border='1'>\n",
       "<tr><th>loan_id</th><th>member_id</th><th>loan_amount</th><th>funded_amount</th><th>loan_term_months</th><th>interest_rate</th><th>monthly_installment</th><th>issue_date</th><th>loan_status</th><th>loan_purpose</th><th>loan_title</th><th>ingest_date</th></tr>\n",
       "<tr><td>76003861</td><td>6f32d9a5af686d037...</td><td>24000.0</td><td>24000.0</td><td>60 months</td><td>15.31</td><td>574.88</td><td>Apr-2016</td><td>Charged Off</td><td>debt_consolidation</td><td>Debt consolidation</td><td>2024-12-13 02:12:...</td></tr>\n",
       "<tr><td>76263914</td><td>e9f0d508da72a2f6f...</td><td>2400.0</td><td>2400.0</td><td>36 months</td><td>11.47</td><td>79.11</td><td>Apr-2016</td><td>Fully Paid</td><td>debt_consolidation</td><td>Debt consolidation</td><td>2024-12-13 02:12:...</td></tr>\n",
       "<tr><td>75537401</td><td>d0e4ce54c2c9eda10...</td><td>12600.0</td><td>12600.0</td><td>36 months</td><td>7.39</td><td>391.31</td><td>Apr-2016</td><td>Fully Paid</td><td>other</td><td>Other</td><td>2024-12-13 02:12:...</td></tr>\n",
       "<tr><td>75038986</td><td>a6ac8fa6500b757de...</td><td>16800.0</td><td>16800.0</td><td>60 months</td><td>19.53</td><td>440.72</td><td>Apr-2016</td><td>Current</td><td>credit_card</td><td>Credit card refin...</td><td>2024-12-13 02:12:...</td></tr>\n",
       "<tr><td>76301424</td><td>47d6ef856ab65437e...</td><td>4300.0</td><td>4300.0</td><td>36 months</td><td>17.27</td><td>153.89</td><td>Apr-2016</td><td>Charged Off</td><td>debt_consolidation</td><td>Debt consolidation</td><td>2024-12-13 02:12:...</td></tr>\n",
       "<tr><td>75333198</td><td>a50a79ff1e281eae8...</td><td>8950.0</td><td>8950.0</td><td>36 months</td><td>22.45</td><td>343.9</td><td>Apr-2016</td><td>Current</td><td>credit_card</td><td>Credit card refin...</td><td>2024-12-13 02:12:...</td></tr>\n",
       "<tr><td>76391453</td><td>1d958a151f5710d8f...</td><td>35000.0</td><td>35000.0</td><td>60 months</td><td>12.99</td><td>796.18</td><td>Apr-2016</td><td>Fully Paid</td><td>debt_consolidation</td><td>Debt consolidation</td><td>2024-12-13 02:12:...</td></tr>\n",
       "<tr><td>76363364</td><td>c543fd86ac52bfa5c...</td><td>15000.0</td><td>15000.0</td><td>36 months</td><td>9.16</td><td>478.12</td><td>Apr-2016</td><td>Fully Paid</td><td>house</td><td>Home buying</td><td>2024-12-13 02:12:...</td></tr>\n",
       "<tr><td>76272510</td><td>146d0f5d55cc7e35c...</td><td>30000.0</td><td>30000.0</td><td>60 months</td><td>16.29</td><td>734.18</td><td>Apr-2016</td><td>Current</td><td>debt_consolidation</td><td>Debt consolidation</td><td>2024-12-13 02:12:...</td></tr>\n",
       "<tr><td>76304116</td><td>a21ce38328fe67c6e...</td><td>4800.0</td><td>4800.0</td><td>36 months</td><td>19.99</td><td>178.37</td><td>Apr-2016</td><td>Fully Paid</td><td>credit_card</td><td>Credit card refin...</td><td>2024-12-13 02:12:...</td></tr>\n",
       "<tr><td>76422971</td><td>1da96b507933ce0ce...</td><td>10000.0</td><td>10000.0</td><td>36 months</td><td>19.53</td><td>369.25</td><td>Apr-2016</td><td>Charged Off</td><td>moving</td><td>Moving and reloca...</td><td>2024-12-13 02:12:...</td></tr>\n",
       "<tr><td>75369187</td><td>fe7d7a615ae740daf...</td><td>35000.0</td><td>35000.0</td><td>60 months</td><td>11.99</td><td>778.38</td><td>Apr-2016</td><td>Current</td><td>credit_card</td><td>null</td><td>2024-12-13 02:12:...</td></tr>\n",
       "<tr><td>76212079</td><td>526fa33888d5d9be8...</td><td>6400.0</td><td>6400.0</td><td>36 months</td><td>9.16</td><td>204.0</td><td>Apr-2016</td><td>Current</td><td>credit_card</td><td>Credit card refin...</td><td>2024-12-13 02:12:...</td></tr>\n",
       "<tr><td>75104089</td><td>13eeac2df238280cf...</td><td>8500.0</td><td>8500.0</td><td>36 months</td><td>9.75</td><td>273.28</td><td>Apr-2016</td><td>Fully Paid</td><td>debt_consolidation</td><td>Debt consolidation</td><td>2024-12-13 02:12:...</td></tr>\n",
       "<tr><td>75669444</td><td>e05c359cbb91e9eef...</td><td>30800.0</td><td>30800.0</td><td>60 months</td><td>19.53</td><td>807.98</td><td>Apr-2016</td><td>Current</td><td>debt_consolidation</td><td>Debt consolidation</td><td>2024-12-13 02:12:...</td></tr>\n",
       "<tr><td>76223382</td><td>95fd1d002ac8755c0...</td><td>2000.0</td><td>2000.0</td><td>36 months</td><td>9.16</td><td>63.75</td><td>Apr-2016</td><td>Current</td><td>debt_consolidation</td><td>Debt consolidation</td><td>2024-12-13 02:12:...</td></tr>\n",
       "<tr><td>76223540</td><td>ce1c3cf9756bd2710...</td><td>25000.0</td><td>25000.0</td><td>36 months</td><td>17.27</td><td>894.69</td><td>Apr-2016</td><td>Fully Paid</td><td>debt_consolidation</td><td>Debt consolidation</td><td>2024-12-13 02:12:...</td></tr>\n",
       "<tr><td>76255093</td><td>5b26ae5b424bfd3af...</td><td>7000.0</td><td>7000.0</td><td>36 months</td><td>16.29</td><td>247.11</td><td>Apr-2016</td><td>Fully Paid</td><td>credit_card</td><td>Credit card refin...</td><td>2024-12-13 02:12:...</td></tr>\n",
       "<tr><td>76402196</td><td>104ac11a9b8d6c93e...</td><td>8000.0</td><td>8000.0</td><td>36 months</td><td>13.67</td><td>272.15</td><td>Apr-2016</td><td>Current</td><td>debt_consolidation</td><td>Debt consolidation</td><td>2024-12-13 02:12:...</td></tr>\n",
       "<tr><td>76223437</td><td>92efc4bdda4343b40...</td><td>24000.0</td><td>24000.0</td><td>36 months</td><td>9.16</td><td>764.99</td><td>Apr-2016</td><td>Fully Paid</td><td>other</td><td>Other</td><td>2024-12-13 02:12:...</td></tr>\n",
       "</table>\n",
       "only showing top 20 rows\n"
      ],
      "text/plain": [
       "+--------+--------------------+-----------+-------------+----------------+-------------+-------------------+----------+-----------+------------------+--------------------+--------------------+\n",
       "| loan_id|           member_id|loan_amount|funded_amount|loan_term_months|interest_rate|monthly_installment|issue_date|loan_status|      loan_purpose|          loan_title|         ingest_date|\n",
       "+--------+--------------------+-----------+-------------+----------------+-------------+-------------------+----------+-----------+------------------+--------------------+--------------------+\n",
       "|76003861|6f32d9a5af686d037...|    24000.0|      24000.0|       60 months|        15.31|             574.88|  Apr-2016|Charged Off|debt_consolidation|  Debt consolidation|2024-12-13 02:12:...|\n",
       "|76263914|e9f0d508da72a2f6f...|     2400.0|       2400.0|       36 months|        11.47|              79.11|  Apr-2016| Fully Paid|debt_consolidation|  Debt consolidation|2024-12-13 02:12:...|\n",
       "|75537401|d0e4ce54c2c9eda10...|    12600.0|      12600.0|       36 months|         7.39|             391.31|  Apr-2016| Fully Paid|             other|               Other|2024-12-13 02:12:...|\n",
       "|75038986|a6ac8fa6500b757de...|    16800.0|      16800.0|       60 months|        19.53|             440.72|  Apr-2016|    Current|       credit_card|Credit card refin...|2024-12-13 02:12:...|\n",
       "|76301424|47d6ef856ab65437e...|     4300.0|       4300.0|       36 months|        17.27|             153.89|  Apr-2016|Charged Off|debt_consolidation|  Debt consolidation|2024-12-13 02:12:...|\n",
       "|75333198|a50a79ff1e281eae8...|     8950.0|       8950.0|       36 months|        22.45|              343.9|  Apr-2016|    Current|       credit_card|Credit card refin...|2024-12-13 02:12:...|\n",
       "|76391453|1d958a151f5710d8f...|    35000.0|      35000.0|       60 months|        12.99|             796.18|  Apr-2016| Fully Paid|debt_consolidation|  Debt consolidation|2024-12-13 02:12:...|\n",
       "|76363364|c543fd86ac52bfa5c...|    15000.0|      15000.0|       36 months|         9.16|             478.12|  Apr-2016| Fully Paid|             house|         Home buying|2024-12-13 02:12:...|\n",
       "|76272510|146d0f5d55cc7e35c...|    30000.0|      30000.0|       60 months|        16.29|             734.18|  Apr-2016|    Current|debt_consolidation|  Debt consolidation|2024-12-13 02:12:...|\n",
       "|76304116|a21ce38328fe67c6e...|     4800.0|       4800.0|       36 months|        19.99|             178.37|  Apr-2016| Fully Paid|       credit_card|Credit card refin...|2024-12-13 02:12:...|\n",
       "|76422971|1da96b507933ce0ce...|    10000.0|      10000.0|       36 months|        19.53|             369.25|  Apr-2016|Charged Off|            moving|Moving and reloca...|2024-12-13 02:12:...|\n",
       "|75369187|fe7d7a615ae740daf...|    35000.0|      35000.0|       60 months|        11.99|             778.38|  Apr-2016|    Current|       credit_card|                null|2024-12-13 02:12:...|\n",
       "|76212079|526fa33888d5d9be8...|     6400.0|       6400.0|       36 months|         9.16|              204.0|  Apr-2016|    Current|       credit_card|Credit card refin...|2024-12-13 02:12:...|\n",
       "|75104089|13eeac2df238280cf...|     8500.0|       8500.0|       36 months|         9.75|             273.28|  Apr-2016| Fully Paid|debt_consolidation|  Debt consolidation|2024-12-13 02:12:...|\n",
       "|75669444|e05c359cbb91e9eef...|    30800.0|      30800.0|       60 months|        19.53|             807.98|  Apr-2016|    Current|debt_consolidation|  Debt consolidation|2024-12-13 02:12:...|\n",
       "|76223382|95fd1d002ac8755c0...|     2000.0|       2000.0|       36 months|         9.16|              63.75|  Apr-2016|    Current|debt_consolidation|  Debt consolidation|2024-12-13 02:12:...|\n",
       "|76223540|ce1c3cf9756bd2710...|    25000.0|      25000.0|       36 months|        17.27|             894.69|  Apr-2016| Fully Paid|debt_consolidation|  Debt consolidation|2024-12-13 02:12:...|\n",
       "|76255093|5b26ae5b424bfd3af...|     7000.0|       7000.0|       36 months|        16.29|             247.11|  Apr-2016| Fully Paid|       credit_card|Credit card refin...|2024-12-13 02:12:...|\n",
       "|76402196|104ac11a9b8d6c93e...|     8000.0|       8000.0|       36 months|        13.67|             272.15|  Apr-2016|    Current|debt_consolidation|  Debt consolidation|2024-12-13 02:12:...|\n",
       "|76223437|92efc4bdda4343b40...|    24000.0|      24000.0|       36 months|         9.16|             764.99|  Apr-2016| Fully Paid|             other|               Other|2024-12-13 02:12:...|\n",
       "+--------+--------------------+-----------+-------------+----------------+-------------+-------------------+----------+-----------+------------------+--------------------+--------------------+\n",
       "only showing top 20 rows"
      ]
     },
     "execution_count": 23,
     "metadata": {},
     "output_type": "execute_result"
    }
   ],
   "source": [
    "loans_df_with_ingest_date"
   ]
  },
  {
   "cell_type": "code",
   "execution_count": 24,
   "id": "cdbde9d7",
   "metadata": {},
   "outputs": [],
   "source": [
    "loans_df_with_ingest_date.createOrReplaceTempView(\"loans\")"
   ]
  },
  {
   "cell_type": "code",
   "execution_count": 25,
   "id": "94c4e56a",
   "metadata": {},
   "outputs": [
    {
     "data": {
      "text/html": [
       "<table border='1'>\n",
       "<tr><th>count(1)</th></tr>\n",
       "<tr><td>2260701</td></tr>\n",
       "</table>\n"
      ],
      "text/plain": [
       "+--------+\n",
       "|count(1)|\n",
       "+--------+\n",
       "| 2260701|\n",
       "+--------+"
      ]
     },
     "execution_count": 25,
     "metadata": {},
     "output_type": "execute_result"
    }
   ],
   "source": [
    "spark.sql(\"select count(*) from loans\")"
   ]
  },
  {
   "cell_type": "code",
   "execution_count": 26,
   "id": "76530096",
   "metadata": {},
   "outputs": [
    {
     "data": {
      "text/html": [
       "<table border='1'>\n",
       "<tr><th>loan_id</th><th>member_id</th><th>loan_amount</th><th>funded_amount</th><th>loan_term_months</th><th>interest_rate</th><th>monthly_installment</th><th>issue_date</th><th>loan_status</th><th>loan_purpose</th><th>loan_title</th><th>ingest_date</th></tr>\n",
       "<tr><td>76003861</td><td>6f32d9a5af686d037...</td><td>24000.0</td><td>24000.0</td><td>60 months</td><td>15.31</td><td>574.88</td><td>Apr-2016</td><td>Charged Off</td><td>debt_consolidation</td><td>Debt consolidation</td><td>2024-12-13 02:13:...</td></tr>\n",
       "<tr><td>76263914</td><td>e9f0d508da72a2f6f...</td><td>2400.0</td><td>2400.0</td><td>36 months</td><td>11.47</td><td>79.11</td><td>Apr-2016</td><td>Fully Paid</td><td>debt_consolidation</td><td>Debt consolidation</td><td>2024-12-13 02:13:...</td></tr>\n",
       "<tr><td>75537401</td><td>d0e4ce54c2c9eda10...</td><td>12600.0</td><td>12600.0</td><td>36 months</td><td>7.39</td><td>391.31</td><td>Apr-2016</td><td>Fully Paid</td><td>other</td><td>Other</td><td>2024-12-13 02:13:...</td></tr>\n",
       "<tr><td>75038986</td><td>a6ac8fa6500b757de...</td><td>16800.0</td><td>16800.0</td><td>60 months</td><td>19.53</td><td>440.72</td><td>Apr-2016</td><td>Current</td><td>credit_card</td><td>Credit card refin...</td><td>2024-12-13 02:13:...</td></tr>\n",
       "<tr><td>76301424</td><td>47d6ef856ab65437e...</td><td>4300.0</td><td>4300.0</td><td>36 months</td><td>17.27</td><td>153.89</td><td>Apr-2016</td><td>Charged Off</td><td>debt_consolidation</td><td>Debt consolidation</td><td>2024-12-13 02:13:...</td></tr>\n",
       "<tr><td>75333198</td><td>a50a79ff1e281eae8...</td><td>8950.0</td><td>8950.0</td><td>36 months</td><td>22.45</td><td>343.9</td><td>Apr-2016</td><td>Current</td><td>credit_card</td><td>Credit card refin...</td><td>2024-12-13 02:13:...</td></tr>\n",
       "<tr><td>76391453</td><td>1d958a151f5710d8f...</td><td>35000.0</td><td>35000.0</td><td>60 months</td><td>12.99</td><td>796.18</td><td>Apr-2016</td><td>Fully Paid</td><td>debt_consolidation</td><td>Debt consolidation</td><td>2024-12-13 02:13:...</td></tr>\n",
       "<tr><td>76363364</td><td>c543fd86ac52bfa5c...</td><td>15000.0</td><td>15000.0</td><td>36 months</td><td>9.16</td><td>478.12</td><td>Apr-2016</td><td>Fully Paid</td><td>house</td><td>Home buying</td><td>2024-12-13 02:13:...</td></tr>\n",
       "<tr><td>76272510</td><td>146d0f5d55cc7e35c...</td><td>30000.0</td><td>30000.0</td><td>60 months</td><td>16.29</td><td>734.18</td><td>Apr-2016</td><td>Current</td><td>debt_consolidation</td><td>Debt consolidation</td><td>2024-12-13 02:13:...</td></tr>\n",
       "<tr><td>76304116</td><td>a21ce38328fe67c6e...</td><td>4800.0</td><td>4800.0</td><td>36 months</td><td>19.99</td><td>178.37</td><td>Apr-2016</td><td>Fully Paid</td><td>credit_card</td><td>Credit card refin...</td><td>2024-12-13 02:13:...</td></tr>\n",
       "<tr><td>76422971</td><td>1da96b507933ce0ce...</td><td>10000.0</td><td>10000.0</td><td>36 months</td><td>19.53</td><td>369.25</td><td>Apr-2016</td><td>Charged Off</td><td>moving</td><td>Moving and reloca...</td><td>2024-12-13 02:13:...</td></tr>\n",
       "<tr><td>75369187</td><td>fe7d7a615ae740daf...</td><td>35000.0</td><td>35000.0</td><td>60 months</td><td>11.99</td><td>778.38</td><td>Apr-2016</td><td>Current</td><td>credit_card</td><td>null</td><td>2024-12-13 02:13:...</td></tr>\n",
       "<tr><td>76212079</td><td>526fa33888d5d9be8...</td><td>6400.0</td><td>6400.0</td><td>36 months</td><td>9.16</td><td>204.0</td><td>Apr-2016</td><td>Current</td><td>credit_card</td><td>Credit card refin...</td><td>2024-12-13 02:13:...</td></tr>\n",
       "<tr><td>75104089</td><td>13eeac2df238280cf...</td><td>8500.0</td><td>8500.0</td><td>36 months</td><td>9.75</td><td>273.28</td><td>Apr-2016</td><td>Fully Paid</td><td>debt_consolidation</td><td>Debt consolidation</td><td>2024-12-13 02:13:...</td></tr>\n",
       "<tr><td>75669444</td><td>e05c359cbb91e9eef...</td><td>30800.0</td><td>30800.0</td><td>60 months</td><td>19.53</td><td>807.98</td><td>Apr-2016</td><td>Current</td><td>debt_consolidation</td><td>Debt consolidation</td><td>2024-12-13 02:13:...</td></tr>\n",
       "<tr><td>76223382</td><td>95fd1d002ac8755c0...</td><td>2000.0</td><td>2000.0</td><td>36 months</td><td>9.16</td><td>63.75</td><td>Apr-2016</td><td>Current</td><td>debt_consolidation</td><td>Debt consolidation</td><td>2024-12-13 02:13:...</td></tr>\n",
       "<tr><td>76223540</td><td>ce1c3cf9756bd2710...</td><td>25000.0</td><td>25000.0</td><td>36 months</td><td>17.27</td><td>894.69</td><td>Apr-2016</td><td>Fully Paid</td><td>debt_consolidation</td><td>Debt consolidation</td><td>2024-12-13 02:13:...</td></tr>\n",
       "<tr><td>76255093</td><td>5b26ae5b424bfd3af...</td><td>7000.0</td><td>7000.0</td><td>36 months</td><td>16.29</td><td>247.11</td><td>Apr-2016</td><td>Fully Paid</td><td>credit_card</td><td>Credit card refin...</td><td>2024-12-13 02:13:...</td></tr>\n",
       "<tr><td>76402196</td><td>104ac11a9b8d6c93e...</td><td>8000.0</td><td>8000.0</td><td>36 months</td><td>13.67</td><td>272.15</td><td>Apr-2016</td><td>Current</td><td>debt_consolidation</td><td>Debt consolidation</td><td>2024-12-13 02:13:...</td></tr>\n",
       "<tr><td>76223437</td><td>92efc4bdda4343b40...</td><td>24000.0</td><td>24000.0</td><td>36 months</td><td>9.16</td><td>764.99</td><td>Apr-2016</td><td>Fully Paid</td><td>other</td><td>Other</td><td>2024-12-13 02:13:...</td></tr>\n",
       "</table>\n",
       "only showing top 20 rows\n"
      ],
      "text/plain": [
       "+--------+--------------------+-----------+-------------+----------------+-------------+-------------------+----------+-----------+------------------+--------------------+--------------------+\n",
       "| loan_id|           member_id|loan_amount|funded_amount|loan_term_months|interest_rate|monthly_installment|issue_date|loan_status|      loan_purpose|          loan_title|         ingest_date|\n",
       "+--------+--------------------+-----------+-------------+----------------+-------------+-------------------+----------+-----------+------------------+--------------------+--------------------+\n",
       "|76003861|6f32d9a5af686d037...|    24000.0|      24000.0|       60 months|        15.31|             574.88|  Apr-2016|Charged Off|debt_consolidation|  Debt consolidation|2024-12-13 02:13:...|\n",
       "|76263914|e9f0d508da72a2f6f...|     2400.0|       2400.0|       36 months|        11.47|              79.11|  Apr-2016| Fully Paid|debt_consolidation|  Debt consolidation|2024-12-13 02:13:...|\n",
       "|75537401|d0e4ce54c2c9eda10...|    12600.0|      12600.0|       36 months|         7.39|             391.31|  Apr-2016| Fully Paid|             other|               Other|2024-12-13 02:13:...|\n",
       "|75038986|a6ac8fa6500b757de...|    16800.0|      16800.0|       60 months|        19.53|             440.72|  Apr-2016|    Current|       credit_card|Credit card refin...|2024-12-13 02:13:...|\n",
       "|76301424|47d6ef856ab65437e...|     4300.0|       4300.0|       36 months|        17.27|             153.89|  Apr-2016|Charged Off|debt_consolidation|  Debt consolidation|2024-12-13 02:13:...|\n",
       "|75333198|a50a79ff1e281eae8...|     8950.0|       8950.0|       36 months|        22.45|              343.9|  Apr-2016|    Current|       credit_card|Credit card refin...|2024-12-13 02:13:...|\n",
       "|76391453|1d958a151f5710d8f...|    35000.0|      35000.0|       60 months|        12.99|             796.18|  Apr-2016| Fully Paid|debt_consolidation|  Debt consolidation|2024-12-13 02:13:...|\n",
       "|76363364|c543fd86ac52bfa5c...|    15000.0|      15000.0|       36 months|         9.16|             478.12|  Apr-2016| Fully Paid|             house|         Home buying|2024-12-13 02:13:...|\n",
       "|76272510|146d0f5d55cc7e35c...|    30000.0|      30000.0|       60 months|        16.29|             734.18|  Apr-2016|    Current|debt_consolidation|  Debt consolidation|2024-12-13 02:13:...|\n",
       "|76304116|a21ce38328fe67c6e...|     4800.0|       4800.0|       36 months|        19.99|             178.37|  Apr-2016| Fully Paid|       credit_card|Credit card refin...|2024-12-13 02:13:...|\n",
       "|76422971|1da96b507933ce0ce...|    10000.0|      10000.0|       36 months|        19.53|             369.25|  Apr-2016|Charged Off|            moving|Moving and reloca...|2024-12-13 02:13:...|\n",
       "|75369187|fe7d7a615ae740daf...|    35000.0|      35000.0|       60 months|        11.99|             778.38|  Apr-2016|    Current|       credit_card|                null|2024-12-13 02:13:...|\n",
       "|76212079|526fa33888d5d9be8...|     6400.0|       6400.0|       36 months|         9.16|              204.0|  Apr-2016|    Current|       credit_card|Credit card refin...|2024-12-13 02:13:...|\n",
       "|75104089|13eeac2df238280cf...|     8500.0|       8500.0|       36 months|         9.75|             273.28|  Apr-2016| Fully Paid|debt_consolidation|  Debt consolidation|2024-12-13 02:13:...|\n",
       "|75669444|e05c359cbb91e9eef...|    30800.0|      30800.0|       60 months|        19.53|             807.98|  Apr-2016|    Current|debt_consolidation|  Debt consolidation|2024-12-13 02:13:...|\n",
       "|76223382|95fd1d002ac8755c0...|     2000.0|       2000.0|       36 months|         9.16|              63.75|  Apr-2016|    Current|debt_consolidation|  Debt consolidation|2024-12-13 02:13:...|\n",
       "|76223540|ce1c3cf9756bd2710...|    25000.0|      25000.0|       36 months|        17.27|             894.69|  Apr-2016| Fully Paid|debt_consolidation|  Debt consolidation|2024-12-13 02:13:...|\n",
       "|76255093|5b26ae5b424bfd3af...|     7000.0|       7000.0|       36 months|        16.29|             247.11|  Apr-2016| Fully Paid|       credit_card|Credit card refin...|2024-12-13 02:13:...|\n",
       "|76402196|104ac11a9b8d6c93e...|     8000.0|       8000.0|       36 months|        13.67|             272.15|  Apr-2016|    Current|debt_consolidation|  Debt consolidation|2024-12-13 02:13:...|\n",
       "|76223437|92efc4bdda4343b40...|    24000.0|      24000.0|       36 months|         9.16|             764.99|  Apr-2016| Fully Paid|             other|               Other|2024-12-13 02:13:...|\n",
       "+--------+--------------------+-----------+-------------+----------------+-------------+-------------------+----------+-----------+------------------+--------------------+--------------------+\n",
       "only showing top 20 rows"
      ]
     },
     "execution_count": 26,
     "metadata": {},
     "output_type": "execute_result"
    }
   ],
   "source": [
    "spark.sql(\"select * from loans\")"
   ]
  },
  {
   "cell_type": "code",
   "execution_count": 27,
   "id": "780de7eb",
   "metadata": {},
   "outputs": [
    {
     "data": {
      "text/html": [
       "<table border='1'>\n",
       "<tr><th>loan_id</th><th>member_id</th><th>loan_amount</th><th>funded_amount</th><th>loan_term_months</th><th>interest_rate</th><th>monthly_installment</th><th>issue_date</th><th>loan_status</th><th>loan_purpose</th><th>loan_title</th><th>ingest_date</th></tr>\n",
       "<tr><td>Total amount fund...</td><td>e3b0c44298fc1c149...</td><td>null</td><td>null</td><td>null</td><td>null</td><td>null</td><td>null</td><td>null</td><td>null</td><td>null</td><td>2024-12-13 02:14:...</td></tr>\n",
       "<tr><td>Total amount fund...</td><td>e3b0c44298fc1c149...</td><td>null</td><td>null</td><td>null</td><td>null</td><td>null</td><td>null</td><td>null</td><td>null</td><td>null</td><td>2024-12-13 02:14:...</td></tr>\n",
       "<tr><td>Total amount fund...</td><td>e3b0c44298fc1c149...</td><td>null</td><td>null</td><td>null</td><td>null</td><td>null</td><td>null</td><td>null</td><td>null</td><td>null</td><td>2024-12-13 02:14:...</td></tr>\n",
       "<tr><td>Total amount fund...</td><td>e3b0c44298fc1c149...</td><td>null</td><td>null</td><td>null</td><td>null</td><td>null</td><td>null</td><td>null</td><td>null</td><td>null</td><td>2024-12-13 02:14:...</td></tr>\n",
       "<tr><td>Total amount fund...</td><td>e3b0c44298fc1c149...</td><td>null</td><td>null</td><td>null</td><td>null</td><td>null</td><td>null</td><td>null</td><td>null</td><td>null</td><td>2024-12-13 02:14:...</td></tr>\n",
       "<tr><td>Total amount fund...</td><td>e3b0c44298fc1c149...</td><td>null</td><td>null</td><td>null</td><td>null</td><td>null</td><td>null</td><td>null</td><td>null</td><td>null</td><td>2024-12-13 02:14:...</td></tr>\n",
       "<tr><td>Total amount fund...</td><td>e3b0c44298fc1c149...</td><td>null</td><td>null</td><td>null</td><td>null</td><td>null</td><td>null</td><td>null</td><td>null</td><td>null</td><td>2024-12-13 02:14:...</td></tr>\n",
       "<tr><td>Total amount fund...</td><td>e3b0c44298fc1c149...</td><td>null</td><td>null</td><td>null</td><td>null</td><td>null</td><td>null</td><td>null</td><td>null</td><td>null</td><td>2024-12-13 02:14:...</td></tr>\n",
       "<tr><td>Total amount fund...</td><td>e3b0c44298fc1c149...</td><td>null</td><td>null</td><td>null</td><td>null</td><td>null</td><td>null</td><td>null</td><td>null</td><td>null</td><td>2024-12-13 02:14:...</td></tr>\n",
       "<tr><td>Total amount fund...</td><td>e3b0c44298fc1c149...</td><td>null</td><td>null</td><td>null</td><td>null</td><td>null</td><td>null</td><td>null</td><td>null</td><td>null</td><td>2024-12-13 02:14:...</td></tr>\n",
       "<tr><td>Total amount fund...</td><td>e3b0c44298fc1c149...</td><td>null</td><td>null</td><td>null</td><td>null</td><td>null</td><td>null</td><td>null</td><td>null</td><td>null</td><td>2024-12-13 02:14:...</td></tr>\n",
       "<tr><td>Total amount fund...</td><td>e3b0c44298fc1c149...</td><td>null</td><td>null</td><td>null</td><td>null</td><td>null</td><td>null</td><td>null</td><td>null</td><td>null</td><td>2024-12-13 02:14:...</td></tr>\n",
       "<tr><td>Total amount fund...</td><td>e3b0c44298fc1c149...</td><td>null</td><td>null</td><td>null</td><td>null</td><td>null</td><td>null</td><td>null</td><td>null</td><td>null</td><td>2024-12-13 02:14:...</td></tr>\n",
       "<tr><td>Total amount fund...</td><td>e3b0c44298fc1c149...</td><td>null</td><td>null</td><td>null</td><td>null</td><td>null</td><td>null</td><td>null</td><td>null</td><td>null</td><td>2024-12-13 02:14:...</td></tr>\n",
       "<tr><td>Loans that do not...</td><td>e3b0c44298fc1c149...</td><td>null</td><td>null</td><td>null</td><td>null</td><td>null</td><td>null</td><td>null</td><td>null</td><td>null</td><td>2024-12-13 02:14:...</td></tr>\n",
       "<tr><td>Total amount fund...</td><td>e3b0c44298fc1c149...</td><td>null</td><td>null</td><td>null</td><td>null</td><td>null</td><td>null</td><td>null</td><td>null</td><td>null</td><td>2024-12-13 02:14:...</td></tr>\n",
       "<tr><td>Total amount fund...</td><td>e3b0c44298fc1c149...</td><td>null</td><td>null</td><td>null</td><td>null</td><td>null</td><td>null</td><td>null</td><td>null</td><td>null</td><td>2024-12-13 02:14:...</td></tr>\n",
       "<tr><td>Total amount fund...</td><td>e3b0c44298fc1c149...</td><td>null</td><td>null</td><td>null</td><td>null</td><td>null</td><td>null</td><td>null</td><td>null</td><td>null</td><td>2024-12-13 02:14:...</td></tr>\n",
       "<tr><td>Total amount fund...</td><td>e3b0c44298fc1c149...</td><td>null</td><td>null</td><td>null</td><td>null</td><td>null</td><td>null</td><td>null</td><td>null</td><td>null</td><td>2024-12-13 02:14:...</td></tr>\n",
       "<tr><td>Total amount fund...</td><td>e3b0c44298fc1c149...</td><td>null</td><td>null</td><td>null</td><td>null</td><td>null</td><td>null</td><td>null</td><td>null</td><td>null</td><td>2024-12-13 02:14:...</td></tr>\n",
       "</table>\n",
       "only showing top 20 rows\n"
      ],
      "text/plain": [
       "+--------------------+--------------------+-----------+-------------+----------------+-------------+-------------------+----------+-----------+------------+----------+--------------------+\n",
       "|             loan_id|           member_id|loan_amount|funded_amount|loan_term_months|interest_rate|monthly_installment|issue_date|loan_status|loan_purpose|loan_title|         ingest_date|\n",
       "+--------------------+--------------------+-----------+-------------+----------------+-------------+-------------------+----------+-----------+------------+----------+--------------------+\n",
       "|Total amount fund...|e3b0c44298fc1c149...|       null|         null|            null|         null|               null|      null|       null|        null|      null|2024-12-13 02:14:...|\n",
       "|Total amount fund...|e3b0c44298fc1c149...|       null|         null|            null|         null|               null|      null|       null|        null|      null|2024-12-13 02:14:...|\n",
       "|Total amount fund...|e3b0c44298fc1c149...|       null|         null|            null|         null|               null|      null|       null|        null|      null|2024-12-13 02:14:...|\n",
       "|Total amount fund...|e3b0c44298fc1c149...|       null|         null|            null|         null|               null|      null|       null|        null|      null|2024-12-13 02:14:...|\n",
       "|Total amount fund...|e3b0c44298fc1c149...|       null|         null|            null|         null|               null|      null|       null|        null|      null|2024-12-13 02:14:...|\n",
       "|Total amount fund...|e3b0c44298fc1c149...|       null|         null|            null|         null|               null|      null|       null|        null|      null|2024-12-13 02:14:...|\n",
       "|Total amount fund...|e3b0c44298fc1c149...|       null|         null|            null|         null|               null|      null|       null|        null|      null|2024-12-13 02:14:...|\n",
       "|Total amount fund...|e3b0c44298fc1c149...|       null|         null|            null|         null|               null|      null|       null|        null|      null|2024-12-13 02:14:...|\n",
       "|Total amount fund...|e3b0c44298fc1c149...|       null|         null|            null|         null|               null|      null|       null|        null|      null|2024-12-13 02:14:...|\n",
       "|Total amount fund...|e3b0c44298fc1c149...|       null|         null|            null|         null|               null|      null|       null|        null|      null|2024-12-13 02:14:...|\n",
       "|Total amount fund...|e3b0c44298fc1c149...|       null|         null|            null|         null|               null|      null|       null|        null|      null|2024-12-13 02:14:...|\n",
       "|Total amount fund...|e3b0c44298fc1c149...|       null|         null|            null|         null|               null|      null|       null|        null|      null|2024-12-13 02:14:...|\n",
       "|Total amount fund...|e3b0c44298fc1c149...|       null|         null|            null|         null|               null|      null|       null|        null|      null|2024-12-13 02:14:...|\n",
       "|Total amount fund...|e3b0c44298fc1c149...|       null|         null|            null|         null|               null|      null|       null|        null|      null|2024-12-13 02:14:...|\n",
       "|Loans that do not...|e3b0c44298fc1c149...|       null|         null|            null|         null|               null|      null|       null|        null|      null|2024-12-13 02:14:...|\n",
       "|Total amount fund...|e3b0c44298fc1c149...|       null|         null|            null|         null|               null|      null|       null|        null|      null|2024-12-13 02:14:...|\n",
       "|Total amount fund...|e3b0c44298fc1c149...|       null|         null|            null|         null|               null|      null|       null|        null|      null|2024-12-13 02:14:...|\n",
       "|Total amount fund...|e3b0c44298fc1c149...|       null|         null|            null|         null|               null|      null|       null|        null|      null|2024-12-13 02:14:...|\n",
       "|Total amount fund...|e3b0c44298fc1c149...|       null|         null|            null|         null|               null|      null|       null|        null|      null|2024-12-13 02:14:...|\n",
       "|Total amount fund...|e3b0c44298fc1c149...|       null|         null|            null|         null|               null|      null|       null|        null|      null|2024-12-13 02:14:...|\n",
       "+--------------------+--------------------+-----------+-------------+----------------+-------------+-------------------+----------+-----------+------------+----------+--------------------+\n",
       "only showing top 20 rows"
      ]
     },
     "execution_count": 27,
     "metadata": {},
     "output_type": "execute_result"
    }
   ],
   "source": [
    "spark.sql(\"select * from loans where loan_amount is null\")"
   ]
  },
  {
   "cell_type": "code",
   "execution_count": 28,
   "id": "4202bae5",
   "metadata": {},
   "outputs": [
    {
     "data": {
      "text/html": [
       "<table border='1'>\n",
       "<tr><th>count(1)</th></tr>\n",
       "<tr><td>33</td></tr>\n",
       "</table>\n"
      ],
      "text/plain": [
       "+--------+\n",
       "|count(1)|\n",
       "+--------+\n",
       "|      33|\n",
       "+--------+"
      ]
     },
     "execution_count": 28,
     "metadata": {},
     "output_type": "execute_result"
    }
   ],
   "source": [
    "spark.sql(\"select count(*) from loans where loan_amount is null\")"
   ]
  },
  {
   "cell_type": "code",
   "execution_count": 48,
   "id": "70065375",
   "metadata": {},
   "outputs": [],
   "source": [
    "columns_to_check=[\"loan_amount\",\"funded_amount\",\"loan_term_months\",\"interest_rate\",\n",
    "                  \"monthly_installment\",\"issue_date\",\"loan_status\",\"loan_purpose\"]"
   ]
  },
  {
   "cell_type": "code",
   "execution_count": 49,
   "id": "4450b43d",
   "metadata": {},
   "outputs": [],
   "source": [
    "loans_filtered_df = loans_df_with_ingest_date.na.drop(subset=columns_to_check)"
   ]
  },
  {
   "cell_type": "code",
   "execution_count": 50,
   "id": "3ab265b5",
   "metadata": {},
   "outputs": [
    {
     "data": {
      "text/plain": [
       "2260667"
      ]
     },
     "execution_count": 50,
     "metadata": {},
     "output_type": "execute_result"
    }
   ],
   "source": [
    "loans_filtered_df.count()"
   ]
  },
  {
   "cell_type": "code",
   "execution_count": 33,
   "id": "a8f8213a",
   "metadata": {},
   "outputs": [],
   "source": [
    "loans_filtered_df.createOrReplaceTempView(\"loans\")"
   ]
  },
  {
   "cell_type": "code",
   "execution_count": 51,
   "id": "f5219625",
   "metadata": {},
   "outputs": [],
   "source": [
    "from pyspark.sql.functions import regexp_replace, col"
   ]
  },
  {
   "cell_type": "code",
   "execution_count": 52,
   "id": "86847217",
   "metadata": {},
   "outputs": [],
   "source": [
    "loans_term_modified_df = loans_filtered_df. \\\n",
    "withColumn(\"loan_term_months\", (regexp_replace(col(\"loan_term_months\"), \" months\", \"\"). \\\n",
    "cast(\"int\") / 12). \\\n",
    "cast(\"int\")). \\\n",
    "withColumnRenamed(\"loan_term_months\", \"loan_term_years\")"
   ]
  },
  {
   "cell_type": "code",
   "execution_count": 37,
   "id": "3aa567e1",
   "metadata": {},
   "outputs": [
    {
     "data": {
      "text/html": [
       "<table border='1'>\n",
       "<tr><th>loan_id</th><th>member_id</th><th>loan_amount</th><th>funded_amount</th><th>loan_term_years</th><th>interest_rate</th><th>monthly_installment</th><th>issue_date</th><th>loan_status</th><th>loan_purpose</th><th>loan_title</th><th>ingest_date</th></tr>\n",
       "<tr><td>76003861</td><td>6f32d9a5af686d037...</td><td>24000.0</td><td>24000.0</td><td>5</td><td>15.31</td><td>574.88</td><td>Apr-2016</td><td>Charged Off</td><td>debt_consolidation</td><td>Debt consolidation</td><td>2024-12-13 02:29:...</td></tr>\n",
       "<tr><td>76263914</td><td>e9f0d508da72a2f6f...</td><td>2400.0</td><td>2400.0</td><td>3</td><td>11.47</td><td>79.11</td><td>Apr-2016</td><td>Fully Paid</td><td>debt_consolidation</td><td>Debt consolidation</td><td>2024-12-13 02:29:...</td></tr>\n",
       "<tr><td>75537401</td><td>d0e4ce54c2c9eda10...</td><td>12600.0</td><td>12600.0</td><td>3</td><td>7.39</td><td>391.31</td><td>Apr-2016</td><td>Fully Paid</td><td>other</td><td>Other</td><td>2024-12-13 02:29:...</td></tr>\n",
       "<tr><td>75038986</td><td>a6ac8fa6500b757de...</td><td>16800.0</td><td>16800.0</td><td>5</td><td>19.53</td><td>440.72</td><td>Apr-2016</td><td>Current</td><td>credit_card</td><td>Credit card refin...</td><td>2024-12-13 02:29:...</td></tr>\n",
       "<tr><td>76301424</td><td>47d6ef856ab65437e...</td><td>4300.0</td><td>4300.0</td><td>3</td><td>17.27</td><td>153.89</td><td>Apr-2016</td><td>Charged Off</td><td>debt_consolidation</td><td>Debt consolidation</td><td>2024-12-13 02:29:...</td></tr>\n",
       "<tr><td>75333198</td><td>a50a79ff1e281eae8...</td><td>8950.0</td><td>8950.0</td><td>3</td><td>22.45</td><td>343.9</td><td>Apr-2016</td><td>Current</td><td>credit_card</td><td>Credit card refin...</td><td>2024-12-13 02:29:...</td></tr>\n",
       "<tr><td>76391453</td><td>1d958a151f5710d8f...</td><td>35000.0</td><td>35000.0</td><td>5</td><td>12.99</td><td>796.18</td><td>Apr-2016</td><td>Fully Paid</td><td>debt_consolidation</td><td>Debt consolidation</td><td>2024-12-13 02:29:...</td></tr>\n",
       "<tr><td>76363364</td><td>c543fd86ac52bfa5c...</td><td>15000.0</td><td>15000.0</td><td>3</td><td>9.16</td><td>478.12</td><td>Apr-2016</td><td>Fully Paid</td><td>house</td><td>Home buying</td><td>2024-12-13 02:29:...</td></tr>\n",
       "<tr><td>76272510</td><td>146d0f5d55cc7e35c...</td><td>30000.0</td><td>30000.0</td><td>5</td><td>16.29</td><td>734.18</td><td>Apr-2016</td><td>Current</td><td>debt_consolidation</td><td>Debt consolidation</td><td>2024-12-13 02:29:...</td></tr>\n",
       "<tr><td>76304116</td><td>a21ce38328fe67c6e...</td><td>4800.0</td><td>4800.0</td><td>3</td><td>19.99</td><td>178.37</td><td>Apr-2016</td><td>Fully Paid</td><td>credit_card</td><td>Credit card refin...</td><td>2024-12-13 02:29:...</td></tr>\n",
       "<tr><td>76422971</td><td>1da96b507933ce0ce...</td><td>10000.0</td><td>10000.0</td><td>3</td><td>19.53</td><td>369.25</td><td>Apr-2016</td><td>Charged Off</td><td>moving</td><td>Moving and reloca...</td><td>2024-12-13 02:29:...</td></tr>\n",
       "<tr><td>75369187</td><td>fe7d7a615ae740daf...</td><td>35000.0</td><td>35000.0</td><td>5</td><td>11.99</td><td>778.38</td><td>Apr-2016</td><td>Current</td><td>credit_card</td><td>null</td><td>2024-12-13 02:29:...</td></tr>\n",
       "<tr><td>76212079</td><td>526fa33888d5d9be8...</td><td>6400.0</td><td>6400.0</td><td>3</td><td>9.16</td><td>204.0</td><td>Apr-2016</td><td>Current</td><td>credit_card</td><td>Credit card refin...</td><td>2024-12-13 02:29:...</td></tr>\n",
       "<tr><td>75104089</td><td>13eeac2df238280cf...</td><td>8500.0</td><td>8500.0</td><td>3</td><td>9.75</td><td>273.28</td><td>Apr-2016</td><td>Fully Paid</td><td>debt_consolidation</td><td>Debt consolidation</td><td>2024-12-13 02:29:...</td></tr>\n",
       "<tr><td>75669444</td><td>e05c359cbb91e9eef...</td><td>30800.0</td><td>30800.0</td><td>5</td><td>19.53</td><td>807.98</td><td>Apr-2016</td><td>Current</td><td>debt_consolidation</td><td>Debt consolidation</td><td>2024-12-13 02:29:...</td></tr>\n",
       "<tr><td>76223382</td><td>95fd1d002ac8755c0...</td><td>2000.0</td><td>2000.0</td><td>3</td><td>9.16</td><td>63.75</td><td>Apr-2016</td><td>Current</td><td>debt_consolidation</td><td>Debt consolidation</td><td>2024-12-13 02:29:...</td></tr>\n",
       "<tr><td>76223540</td><td>ce1c3cf9756bd2710...</td><td>25000.0</td><td>25000.0</td><td>3</td><td>17.27</td><td>894.69</td><td>Apr-2016</td><td>Fully Paid</td><td>debt_consolidation</td><td>Debt consolidation</td><td>2024-12-13 02:29:...</td></tr>\n",
       "<tr><td>76255093</td><td>5b26ae5b424bfd3af...</td><td>7000.0</td><td>7000.0</td><td>3</td><td>16.29</td><td>247.11</td><td>Apr-2016</td><td>Fully Paid</td><td>credit_card</td><td>Credit card refin...</td><td>2024-12-13 02:29:...</td></tr>\n",
       "<tr><td>76402196</td><td>104ac11a9b8d6c93e...</td><td>8000.0</td><td>8000.0</td><td>3</td><td>13.67</td><td>272.15</td><td>Apr-2016</td><td>Current</td><td>debt_consolidation</td><td>Debt consolidation</td><td>2024-12-13 02:29:...</td></tr>\n",
       "<tr><td>76223437</td><td>92efc4bdda4343b40...</td><td>24000.0</td><td>24000.0</td><td>3</td><td>9.16</td><td>764.99</td><td>Apr-2016</td><td>Fully Paid</td><td>other</td><td>Other</td><td>2024-12-13 02:29:...</td></tr>\n",
       "</table>\n",
       "only showing top 20 rows\n"
      ],
      "text/plain": [
       "+--------+--------------------+-----------+-------------+---------------+-------------+-------------------+----------+-----------+------------------+--------------------+--------------------+\n",
       "| loan_id|           member_id|loan_amount|funded_amount|loan_term_years|interest_rate|monthly_installment|issue_date|loan_status|      loan_purpose|          loan_title|         ingest_date|\n",
       "+--------+--------------------+-----------+-------------+---------------+-------------+-------------------+----------+-----------+------------------+--------------------+--------------------+\n",
       "|76003861|6f32d9a5af686d037...|    24000.0|      24000.0|              5|        15.31|             574.88|  Apr-2016|Charged Off|debt_consolidation|  Debt consolidation|2024-12-13 02:29:...|\n",
       "|76263914|e9f0d508da72a2f6f...|     2400.0|       2400.0|              3|        11.47|              79.11|  Apr-2016| Fully Paid|debt_consolidation|  Debt consolidation|2024-12-13 02:29:...|\n",
       "|75537401|d0e4ce54c2c9eda10...|    12600.0|      12600.0|              3|         7.39|             391.31|  Apr-2016| Fully Paid|             other|               Other|2024-12-13 02:29:...|\n",
       "|75038986|a6ac8fa6500b757de...|    16800.0|      16800.0|              5|        19.53|             440.72|  Apr-2016|    Current|       credit_card|Credit card refin...|2024-12-13 02:29:...|\n",
       "|76301424|47d6ef856ab65437e...|     4300.0|       4300.0|              3|        17.27|             153.89|  Apr-2016|Charged Off|debt_consolidation|  Debt consolidation|2024-12-13 02:29:...|\n",
       "|75333198|a50a79ff1e281eae8...|     8950.0|       8950.0|              3|        22.45|              343.9|  Apr-2016|    Current|       credit_card|Credit card refin...|2024-12-13 02:29:...|\n",
       "|76391453|1d958a151f5710d8f...|    35000.0|      35000.0|              5|        12.99|             796.18|  Apr-2016| Fully Paid|debt_consolidation|  Debt consolidation|2024-12-13 02:29:...|\n",
       "|76363364|c543fd86ac52bfa5c...|    15000.0|      15000.0|              3|         9.16|             478.12|  Apr-2016| Fully Paid|             house|         Home buying|2024-12-13 02:29:...|\n",
       "|76272510|146d0f5d55cc7e35c...|    30000.0|      30000.0|              5|        16.29|             734.18|  Apr-2016|    Current|debt_consolidation|  Debt consolidation|2024-12-13 02:29:...|\n",
       "|76304116|a21ce38328fe67c6e...|     4800.0|       4800.0|              3|        19.99|             178.37|  Apr-2016| Fully Paid|       credit_card|Credit card refin...|2024-12-13 02:29:...|\n",
       "|76422971|1da96b507933ce0ce...|    10000.0|      10000.0|              3|        19.53|             369.25|  Apr-2016|Charged Off|            moving|Moving and reloca...|2024-12-13 02:29:...|\n",
       "|75369187|fe7d7a615ae740daf...|    35000.0|      35000.0|              5|        11.99|             778.38|  Apr-2016|    Current|       credit_card|                null|2024-12-13 02:29:...|\n",
       "|76212079|526fa33888d5d9be8...|     6400.0|       6400.0|              3|         9.16|              204.0|  Apr-2016|    Current|       credit_card|Credit card refin...|2024-12-13 02:29:...|\n",
       "|75104089|13eeac2df238280cf...|     8500.0|       8500.0|              3|         9.75|             273.28|  Apr-2016| Fully Paid|debt_consolidation|  Debt consolidation|2024-12-13 02:29:...|\n",
       "|75669444|e05c359cbb91e9eef...|    30800.0|      30800.0|              5|        19.53|             807.98|  Apr-2016|    Current|debt_consolidation|  Debt consolidation|2024-12-13 02:29:...|\n",
       "|76223382|95fd1d002ac8755c0...|     2000.0|       2000.0|              3|         9.16|              63.75|  Apr-2016|    Current|debt_consolidation|  Debt consolidation|2024-12-13 02:29:...|\n",
       "|76223540|ce1c3cf9756bd2710...|    25000.0|      25000.0|              3|        17.27|             894.69|  Apr-2016| Fully Paid|debt_consolidation|  Debt consolidation|2024-12-13 02:29:...|\n",
       "|76255093|5b26ae5b424bfd3af...|     7000.0|       7000.0|              3|        16.29|             247.11|  Apr-2016| Fully Paid|       credit_card|Credit card refin...|2024-12-13 02:29:...|\n",
       "|76402196|104ac11a9b8d6c93e...|     8000.0|       8000.0|              3|        13.67|             272.15|  Apr-2016|    Current|debt_consolidation|  Debt consolidation|2024-12-13 02:29:...|\n",
       "|76223437|92efc4bdda4343b40...|    24000.0|      24000.0|              3|         9.16|             764.99|  Apr-2016| Fully Paid|             other|               Other|2024-12-13 02:29:...|\n",
       "+--------+--------------------+-----------+-------------+---------------+-------------+-------------------+----------+-----------+------------------+--------------------+--------------------+\n",
       "only showing top 20 rows"
      ]
     },
     "execution_count": 37,
     "metadata": {},
     "output_type": "execute_result"
    }
   ],
   "source": [
    "loans_term_modified_df"
   ]
  },
  {
   "cell_type": "code",
   "execution_count": 38,
   "id": "167c9caf",
   "metadata": {},
   "outputs": [
    {
     "name": "stdout",
     "output_type": "stream",
     "text": [
      "root\n",
      " |-- loan_id: string (nullable = true)\n",
      " |-- member_id: string (nullable = true)\n",
      " |-- loan_amount: float (nullable = true)\n",
      " |-- funded_amount: float (nullable = true)\n",
      " |-- loan_term_years: integer (nullable = true)\n",
      " |-- interest_rate: float (nullable = true)\n",
      " |-- monthly_installment: float (nullable = true)\n",
      " |-- issue_date: string (nullable = true)\n",
      " |-- loan_status: string (nullable = true)\n",
      " |-- loan_purpose: string (nullable = true)\n",
      " |-- loan_title: string (nullable = true)\n",
      " |-- ingest_date: timestamp (nullable = false)\n",
      "\n"
     ]
    }
   ],
   "source": [
    "loans_term_modified_df.printSchema()"
   ]
  },
  {
   "cell_type": "code",
   "execution_count": 53,
   "id": "ddb000a6",
   "metadata": {},
   "outputs": [],
   "source": [
    "loans_term_modified_df.createOrReplaceTempView(\"loans\")"
   ]
  },
  {
   "cell_type": "code",
   "execution_count": 54,
   "id": "48fba0ee",
   "metadata": {},
   "outputs": [
    {
     "data": {
      "text/html": [
       "<table border='1'>\n",
       "<tr><th>loan_id</th><th>member_id</th><th>loan_amount</th><th>funded_amount</th><th>loan_term_years</th><th>interest_rate</th><th>monthly_installment</th><th>issue_date</th><th>loan_status</th><th>loan_purpose</th><th>loan_title</th><th>ingest_date</th></tr>\n",
       "<tr><td>76003861</td><td>6f32d9a5af686d037...</td><td>24000.0</td><td>24000.0</td><td>5</td><td>15.31</td><td>574.88</td><td>Apr-2016</td><td>Charged Off</td><td>debt_consolidation</td><td>Debt consolidation</td><td>2024-12-13 02:33:...</td></tr>\n",
       "<tr><td>76263914</td><td>e9f0d508da72a2f6f...</td><td>2400.0</td><td>2400.0</td><td>3</td><td>11.47</td><td>79.11</td><td>Apr-2016</td><td>Fully Paid</td><td>debt_consolidation</td><td>Debt consolidation</td><td>2024-12-13 02:33:...</td></tr>\n",
       "<tr><td>75537401</td><td>d0e4ce54c2c9eda10...</td><td>12600.0</td><td>12600.0</td><td>3</td><td>7.39</td><td>391.31</td><td>Apr-2016</td><td>Fully Paid</td><td>other</td><td>Other</td><td>2024-12-13 02:33:...</td></tr>\n",
       "<tr><td>75038986</td><td>a6ac8fa6500b757de...</td><td>16800.0</td><td>16800.0</td><td>5</td><td>19.53</td><td>440.72</td><td>Apr-2016</td><td>Current</td><td>credit_card</td><td>Credit card refin...</td><td>2024-12-13 02:33:...</td></tr>\n",
       "<tr><td>76301424</td><td>47d6ef856ab65437e...</td><td>4300.0</td><td>4300.0</td><td>3</td><td>17.27</td><td>153.89</td><td>Apr-2016</td><td>Charged Off</td><td>debt_consolidation</td><td>Debt consolidation</td><td>2024-12-13 02:33:...</td></tr>\n",
       "<tr><td>75333198</td><td>a50a79ff1e281eae8...</td><td>8950.0</td><td>8950.0</td><td>3</td><td>22.45</td><td>343.9</td><td>Apr-2016</td><td>Current</td><td>credit_card</td><td>Credit card refin...</td><td>2024-12-13 02:33:...</td></tr>\n",
       "<tr><td>76391453</td><td>1d958a151f5710d8f...</td><td>35000.0</td><td>35000.0</td><td>5</td><td>12.99</td><td>796.18</td><td>Apr-2016</td><td>Fully Paid</td><td>debt_consolidation</td><td>Debt consolidation</td><td>2024-12-13 02:33:...</td></tr>\n",
       "<tr><td>76363364</td><td>c543fd86ac52bfa5c...</td><td>15000.0</td><td>15000.0</td><td>3</td><td>9.16</td><td>478.12</td><td>Apr-2016</td><td>Fully Paid</td><td>house</td><td>Home buying</td><td>2024-12-13 02:33:...</td></tr>\n",
       "<tr><td>76272510</td><td>146d0f5d55cc7e35c...</td><td>30000.0</td><td>30000.0</td><td>5</td><td>16.29</td><td>734.18</td><td>Apr-2016</td><td>Current</td><td>debt_consolidation</td><td>Debt consolidation</td><td>2024-12-13 02:33:...</td></tr>\n",
       "<tr><td>76304116</td><td>a21ce38328fe67c6e...</td><td>4800.0</td><td>4800.0</td><td>3</td><td>19.99</td><td>178.37</td><td>Apr-2016</td><td>Fully Paid</td><td>credit_card</td><td>Credit card refin...</td><td>2024-12-13 02:33:...</td></tr>\n",
       "<tr><td>76422971</td><td>1da96b507933ce0ce...</td><td>10000.0</td><td>10000.0</td><td>3</td><td>19.53</td><td>369.25</td><td>Apr-2016</td><td>Charged Off</td><td>moving</td><td>Moving and reloca...</td><td>2024-12-13 02:33:...</td></tr>\n",
       "<tr><td>75369187</td><td>fe7d7a615ae740daf...</td><td>35000.0</td><td>35000.0</td><td>5</td><td>11.99</td><td>778.38</td><td>Apr-2016</td><td>Current</td><td>credit_card</td><td>null</td><td>2024-12-13 02:33:...</td></tr>\n",
       "<tr><td>76212079</td><td>526fa33888d5d9be8...</td><td>6400.0</td><td>6400.0</td><td>3</td><td>9.16</td><td>204.0</td><td>Apr-2016</td><td>Current</td><td>credit_card</td><td>Credit card refin...</td><td>2024-12-13 02:33:...</td></tr>\n",
       "<tr><td>75104089</td><td>13eeac2df238280cf...</td><td>8500.0</td><td>8500.0</td><td>3</td><td>9.75</td><td>273.28</td><td>Apr-2016</td><td>Fully Paid</td><td>debt_consolidation</td><td>Debt consolidation</td><td>2024-12-13 02:33:...</td></tr>\n",
       "<tr><td>75669444</td><td>e05c359cbb91e9eef...</td><td>30800.0</td><td>30800.0</td><td>5</td><td>19.53</td><td>807.98</td><td>Apr-2016</td><td>Current</td><td>debt_consolidation</td><td>Debt consolidation</td><td>2024-12-13 02:33:...</td></tr>\n",
       "<tr><td>76223382</td><td>95fd1d002ac8755c0...</td><td>2000.0</td><td>2000.0</td><td>3</td><td>9.16</td><td>63.75</td><td>Apr-2016</td><td>Current</td><td>debt_consolidation</td><td>Debt consolidation</td><td>2024-12-13 02:33:...</td></tr>\n",
       "<tr><td>76223540</td><td>ce1c3cf9756bd2710...</td><td>25000.0</td><td>25000.0</td><td>3</td><td>17.27</td><td>894.69</td><td>Apr-2016</td><td>Fully Paid</td><td>debt_consolidation</td><td>Debt consolidation</td><td>2024-12-13 02:33:...</td></tr>\n",
       "<tr><td>76255093</td><td>5b26ae5b424bfd3af...</td><td>7000.0</td><td>7000.0</td><td>3</td><td>16.29</td><td>247.11</td><td>Apr-2016</td><td>Fully Paid</td><td>credit_card</td><td>Credit card refin...</td><td>2024-12-13 02:33:...</td></tr>\n",
       "<tr><td>76402196</td><td>104ac11a9b8d6c93e...</td><td>8000.0</td><td>8000.0</td><td>3</td><td>13.67</td><td>272.15</td><td>Apr-2016</td><td>Current</td><td>debt_consolidation</td><td>Debt consolidation</td><td>2024-12-13 02:33:...</td></tr>\n",
       "<tr><td>76223437</td><td>92efc4bdda4343b40...</td><td>24000.0</td><td>24000.0</td><td>3</td><td>9.16</td><td>764.99</td><td>Apr-2016</td><td>Fully Paid</td><td>other</td><td>Other</td><td>2024-12-13 02:33:...</td></tr>\n",
       "</table>\n",
       "only showing top 20 rows\n"
      ],
      "text/plain": [
       "+--------+--------------------+-----------+-------------+---------------+-------------+-------------------+----------+-----------+------------------+--------------------+--------------------+\n",
       "| loan_id|           member_id|loan_amount|funded_amount|loan_term_years|interest_rate|monthly_installment|issue_date|loan_status|      loan_purpose|          loan_title|         ingest_date|\n",
       "+--------+--------------------+-----------+-------------+---------------+-------------+-------------------+----------+-----------+------------------+--------------------+--------------------+\n",
       "|76003861|6f32d9a5af686d037...|    24000.0|      24000.0|              5|        15.31|             574.88|  Apr-2016|Charged Off|debt_consolidation|  Debt consolidation|2024-12-13 02:33:...|\n",
       "|76263914|e9f0d508da72a2f6f...|     2400.0|       2400.0|              3|        11.47|              79.11|  Apr-2016| Fully Paid|debt_consolidation|  Debt consolidation|2024-12-13 02:33:...|\n",
       "|75537401|d0e4ce54c2c9eda10...|    12600.0|      12600.0|              3|         7.39|             391.31|  Apr-2016| Fully Paid|             other|               Other|2024-12-13 02:33:...|\n",
       "|75038986|a6ac8fa6500b757de...|    16800.0|      16800.0|              5|        19.53|             440.72|  Apr-2016|    Current|       credit_card|Credit card refin...|2024-12-13 02:33:...|\n",
       "|76301424|47d6ef856ab65437e...|     4300.0|       4300.0|              3|        17.27|             153.89|  Apr-2016|Charged Off|debt_consolidation|  Debt consolidation|2024-12-13 02:33:...|\n",
       "|75333198|a50a79ff1e281eae8...|     8950.0|       8950.0|              3|        22.45|              343.9|  Apr-2016|    Current|       credit_card|Credit card refin...|2024-12-13 02:33:...|\n",
       "|76391453|1d958a151f5710d8f...|    35000.0|      35000.0|              5|        12.99|             796.18|  Apr-2016| Fully Paid|debt_consolidation|  Debt consolidation|2024-12-13 02:33:...|\n",
       "|76363364|c543fd86ac52bfa5c...|    15000.0|      15000.0|              3|         9.16|             478.12|  Apr-2016| Fully Paid|             house|         Home buying|2024-12-13 02:33:...|\n",
       "|76272510|146d0f5d55cc7e35c...|    30000.0|      30000.0|              5|        16.29|             734.18|  Apr-2016|    Current|debt_consolidation|  Debt consolidation|2024-12-13 02:33:...|\n",
       "|76304116|a21ce38328fe67c6e...|     4800.0|       4800.0|              3|        19.99|             178.37|  Apr-2016| Fully Paid|       credit_card|Credit card refin...|2024-12-13 02:33:...|\n",
       "|76422971|1da96b507933ce0ce...|    10000.0|      10000.0|              3|        19.53|             369.25|  Apr-2016|Charged Off|            moving|Moving and reloca...|2024-12-13 02:33:...|\n",
       "|75369187|fe7d7a615ae740daf...|    35000.0|      35000.0|              5|        11.99|             778.38|  Apr-2016|    Current|       credit_card|                null|2024-12-13 02:33:...|\n",
       "|76212079|526fa33888d5d9be8...|     6400.0|       6400.0|              3|         9.16|              204.0|  Apr-2016|    Current|       credit_card|Credit card refin...|2024-12-13 02:33:...|\n",
       "|75104089|13eeac2df238280cf...|     8500.0|       8500.0|              3|         9.75|             273.28|  Apr-2016| Fully Paid|debt_consolidation|  Debt consolidation|2024-12-13 02:33:...|\n",
       "|75669444|e05c359cbb91e9eef...|    30800.0|      30800.0|              5|        19.53|             807.98|  Apr-2016|    Current|debt_consolidation|  Debt consolidation|2024-12-13 02:33:...|\n",
       "|76223382|95fd1d002ac8755c0...|     2000.0|       2000.0|              3|         9.16|              63.75|  Apr-2016|    Current|debt_consolidation|  Debt consolidation|2024-12-13 02:33:...|\n",
       "|76223540|ce1c3cf9756bd2710...|    25000.0|      25000.0|              3|        17.27|             894.69|  Apr-2016| Fully Paid|debt_consolidation|  Debt consolidation|2024-12-13 02:33:...|\n",
       "|76255093|5b26ae5b424bfd3af...|     7000.0|       7000.0|              3|        16.29|             247.11|  Apr-2016| Fully Paid|       credit_card|Credit card refin...|2024-12-13 02:33:...|\n",
       "|76402196|104ac11a9b8d6c93e...|     8000.0|       8000.0|              3|        13.67|             272.15|  Apr-2016|    Current|debt_consolidation|  Debt consolidation|2024-12-13 02:33:...|\n",
       "|76223437|92efc4bdda4343b40...|    24000.0|      24000.0|              3|         9.16|             764.99|  Apr-2016| Fully Paid|             other|               Other|2024-12-13 02:33:...|\n",
       "+--------+--------------------+-----------+-------------+---------------+-------------+-------------------+----------+-----------+------------------+--------------------+--------------------+\n",
       "only showing top 20 rows"
      ]
     },
     "execution_count": 54,
     "metadata": {},
     "output_type": "execute_result"
    }
   ],
   "source": [
    "spark.sql(\"select * from loans\")"
   ]
  },
  {
   "cell_type": "code",
   "execution_count": 55,
   "id": "65b60ab9",
   "metadata": {},
   "outputs": [
    {
     "data": {
      "text/html": [
       "<table border='1'>\n",
       "<tr><th>loan_purpose</th></tr>\n",
       "<tr><td>guaranteed!&quot;</td></tr>\n",
       "<tr><td>and if they are a...</td></tr>\n",
       "<tr><td>never had any tro...</td></tr>\n",
       "<tr><td>&lt;br/&gt;&lt;br/&gt;Lending...</td></tr>\n",
       "<tr><td>Bank of America c...</td></tr>\n",
       "<tr><td>stocks</td></tr>\n",
       "<tr><td>please feel free ...</td></tr>\n",
       "<tr><td>I became his prim...</td></tr>\n",
       "<tr><td>brakes</td></tr>\n",
       "<tr><td>on one of the bus...</td></tr>\n",
       "<tr><td>because of the na...</td></tr>\n",
       "<tr><td>progressive multi...</td></tr>\n",
       "<tr><td>but not much info...</td></tr>\n",
       "<tr><td>I have eliminated...</td></tr>\n",
       "<tr><td>TutoringOne is a ...</td></tr>\n",
       "<tr><td>so I have to pay ...</td></tr>\n",
       "<tr><td>you may feel conf...</td></tr>\n",
       "<tr><td>Hilal Khalil Homa...</td></tr>\n",
       "<tr><td>000 in debt on cr...</td></tr>\n",
       "<tr><td>and the monthly p...</td></tr>\n",
       "</table>\n",
       "only showing top 20 rows\n"
      ],
      "text/plain": [
       "+--------------------+\n",
       "|        loan_purpose|\n",
       "+--------------------+\n",
       "|        guaranteed!\"|\n",
       "|and if they are a...|\n",
       "|never had any tro...|\n",
       "|<br/><br/>Lending...|\n",
       "|Bank of America c...|\n",
       "|              stocks|\n",
       "|please feel free ...|\n",
       "|I became his prim...|\n",
       "|              brakes|\n",
       "|on one of the bus...|\n",
       "|because of the na...|\n",
       "|progressive multi...|\n",
       "|but not much info...|\n",
       "|I have eliminated...|\n",
       "|TutoringOne is a ...|\n",
       "|so I have to pay ...|\n",
       "|you may feel conf...|\n",
       "|Hilal Khalil Homa...|\n",
       "|000 in debt on cr...|\n",
       "|and the monthly p...|\n",
       "+--------------------+\n",
       "only showing top 20 rows"
      ]
     },
     "execution_count": 55,
     "metadata": {},
     "output_type": "execute_result"
    }
   ],
   "source": [
    "spark.sql(\"select distinct(loan_purpose) from loans\")"
   ]
  },
  {
   "cell_type": "code",
   "execution_count": 57,
   "id": "570a5de4",
   "metadata": {},
   "outputs": [
    {
     "data": {
      "text/html": [
       "<table border='1'>\n",
       "<tr><th>loan_purpose</th><th>count(1)</th></tr>\n",
       "<tr><td>debt_consolidation</td><td>1277790</td></tr>\n",
       "<tr><td>credit_card</td><td>516926</td></tr>\n",
       "<tr><td>home_improvement</td><td>150440</td></tr>\n",
       "<tr><td>other</td><td>139413</td></tr>\n",
       "<tr><td>major_purchase</td><td>50429</td></tr>\n",
       "<tr><td>medical</td><td>27481</td></tr>\n",
       "<tr><td>small_business</td><td>24659</td></tr>\n",
       "<tr><td>car</td><td>24009</td></tr>\n",
       "<tr><td>vacation</td><td>15525</td></tr>\n",
       "<tr><td>moving</td><td>15402</td></tr>\n",
       "<tr><td>house</td><td>14131</td></tr>\n",
       "<tr><td>wedding</td><td>2351</td></tr>\n",
       "<tr><td>renewable_energy</td><td>1445</td></tr>\n",
       "<tr><td>educational</td><td>412</td></tr>\n",
       "<tr><td>&lt;br/&gt;&lt;br/&gt;Lending...</td><td>1</td></tr>\n",
       "<tr><td>please feel free ...</td><td>1</td></tr>\n",
       "<tr><td>TutoringOne is a ...</td><td>1</td></tr>\n",
       "<tr><td>putting together ...</td><td>1</td></tr>\n",
       "<tr><td>on one of the bus...</td><td>1</td></tr>\n",
       "<tr><td>because of the na...</td><td>1</td></tr>\n",
       "</table>\n",
       "only showing top 20 rows\n"
      ],
      "text/plain": [
       "+--------------------+--------+\n",
       "|        loan_purpose|count(1)|\n",
       "+--------------------+--------+\n",
       "|  debt_consolidation| 1277790|\n",
       "|         credit_card|  516926|\n",
       "|    home_improvement|  150440|\n",
       "|               other|  139413|\n",
       "|      major_purchase|   50429|\n",
       "|             medical|   27481|\n",
       "|      small_business|   24659|\n",
       "|                 car|   24009|\n",
       "|            vacation|   15525|\n",
       "|              moving|   15402|\n",
       "|               house|   14131|\n",
       "|             wedding|    2351|\n",
       "|    renewable_energy|    1445|\n",
       "|         educational|     412|\n",
       "|I have eliminated...|       1|\n",
       "|<br/><br/>Lending...|       1|\n",
       "|              brakes|       1|\n",
       "|and if they are a...|       1|\n",
       "|I became his prim...|       1|\n",
       "|on one of the bus...|       1|\n",
       "+--------------------+--------+\n",
       "only showing top 20 rows"
      ]
     },
     "execution_count": 57,
     "metadata": {},
     "output_type": "execute_result"
    }
   ],
   "source": [
    "spark.sql(\"select loan_purpose, count(*) from loans group by 1 order by 2 desc\")"
   ]
  },
  {
   "cell_type": "code",
   "execution_count": 58,
   "id": "c5de4ff3",
   "metadata": {},
   "outputs": [],
   "source": [
    "loan_purpose_lookup=[\"debt_consolidation\",\"credit_card\",\"home_improvement\",\"other\",\"major_purchase\",\n",
    "                     \"medical\",\"small_business\",\"car\",\"vacation\",\"moving\",\"house\",\"wedding\",\n",
    "                     \"renewable_energy\",\"educational\"]\n"
   ]
  },
  {
   "cell_type": "code",
   "execution_count": 59,
   "id": "d362b1cb",
   "metadata": {},
   "outputs": [],
   "source": [
    "from pyspark.sql.functions import when"
   ]
  },
  {
   "cell_type": "code",
   "execution_count": 63,
   "id": "cbf68096",
   "metadata": {},
   "outputs": [],
   "source": [
    "loan_purpose_modified = loans_term_modified_df.withColumn(\"loan_purpose\", when(col(\"loan_purpose\").isin(loan_purpose_lookup), col(\"loan_purpose\")).otherwise(\"other\"))"
   ]
  },
  {
   "cell_type": "code",
   "execution_count": 64,
   "id": "6e17ee0c",
   "metadata": {},
   "outputs": [
    {
     "data": {
      "text/html": [
       "<table border='1'>\n",
       "<tr><th>loan_id</th><th>member_id</th><th>loan_amount</th><th>funded_amount</th><th>loan_term_years</th><th>interest_rate</th><th>monthly_installment</th><th>issue_date</th><th>loan_status</th><th>loan_purpose</th><th>loan_title</th><th>ingest_date</th></tr>\n",
       "<tr><td>76003861</td><td>6f32d9a5af686d037...</td><td>24000.0</td><td>24000.0</td><td>5</td><td>15.31</td><td>574.88</td><td>Apr-2016</td><td>Charged Off</td><td>debt_consolidation</td><td>Debt consolidation</td><td>2024-12-13 02:51:...</td></tr>\n",
       "<tr><td>76263914</td><td>e9f0d508da72a2f6f...</td><td>2400.0</td><td>2400.0</td><td>3</td><td>11.47</td><td>79.11</td><td>Apr-2016</td><td>Fully Paid</td><td>debt_consolidation</td><td>Debt consolidation</td><td>2024-12-13 02:51:...</td></tr>\n",
       "<tr><td>75537401</td><td>d0e4ce54c2c9eda10...</td><td>12600.0</td><td>12600.0</td><td>3</td><td>7.39</td><td>391.31</td><td>Apr-2016</td><td>Fully Paid</td><td>other</td><td>Other</td><td>2024-12-13 02:51:...</td></tr>\n",
       "<tr><td>75038986</td><td>a6ac8fa6500b757de...</td><td>16800.0</td><td>16800.0</td><td>5</td><td>19.53</td><td>440.72</td><td>Apr-2016</td><td>Current</td><td>credit_card</td><td>Credit card refin...</td><td>2024-12-13 02:51:...</td></tr>\n",
       "<tr><td>76301424</td><td>47d6ef856ab65437e...</td><td>4300.0</td><td>4300.0</td><td>3</td><td>17.27</td><td>153.89</td><td>Apr-2016</td><td>Charged Off</td><td>debt_consolidation</td><td>Debt consolidation</td><td>2024-12-13 02:51:...</td></tr>\n",
       "<tr><td>75333198</td><td>a50a79ff1e281eae8...</td><td>8950.0</td><td>8950.0</td><td>3</td><td>22.45</td><td>343.9</td><td>Apr-2016</td><td>Current</td><td>credit_card</td><td>Credit card refin...</td><td>2024-12-13 02:51:...</td></tr>\n",
       "<tr><td>76391453</td><td>1d958a151f5710d8f...</td><td>35000.0</td><td>35000.0</td><td>5</td><td>12.99</td><td>796.18</td><td>Apr-2016</td><td>Fully Paid</td><td>debt_consolidation</td><td>Debt consolidation</td><td>2024-12-13 02:51:...</td></tr>\n",
       "<tr><td>76363364</td><td>c543fd86ac52bfa5c...</td><td>15000.0</td><td>15000.0</td><td>3</td><td>9.16</td><td>478.12</td><td>Apr-2016</td><td>Fully Paid</td><td>house</td><td>Home buying</td><td>2024-12-13 02:51:...</td></tr>\n",
       "<tr><td>76272510</td><td>146d0f5d55cc7e35c...</td><td>30000.0</td><td>30000.0</td><td>5</td><td>16.29</td><td>734.18</td><td>Apr-2016</td><td>Current</td><td>debt_consolidation</td><td>Debt consolidation</td><td>2024-12-13 02:51:...</td></tr>\n",
       "<tr><td>76304116</td><td>a21ce38328fe67c6e...</td><td>4800.0</td><td>4800.0</td><td>3</td><td>19.99</td><td>178.37</td><td>Apr-2016</td><td>Fully Paid</td><td>credit_card</td><td>Credit card refin...</td><td>2024-12-13 02:51:...</td></tr>\n",
       "<tr><td>76422971</td><td>1da96b507933ce0ce...</td><td>10000.0</td><td>10000.0</td><td>3</td><td>19.53</td><td>369.25</td><td>Apr-2016</td><td>Charged Off</td><td>moving</td><td>Moving and reloca...</td><td>2024-12-13 02:51:...</td></tr>\n",
       "<tr><td>75369187</td><td>fe7d7a615ae740daf...</td><td>35000.0</td><td>35000.0</td><td>5</td><td>11.99</td><td>778.38</td><td>Apr-2016</td><td>Current</td><td>credit_card</td><td>null</td><td>2024-12-13 02:51:...</td></tr>\n",
       "<tr><td>76212079</td><td>526fa33888d5d9be8...</td><td>6400.0</td><td>6400.0</td><td>3</td><td>9.16</td><td>204.0</td><td>Apr-2016</td><td>Current</td><td>credit_card</td><td>Credit card refin...</td><td>2024-12-13 02:51:...</td></tr>\n",
       "<tr><td>75104089</td><td>13eeac2df238280cf...</td><td>8500.0</td><td>8500.0</td><td>3</td><td>9.75</td><td>273.28</td><td>Apr-2016</td><td>Fully Paid</td><td>debt_consolidation</td><td>Debt consolidation</td><td>2024-12-13 02:51:...</td></tr>\n",
       "<tr><td>75669444</td><td>e05c359cbb91e9eef...</td><td>30800.0</td><td>30800.0</td><td>5</td><td>19.53</td><td>807.98</td><td>Apr-2016</td><td>Current</td><td>debt_consolidation</td><td>Debt consolidation</td><td>2024-12-13 02:51:...</td></tr>\n",
       "<tr><td>76223382</td><td>95fd1d002ac8755c0...</td><td>2000.0</td><td>2000.0</td><td>3</td><td>9.16</td><td>63.75</td><td>Apr-2016</td><td>Current</td><td>debt_consolidation</td><td>Debt consolidation</td><td>2024-12-13 02:51:...</td></tr>\n",
       "<tr><td>76223540</td><td>ce1c3cf9756bd2710...</td><td>25000.0</td><td>25000.0</td><td>3</td><td>17.27</td><td>894.69</td><td>Apr-2016</td><td>Fully Paid</td><td>debt_consolidation</td><td>Debt consolidation</td><td>2024-12-13 02:51:...</td></tr>\n",
       "<tr><td>76255093</td><td>5b26ae5b424bfd3af...</td><td>7000.0</td><td>7000.0</td><td>3</td><td>16.29</td><td>247.11</td><td>Apr-2016</td><td>Fully Paid</td><td>credit_card</td><td>Credit card refin...</td><td>2024-12-13 02:51:...</td></tr>\n",
       "<tr><td>76402196</td><td>104ac11a9b8d6c93e...</td><td>8000.0</td><td>8000.0</td><td>3</td><td>13.67</td><td>272.15</td><td>Apr-2016</td><td>Current</td><td>debt_consolidation</td><td>Debt consolidation</td><td>2024-12-13 02:51:...</td></tr>\n",
       "<tr><td>76223437</td><td>92efc4bdda4343b40...</td><td>24000.0</td><td>24000.0</td><td>3</td><td>9.16</td><td>764.99</td><td>Apr-2016</td><td>Fully Paid</td><td>other</td><td>Other</td><td>2024-12-13 02:51:...</td></tr>\n",
       "</table>\n",
       "only showing top 20 rows\n"
      ],
      "text/plain": [
       "+--------+--------------------+-----------+-------------+---------------+-------------+-------------------+----------+-----------+------------------+--------------------+--------------------+\n",
       "| loan_id|           member_id|loan_amount|funded_amount|loan_term_years|interest_rate|monthly_installment|issue_date|loan_status|      loan_purpose|          loan_title|         ingest_date|\n",
       "+--------+--------------------+-----------+-------------+---------------+-------------+-------------------+----------+-----------+------------------+--------------------+--------------------+\n",
       "|76003861|6f32d9a5af686d037...|    24000.0|      24000.0|              5|        15.31|             574.88|  Apr-2016|Charged Off|debt_consolidation|  Debt consolidation|2024-12-13 02:51:...|\n",
       "|76263914|e9f0d508da72a2f6f...|     2400.0|       2400.0|              3|        11.47|              79.11|  Apr-2016| Fully Paid|debt_consolidation|  Debt consolidation|2024-12-13 02:51:...|\n",
       "|75537401|d0e4ce54c2c9eda10...|    12600.0|      12600.0|              3|         7.39|             391.31|  Apr-2016| Fully Paid|             other|               Other|2024-12-13 02:51:...|\n",
       "|75038986|a6ac8fa6500b757de...|    16800.0|      16800.0|              5|        19.53|             440.72|  Apr-2016|    Current|       credit_card|Credit card refin...|2024-12-13 02:51:...|\n",
       "|76301424|47d6ef856ab65437e...|     4300.0|       4300.0|              3|        17.27|             153.89|  Apr-2016|Charged Off|debt_consolidation|  Debt consolidation|2024-12-13 02:51:...|\n",
       "|75333198|a50a79ff1e281eae8...|     8950.0|       8950.0|              3|        22.45|              343.9|  Apr-2016|    Current|       credit_card|Credit card refin...|2024-12-13 02:51:...|\n",
       "|76391453|1d958a151f5710d8f...|    35000.0|      35000.0|              5|        12.99|             796.18|  Apr-2016| Fully Paid|debt_consolidation|  Debt consolidation|2024-12-13 02:51:...|\n",
       "|76363364|c543fd86ac52bfa5c...|    15000.0|      15000.0|              3|         9.16|             478.12|  Apr-2016| Fully Paid|             house|         Home buying|2024-12-13 02:51:...|\n",
       "|76272510|146d0f5d55cc7e35c...|    30000.0|      30000.0|              5|        16.29|             734.18|  Apr-2016|    Current|debt_consolidation|  Debt consolidation|2024-12-13 02:51:...|\n",
       "|76304116|a21ce38328fe67c6e...|     4800.0|       4800.0|              3|        19.99|             178.37|  Apr-2016| Fully Paid|       credit_card|Credit card refin...|2024-12-13 02:51:...|\n",
       "|76422971|1da96b507933ce0ce...|    10000.0|      10000.0|              3|        19.53|             369.25|  Apr-2016|Charged Off|            moving|Moving and reloca...|2024-12-13 02:51:...|\n",
       "|75369187|fe7d7a615ae740daf...|    35000.0|      35000.0|              5|        11.99|             778.38|  Apr-2016|    Current|       credit_card|                null|2024-12-13 02:51:...|\n",
       "|76212079|526fa33888d5d9be8...|     6400.0|       6400.0|              3|         9.16|              204.0|  Apr-2016|    Current|       credit_card|Credit card refin...|2024-12-13 02:51:...|\n",
       "|75104089|13eeac2df238280cf...|     8500.0|       8500.0|              3|         9.75|             273.28|  Apr-2016| Fully Paid|debt_consolidation|  Debt consolidation|2024-12-13 02:51:...|\n",
       "|75669444|e05c359cbb91e9eef...|    30800.0|      30800.0|              5|        19.53|             807.98|  Apr-2016|    Current|debt_consolidation|  Debt consolidation|2024-12-13 02:51:...|\n",
       "|76223382|95fd1d002ac8755c0...|     2000.0|       2000.0|              3|         9.16|              63.75|  Apr-2016|    Current|debt_consolidation|  Debt consolidation|2024-12-13 02:51:...|\n",
       "|76223540|ce1c3cf9756bd2710...|    25000.0|      25000.0|              3|        17.27|             894.69|  Apr-2016| Fully Paid|debt_consolidation|  Debt consolidation|2024-12-13 02:51:...|\n",
       "|76255093|5b26ae5b424bfd3af...|     7000.0|       7000.0|              3|        16.29|             247.11|  Apr-2016| Fully Paid|       credit_card|Credit card refin...|2024-12-13 02:51:...|\n",
       "|76402196|104ac11a9b8d6c93e...|     8000.0|       8000.0|              3|        13.67|             272.15|  Apr-2016|    Current|debt_consolidation|  Debt consolidation|2024-12-13 02:51:...|\n",
       "|76223437|92efc4bdda4343b40...|    24000.0|      24000.0|              3|         9.16|             764.99|  Apr-2016| Fully Paid|             other|               Other|2024-12-13 02:51:...|\n",
       "+--------+--------------------+-----------+-------------+---------------+-------------+-------------------+----------+-----------+------------------+--------------------+--------------------+\n",
       "only showing top 20 rows"
      ]
     },
     "execution_count": 64,
     "metadata": {},
     "output_type": "execute_result"
    }
   ],
   "source": [
    "loan_purpose_modified"
   ]
  },
  {
   "cell_type": "code",
   "execution_count": 65,
   "id": "24d4524b",
   "metadata": {},
   "outputs": [],
   "source": [
    "loan_purpose_modified.createOrReplaceTempView(\"loans\")"
   ]
  },
  {
   "cell_type": "code",
   "execution_count": 66,
   "id": "738709b5",
   "metadata": {},
   "outputs": [
    {
     "data": {
      "text/html": [
       "<table border='1'>\n",
       "<tr><th>loan_purpose</th><th>count(1)</th></tr>\n",
       "<tr><td>debt_consolidation</td><td>1277790</td></tr>\n",
       "<tr><td>credit_card</td><td>516926</td></tr>\n",
       "<tr><td>home_improvement</td><td>150440</td></tr>\n",
       "<tr><td>other</td><td>139667</td></tr>\n",
       "<tr><td>major_purchase</td><td>50429</td></tr>\n",
       "<tr><td>medical</td><td>27481</td></tr>\n",
       "<tr><td>small_business</td><td>24659</td></tr>\n",
       "<tr><td>car</td><td>24009</td></tr>\n",
       "<tr><td>vacation</td><td>15525</td></tr>\n",
       "<tr><td>moving</td><td>15402</td></tr>\n",
       "<tr><td>house</td><td>14131</td></tr>\n",
       "<tr><td>wedding</td><td>2351</td></tr>\n",
       "<tr><td>renewable_energy</td><td>1445</td></tr>\n",
       "<tr><td>educational</td><td>412</td></tr>\n",
       "</table>\n"
      ],
      "text/plain": [
       "+------------------+--------+\n",
       "|      loan_purpose|count(1)|\n",
       "+------------------+--------+\n",
       "|debt_consolidation| 1277790|\n",
       "|       credit_card|  516926|\n",
       "|  home_improvement|  150440|\n",
       "|             other|  139667|\n",
       "|    major_purchase|   50429|\n",
       "|           medical|   27481|\n",
       "|    small_business|   24659|\n",
       "|               car|   24009|\n",
       "|          vacation|   15525|\n",
       "|            moving|   15402|\n",
       "|             house|   14131|\n",
       "|           wedding|    2351|\n",
       "|  renewable_energy|    1445|\n",
       "|       educational|     412|\n",
       "+------------------+--------+"
      ]
     },
     "execution_count": 66,
     "metadata": {},
     "output_type": "execute_result"
    }
   ],
   "source": [
    "spark.sql(\"select loan_purpose, count(*) from loans group by 1 order by 2 desc\")"
   ]
  },
  {
   "cell_type": "code",
   "execution_count": 68,
   "id": "fb04720e",
   "metadata": {},
   "outputs": [],
   "source": [
    "loan_purpose_modified.write \\\n",
    ".option(\"header\", True) \\\n",
    ".format(\"parquet\") \\\n",
    ".mode(\"overwrite\") \\\n",
    ".option(\"path\", \"/user/itv012041/lendingclubproject/cleaned/loans_parquet\") \\\n",
    ".save()"
   ]
  },
  {
   "cell_type": "code",
   "execution_count": 69,
   "id": "14c29c56",
   "metadata": {},
   "outputs": [],
   "source": [
    "loan_purpose_modified.write \\\n",
    ".option(\"header\", True) \\\n",
    ".format(\"csv\") \\\n",
    ".mode(\"overwrite\") \\\n",
    ".option(\"path\", \"/user/itv012041/lendingclubproject/cleaned/loans_csv\") \\\n",
    ".save()"
   ]
  },
  {
   "cell_type": "code",
   "execution_count": null,
   "id": "2fcea4b8",
   "metadata": {},
   "outputs": [],
   "source": []
  }
 ],
 "metadata": {
  "kernelspec": {
   "display_name": "Pyspark 3",
   "language": "python",
   "name": "pyspark3"
  },
  "language_info": {
   "codemirror_mode": {
    "name": "ipython",
    "version": 3
   },
   "file_extension": ".py",
   "mimetype": "text/x-python",
   "name": "python",
   "nbconvert_exporter": "python",
   "pygments_lexer": "ipython3",
   "version": "3.6.12"
  }
 },
 "nbformat": 4,
 "nbformat_minor": 5
}
