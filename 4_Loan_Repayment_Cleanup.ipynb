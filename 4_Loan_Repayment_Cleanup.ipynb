{
 "cells": [
  {
   "cell_type": "code",
   "execution_count": 74,
   "id": "aad24de0",
   "metadata": {},
   "outputs": [],
   "source": [
    "from pyspark.sql import SparkSession\n",
    "import getpass\n",
    "username = getpass.getuser()\n",
    "spark = SparkSession. \\\n",
    "builder. \\\n",
    "config('spark.ui.port', '0'). \\\n",
    "config(\"spark.sql.warehouse.dir\", f\"/user/{username}/warehouse\"). \\\n",
    "config('spark.shuffle.useOldFetchProtocol', 'true'). \\\n",
    "config('spark.app.name', 'itv012041_Loan_Repayment_Data_Cleanup'). \\\n",
    "enableHiveSupport(). \\\n",
    "master('yarn'). \\\n",
    "getOrCreate()"
   ]
  },
  {
   "cell_type": "code",
   "execution_count": 75,
   "id": "79029a82",
   "metadata": {},
   "outputs": [
    {
     "data": {
      "text/html": [
       "\n",
       "            <div>\n",
       "                <p><b>SparkSession - hive</b></p>\n",
       "                \n",
       "        <div>\n",
       "            <p><b>SparkContext</b></p>\n",
       "\n",
       "            <p><a href=\"http://g02.itversity.com:37647\">Spark UI</a></p>\n",
       "\n",
       "            <dl>\n",
       "              <dt>Version</dt>\n",
       "                <dd><code>v3.1.2</code></dd>\n",
       "              <dt>Master</dt>\n",
       "                <dd><code>yarn</code></dd>\n",
       "              <dt>AppName</dt>\n",
       "                <dd><code>itv012041_Loan_Repayment_Data_Cleanup</code></dd>\n",
       "            </dl>\n",
       "        </div>\n",
       "        \n",
       "            </div>\n",
       "        "
      ],
      "text/plain": [
       "<pyspark.sql.session.SparkSession at 0x7f717471fa90>"
      ]
     },
     "execution_count": 75,
     "metadata": {},
     "output_type": "execute_result"
    }
   ],
   "source": [
    "spark"
   ]
  },
  {
   "cell_type": "code",
   "execution_count": 76,
   "id": "6b9155e6",
   "metadata": {},
   "outputs": [],
   "source": [
    "loans_repay_schema = \"\"\"loan_id string,total_principal_received float,total_interest_received\n",
    "float,total_late_fee_received float,total_payment_received\n",
    "float,last_payment_amount float,last_payment_date string,next_payment_date\n",
    "string\"\"\""
   ]
  },
  {
   "cell_type": "code",
   "execution_count": 77,
   "id": "fc4cddb8",
   "metadata": {},
   "outputs": [],
   "source": [
    "loans_repay_raw_df = spark.read \\\n",
    ".format(\"csv\") \\\n",
    ".option(\"header\", True) \\\n",
    ".schema(loans_repay_schema) \\\n",
    ".load(\"/user/itv012041/lendingclubproject/raw/loans_repayments_data_csv\")"
   ]
  },
  {
   "cell_type": "code",
   "execution_count": 78,
   "id": "6b983218",
   "metadata": {},
   "outputs": [
    {
     "data": {
      "text/html": [
       "<table border='1'>\n",
       "<tr><th>loan_id</th><th>total_principal_received</th><th>total_interest_received</th><th>total_late_fee_received</th><th>total_payment_received</th><th>last_payment_amount</th><th>last_payment_date</th><th>next_payment_date</th></tr>\n",
       "<tr><td>491699</td><td>7000.0</td><td>1444.94</td><td>0.0</td><td>8444.942</td><td>954.65</td><td>Dec-2012</td><td>null</td></tr>\n",
       "<tr><td>491685</td><td>15000.0</td><td>2583.58</td><td>0.0</td><td>17583.584</td><td>517.23</td><td>Mar-2013</td><td>null</td></tr>\n",
       "<tr><td>491667</td><td>6400.0</td><td>807.51</td><td>0.0</td><td>7207.5093</td><td>209.97</td><td>Mar-2013</td><td>null</td></tr>\n",
       "<tr><td>491160</td><td>4000.0</td><td>963.31</td><td>0.0</td><td>4963.3066</td><td>144.87</td><td>Mar-2013</td><td>null</td></tr>\n",
       "<tr><td>491675</td><td>20000.0</td><td>2887.0</td><td>0.0</td><td>22886.992</td><td>16.27</td><td>Jul-2011</td><td>null</td></tr>\n",
       "<tr><td>491668</td><td>1773.57</td><td>591.33</td><td>0.0</td><td>2957.37</td><td>394.94</td><td>Mar-2011</td><td>null</td></tr>\n",
       "<tr><td>491663</td><td>5500.0</td><td>235.4</td><td>0.0</td><td>5735.4</td><td>2147.02</td><td>Sep-2010</td><td>null</td></tr>\n",
       "<tr><td>491632</td><td>10000.0</td><td>1466.31</td><td>0.0</td><td>11466.3125</td><td>7274.73</td><td>Apr-2011</td><td>null</td></tr>\n",
       "<tr><td>491618</td><td>24999.99</td><td>2085.75</td><td>0.0</td><td>27085.738</td><td>21866.75</td><td>Oct-2010</td><td>null</td></tr>\n",
       "<tr><td>491622</td><td>25000.0</td><td>13079.81</td><td>0.0</td><td>38079.81</td><td>7912.97</td><td>Feb-2015</td><td>null</td></tr>\n",
       "<tr><td>491552</td><td>22000.0</td><td>3709.11</td><td>0.0</td><td>25709.104</td><td>1711.64</td><td>Aug-2012</td><td>null</td></tr>\n",
       "<tr><td>491477</td><td>16750.0</td><td>3079.64</td><td>0.0</td><td>19829.643</td><td>1895.34</td><td>Apr-2012</td><td>null</td></tr>\n",
       "<tr><td>491596</td><td>3600.0</td><td>459.21</td><td>0.0</td><td>4059.209</td><td>6.15</td><td>Mar-2011</td><td>null</td></tr>\n",
       "<tr><td>491575</td><td>13750.0</td><td>1923.96</td><td>0.0</td><td>15673.965</td><td>497.94</td><td>May-2011</td><td>null</td></tr>\n",
       "<tr><td>491581</td><td>8500.0</td><td>1464.2</td><td>0.0</td><td>9964.197</td><td>296.32</td><td>Mar-2013</td><td>null</td></tr>\n",
       "<tr><td>423260</td><td>0.0</td><td>10912.222</td><td>10912.22</td><td>null</td><td>0.0</td><td>0.0</td><td>0.0</td></tr>\n",
       "<tr><td>488022</td><td>8000.0</td><td>1277.23</td><td>0.0</td><td>9277.228</td><td>273.34</td><td>Mar-2013</td><td>null</td></tr>\n",
       "<tr><td>491557</td><td>12000.0</td><td>2008.96</td><td>0.0</td><td>14008.957</td><td>6778.81</td><td>Oct-2011</td><td>null</td></tr>\n",
       "<tr><td>491494</td><td>10000.0</td><td>2473.25</td><td>0.0</td><td>12473.249</td><td>375.18</td><td>Mar-2013</td><td>null</td></tr>\n",
       "<tr><td>491487</td><td>11000.0</td><td>2506.0</td><td>0.0</td><td>13506.0</td><td>394.75</td><td>Mar-2013</td><td>null</td></tr>\n",
       "</table>\n",
       "only showing top 20 rows\n"
      ],
      "text/plain": [
       "+-------+------------------------+-----------------------+-----------------------+----------------------+-------------------+-----------------+-----------------+\n",
       "|loan_id|total_principal_received|total_interest_received|total_late_fee_received|total_payment_received|last_payment_amount|last_payment_date|next_payment_date|\n",
       "+-------+------------------------+-----------------------+-----------------------+----------------------+-------------------+-----------------+-----------------+\n",
       "| 491699|                  7000.0|                1444.94|                    0.0|              8444.942|             954.65|         Dec-2012|             null|\n",
       "| 491685|                 15000.0|                2583.58|                    0.0|             17583.584|             517.23|         Mar-2013|             null|\n",
       "| 491667|                  6400.0|                 807.51|                    0.0|             7207.5093|             209.97|         Mar-2013|             null|\n",
       "| 491160|                  4000.0|                 963.31|                    0.0|             4963.3066|             144.87|         Mar-2013|             null|\n",
       "| 491675|                 20000.0|                 2887.0|                    0.0|             22886.992|              16.27|         Jul-2011|             null|\n",
       "| 491668|                 1773.57|                 591.33|                    0.0|               2957.37|             394.94|         Mar-2011|             null|\n",
       "| 491663|                  5500.0|                  235.4|                    0.0|                5735.4|            2147.02|         Sep-2010|             null|\n",
       "| 491632|                 10000.0|                1466.31|                    0.0|            11466.3125|            7274.73|         Apr-2011|             null|\n",
       "| 491618|                24999.99|                2085.75|                    0.0|             27085.738|           21866.75|         Oct-2010|             null|\n",
       "| 491622|                 25000.0|               13079.81|                    0.0|              38079.81|            7912.97|         Feb-2015|             null|\n",
       "| 491552|                 22000.0|                3709.11|                    0.0|             25709.104|            1711.64|         Aug-2012|             null|\n",
       "| 491477|                 16750.0|                3079.64|                    0.0|             19829.643|            1895.34|         Apr-2012|             null|\n",
       "| 491596|                  3600.0|                 459.21|                    0.0|              4059.209|               6.15|         Mar-2011|             null|\n",
       "| 491575|                 13750.0|                1923.96|                    0.0|             15673.965|             497.94|         May-2011|             null|\n",
       "| 491581|                  8500.0|                 1464.2|                    0.0|              9964.197|             296.32|         Mar-2013|             null|\n",
       "| 423260|                     0.0|              10912.222|               10912.22|                  null|                0.0|              0.0|              0.0|\n",
       "| 488022|                  8000.0|                1277.23|                    0.0|              9277.228|             273.34|         Mar-2013|             null|\n",
       "| 491557|                 12000.0|                2008.96|                    0.0|             14008.957|            6778.81|         Oct-2011|             null|\n",
       "| 491494|                 10000.0|                2473.25|                    0.0|             12473.249|             375.18|         Mar-2013|             null|\n",
       "| 491487|                 11000.0|                 2506.0|                    0.0|               13506.0|             394.75|         Mar-2013|             null|\n",
       "+-------+------------------------+-----------------------+-----------------------+----------------------+-------------------+-----------------+-----------------+\n",
       "only showing top 20 rows"
      ]
     },
     "execution_count": 78,
     "metadata": {},
     "output_type": "execute_result"
    }
   ],
   "source": [
    "loans_repay_raw_df"
   ]
  },
  {
   "cell_type": "code",
   "execution_count": 79,
   "id": "880c6d26",
   "metadata": {},
   "outputs": [
    {
     "name": "stdout",
     "output_type": "stream",
     "text": [
      "root\n",
      " |-- loan_id: string (nullable = true)\n",
      " |-- total_principal_received: float (nullable = true)\n",
      " |-- total_interest_received: float (nullable = true)\n",
      " |-- total_late_fee_received: float (nullable = true)\n",
      " |-- total_payment_received: float (nullable = true)\n",
      " |-- last_payment_amount: float (nullable = true)\n",
      " |-- last_payment_date: string (nullable = true)\n",
      " |-- next_payment_date: string (nullable = true)\n",
      "\n"
     ]
    }
   ],
   "source": [
    "loans_repay_raw_df.printSchema()"
   ]
  },
  {
   "cell_type": "code",
   "execution_count": 80,
   "id": "28984268",
   "metadata": {},
   "outputs": [],
   "source": [
    "from pyspark.sql.functions import current_timestamp"
   ]
  },
  {
   "cell_type": "code",
   "execution_count": 81,
   "id": "5e865f9b",
   "metadata": {},
   "outputs": [],
   "source": [
    "loans_repay_df_with_ingest_date = loans_repay_raw_df.withColumn(\"ingest_date\", current_timestamp())"
   ]
  },
  {
   "cell_type": "code",
   "execution_count": 82,
   "id": "d63383b3",
   "metadata": {},
   "outputs": [
    {
     "data": {
      "text/html": [
       "<table border='1'>\n",
       "<tr><th>loan_id</th><th>total_principal_received</th><th>total_interest_received</th><th>total_late_fee_received</th><th>total_payment_received</th><th>last_payment_amount</th><th>last_payment_date</th><th>next_payment_date</th><th>ingest_date</th></tr>\n",
       "<tr><td>491699</td><td>7000.0</td><td>1444.94</td><td>0.0</td><td>8444.942</td><td>954.65</td><td>Dec-2012</td><td>null</td><td>2024-12-20 04:33:...</td></tr>\n",
       "<tr><td>491685</td><td>15000.0</td><td>2583.58</td><td>0.0</td><td>17583.584</td><td>517.23</td><td>Mar-2013</td><td>null</td><td>2024-12-20 04:33:...</td></tr>\n",
       "<tr><td>491667</td><td>6400.0</td><td>807.51</td><td>0.0</td><td>7207.5093</td><td>209.97</td><td>Mar-2013</td><td>null</td><td>2024-12-20 04:33:...</td></tr>\n",
       "<tr><td>491160</td><td>4000.0</td><td>963.31</td><td>0.0</td><td>4963.3066</td><td>144.87</td><td>Mar-2013</td><td>null</td><td>2024-12-20 04:33:...</td></tr>\n",
       "<tr><td>491675</td><td>20000.0</td><td>2887.0</td><td>0.0</td><td>22886.992</td><td>16.27</td><td>Jul-2011</td><td>null</td><td>2024-12-20 04:33:...</td></tr>\n",
       "<tr><td>491668</td><td>1773.57</td><td>591.33</td><td>0.0</td><td>2957.37</td><td>394.94</td><td>Mar-2011</td><td>null</td><td>2024-12-20 04:33:...</td></tr>\n",
       "<tr><td>491663</td><td>5500.0</td><td>235.4</td><td>0.0</td><td>5735.4</td><td>2147.02</td><td>Sep-2010</td><td>null</td><td>2024-12-20 04:33:...</td></tr>\n",
       "<tr><td>491632</td><td>10000.0</td><td>1466.31</td><td>0.0</td><td>11466.3125</td><td>7274.73</td><td>Apr-2011</td><td>null</td><td>2024-12-20 04:33:...</td></tr>\n",
       "<tr><td>491618</td><td>24999.99</td><td>2085.75</td><td>0.0</td><td>27085.738</td><td>21866.75</td><td>Oct-2010</td><td>null</td><td>2024-12-20 04:33:...</td></tr>\n",
       "<tr><td>491622</td><td>25000.0</td><td>13079.81</td><td>0.0</td><td>38079.81</td><td>7912.97</td><td>Feb-2015</td><td>null</td><td>2024-12-20 04:33:...</td></tr>\n",
       "<tr><td>491552</td><td>22000.0</td><td>3709.11</td><td>0.0</td><td>25709.104</td><td>1711.64</td><td>Aug-2012</td><td>null</td><td>2024-12-20 04:33:...</td></tr>\n",
       "<tr><td>491477</td><td>16750.0</td><td>3079.64</td><td>0.0</td><td>19829.643</td><td>1895.34</td><td>Apr-2012</td><td>null</td><td>2024-12-20 04:33:...</td></tr>\n",
       "<tr><td>491596</td><td>3600.0</td><td>459.21</td><td>0.0</td><td>4059.209</td><td>6.15</td><td>Mar-2011</td><td>null</td><td>2024-12-20 04:33:...</td></tr>\n",
       "<tr><td>491575</td><td>13750.0</td><td>1923.96</td><td>0.0</td><td>15673.965</td><td>497.94</td><td>May-2011</td><td>null</td><td>2024-12-20 04:33:...</td></tr>\n",
       "<tr><td>491581</td><td>8500.0</td><td>1464.2</td><td>0.0</td><td>9964.197</td><td>296.32</td><td>Mar-2013</td><td>null</td><td>2024-12-20 04:33:...</td></tr>\n",
       "<tr><td>423260</td><td>0.0</td><td>10912.222</td><td>10912.22</td><td>null</td><td>0.0</td><td>0.0</td><td>0.0</td><td>2024-12-20 04:33:...</td></tr>\n",
       "<tr><td>488022</td><td>8000.0</td><td>1277.23</td><td>0.0</td><td>9277.228</td><td>273.34</td><td>Mar-2013</td><td>null</td><td>2024-12-20 04:33:...</td></tr>\n",
       "<tr><td>491557</td><td>12000.0</td><td>2008.96</td><td>0.0</td><td>14008.957</td><td>6778.81</td><td>Oct-2011</td><td>null</td><td>2024-12-20 04:33:...</td></tr>\n",
       "<tr><td>491494</td><td>10000.0</td><td>2473.25</td><td>0.0</td><td>12473.249</td><td>375.18</td><td>Mar-2013</td><td>null</td><td>2024-12-20 04:33:...</td></tr>\n",
       "<tr><td>491487</td><td>11000.0</td><td>2506.0</td><td>0.0</td><td>13506.0</td><td>394.75</td><td>Mar-2013</td><td>null</td><td>2024-12-20 04:33:...</td></tr>\n",
       "</table>\n",
       "only showing top 20 rows\n"
      ],
      "text/plain": [
       "+-------+------------------------+-----------------------+-----------------------+----------------------+-------------------+-----------------+-----------------+--------------------+\n",
       "|loan_id|total_principal_received|total_interest_received|total_late_fee_received|total_payment_received|last_payment_amount|last_payment_date|next_payment_date|         ingest_date|\n",
       "+-------+------------------------+-----------------------+-----------------------+----------------------+-------------------+-----------------+-----------------+--------------------+\n",
       "| 491699|                  7000.0|                1444.94|                    0.0|              8444.942|             954.65|         Dec-2012|             null|2024-12-20 04:33:...|\n",
       "| 491685|                 15000.0|                2583.58|                    0.0|             17583.584|             517.23|         Mar-2013|             null|2024-12-20 04:33:...|\n",
       "| 491667|                  6400.0|                 807.51|                    0.0|             7207.5093|             209.97|         Mar-2013|             null|2024-12-20 04:33:...|\n",
       "| 491160|                  4000.0|                 963.31|                    0.0|             4963.3066|             144.87|         Mar-2013|             null|2024-12-20 04:33:...|\n",
       "| 491675|                 20000.0|                 2887.0|                    0.0|             22886.992|              16.27|         Jul-2011|             null|2024-12-20 04:33:...|\n",
       "| 491668|                 1773.57|                 591.33|                    0.0|               2957.37|             394.94|         Mar-2011|             null|2024-12-20 04:33:...|\n",
       "| 491663|                  5500.0|                  235.4|                    0.0|                5735.4|            2147.02|         Sep-2010|             null|2024-12-20 04:33:...|\n",
       "| 491632|                 10000.0|                1466.31|                    0.0|            11466.3125|            7274.73|         Apr-2011|             null|2024-12-20 04:33:...|\n",
       "| 491618|                24999.99|                2085.75|                    0.0|             27085.738|           21866.75|         Oct-2010|             null|2024-12-20 04:33:...|\n",
       "| 491622|                 25000.0|               13079.81|                    0.0|              38079.81|            7912.97|         Feb-2015|             null|2024-12-20 04:33:...|\n",
       "| 491552|                 22000.0|                3709.11|                    0.0|             25709.104|            1711.64|         Aug-2012|             null|2024-12-20 04:33:...|\n",
       "| 491477|                 16750.0|                3079.64|                    0.0|             19829.643|            1895.34|         Apr-2012|             null|2024-12-20 04:33:...|\n",
       "| 491596|                  3600.0|                 459.21|                    0.0|              4059.209|               6.15|         Mar-2011|             null|2024-12-20 04:33:...|\n",
       "| 491575|                 13750.0|                1923.96|                    0.0|             15673.965|             497.94|         May-2011|             null|2024-12-20 04:33:...|\n",
       "| 491581|                  8500.0|                 1464.2|                    0.0|              9964.197|             296.32|         Mar-2013|             null|2024-12-20 04:33:...|\n",
       "| 423260|                     0.0|              10912.222|               10912.22|                  null|                0.0|              0.0|              0.0|2024-12-20 04:33:...|\n",
       "| 488022|                  8000.0|                1277.23|                    0.0|              9277.228|             273.34|         Mar-2013|             null|2024-12-20 04:33:...|\n",
       "| 491557|                 12000.0|                2008.96|                    0.0|             14008.957|            6778.81|         Oct-2011|             null|2024-12-20 04:33:...|\n",
       "| 491494|                 10000.0|                2473.25|                    0.0|             12473.249|             375.18|         Mar-2013|             null|2024-12-20 04:33:...|\n",
       "| 491487|                 11000.0|                 2506.0|                    0.0|               13506.0|             394.75|         Mar-2013|             null|2024-12-20 04:33:...|\n",
       "+-------+------------------------+-----------------------+-----------------------+----------------------+-------------------+-----------------+-----------------+--------------------+\n",
       "only showing top 20 rows"
      ]
     },
     "execution_count": 82,
     "metadata": {},
     "output_type": "execute_result"
    }
   ],
   "source": [
    "loans_repay_df_with_ingest_date"
   ]
  },
  {
   "cell_type": "code",
   "execution_count": 83,
   "id": "b13d296a",
   "metadata": {},
   "outputs": [],
   "source": [
    "loans_repay_df_with_ingest_date.createOrReplaceTempView(\"loans_repayments\")"
   ]
  },
  {
   "cell_type": "code",
   "execution_count": 84,
   "id": "62210b00",
   "metadata": {},
   "outputs": [
    {
     "data": {
      "text/html": [
       "<table border='1'>\n",
       "<tr><th>loan_id</th><th>total_principal_received</th><th>total_interest_received</th><th>total_late_fee_received</th><th>total_payment_received</th><th>last_payment_amount</th><th>last_payment_date</th><th>next_payment_date</th><th>ingest_date</th></tr>\n",
       "<tr><td>491699</td><td>7000.0</td><td>1444.94</td><td>0.0</td><td>8444.942</td><td>954.65</td><td>Dec-2012</td><td>null</td><td>2024-12-20 04:33:...</td></tr>\n",
       "<tr><td>491685</td><td>15000.0</td><td>2583.58</td><td>0.0</td><td>17583.584</td><td>517.23</td><td>Mar-2013</td><td>null</td><td>2024-12-20 04:33:...</td></tr>\n",
       "<tr><td>491667</td><td>6400.0</td><td>807.51</td><td>0.0</td><td>7207.5093</td><td>209.97</td><td>Mar-2013</td><td>null</td><td>2024-12-20 04:33:...</td></tr>\n",
       "<tr><td>491160</td><td>4000.0</td><td>963.31</td><td>0.0</td><td>4963.3066</td><td>144.87</td><td>Mar-2013</td><td>null</td><td>2024-12-20 04:33:...</td></tr>\n",
       "<tr><td>491675</td><td>20000.0</td><td>2887.0</td><td>0.0</td><td>22886.992</td><td>16.27</td><td>Jul-2011</td><td>null</td><td>2024-12-20 04:33:...</td></tr>\n",
       "<tr><td>491668</td><td>1773.57</td><td>591.33</td><td>0.0</td><td>2957.37</td><td>394.94</td><td>Mar-2011</td><td>null</td><td>2024-12-20 04:33:...</td></tr>\n",
       "<tr><td>491663</td><td>5500.0</td><td>235.4</td><td>0.0</td><td>5735.4</td><td>2147.02</td><td>Sep-2010</td><td>null</td><td>2024-12-20 04:33:...</td></tr>\n",
       "<tr><td>491632</td><td>10000.0</td><td>1466.31</td><td>0.0</td><td>11466.3125</td><td>7274.73</td><td>Apr-2011</td><td>null</td><td>2024-12-20 04:33:...</td></tr>\n",
       "<tr><td>491618</td><td>24999.99</td><td>2085.75</td><td>0.0</td><td>27085.738</td><td>21866.75</td><td>Oct-2010</td><td>null</td><td>2024-12-20 04:33:...</td></tr>\n",
       "<tr><td>491622</td><td>25000.0</td><td>13079.81</td><td>0.0</td><td>38079.81</td><td>7912.97</td><td>Feb-2015</td><td>null</td><td>2024-12-20 04:33:...</td></tr>\n",
       "<tr><td>491552</td><td>22000.0</td><td>3709.11</td><td>0.0</td><td>25709.104</td><td>1711.64</td><td>Aug-2012</td><td>null</td><td>2024-12-20 04:33:...</td></tr>\n",
       "<tr><td>491477</td><td>16750.0</td><td>3079.64</td><td>0.0</td><td>19829.643</td><td>1895.34</td><td>Apr-2012</td><td>null</td><td>2024-12-20 04:33:...</td></tr>\n",
       "<tr><td>491596</td><td>3600.0</td><td>459.21</td><td>0.0</td><td>4059.209</td><td>6.15</td><td>Mar-2011</td><td>null</td><td>2024-12-20 04:33:...</td></tr>\n",
       "<tr><td>491575</td><td>13750.0</td><td>1923.96</td><td>0.0</td><td>15673.965</td><td>497.94</td><td>May-2011</td><td>null</td><td>2024-12-20 04:33:...</td></tr>\n",
       "<tr><td>491581</td><td>8500.0</td><td>1464.2</td><td>0.0</td><td>9964.197</td><td>296.32</td><td>Mar-2013</td><td>null</td><td>2024-12-20 04:33:...</td></tr>\n",
       "<tr><td>423260</td><td>0.0</td><td>10912.222</td><td>10912.22</td><td>null</td><td>0.0</td><td>0.0</td><td>0.0</td><td>2024-12-20 04:33:...</td></tr>\n",
       "<tr><td>488022</td><td>8000.0</td><td>1277.23</td><td>0.0</td><td>9277.228</td><td>273.34</td><td>Mar-2013</td><td>null</td><td>2024-12-20 04:33:...</td></tr>\n",
       "<tr><td>491557</td><td>12000.0</td><td>2008.96</td><td>0.0</td><td>14008.957</td><td>6778.81</td><td>Oct-2011</td><td>null</td><td>2024-12-20 04:33:...</td></tr>\n",
       "<tr><td>491494</td><td>10000.0</td><td>2473.25</td><td>0.0</td><td>12473.249</td><td>375.18</td><td>Mar-2013</td><td>null</td><td>2024-12-20 04:33:...</td></tr>\n",
       "<tr><td>491487</td><td>11000.0</td><td>2506.0</td><td>0.0</td><td>13506.0</td><td>394.75</td><td>Mar-2013</td><td>null</td><td>2024-12-20 04:33:...</td></tr>\n",
       "</table>\n",
       "only showing top 20 rows\n"
      ],
      "text/plain": [
       "+-------+------------------------+-----------------------+-----------------------+----------------------+-------------------+-----------------+-----------------+--------------------+\n",
       "|loan_id|total_principal_received|total_interest_received|total_late_fee_received|total_payment_received|last_payment_amount|last_payment_date|next_payment_date|         ingest_date|\n",
       "+-------+------------------------+-----------------------+-----------------------+----------------------+-------------------+-----------------+-----------------+--------------------+\n",
       "| 491699|                  7000.0|                1444.94|                    0.0|              8444.942|             954.65|         Dec-2012|             null|2024-12-20 04:33:...|\n",
       "| 491685|                 15000.0|                2583.58|                    0.0|             17583.584|             517.23|         Mar-2013|             null|2024-12-20 04:33:...|\n",
       "| 491667|                  6400.0|                 807.51|                    0.0|             7207.5093|             209.97|         Mar-2013|             null|2024-12-20 04:33:...|\n",
       "| 491160|                  4000.0|                 963.31|                    0.0|             4963.3066|             144.87|         Mar-2013|             null|2024-12-20 04:33:...|\n",
       "| 491675|                 20000.0|                 2887.0|                    0.0|             22886.992|              16.27|         Jul-2011|             null|2024-12-20 04:33:...|\n",
       "| 491668|                 1773.57|                 591.33|                    0.0|               2957.37|             394.94|         Mar-2011|             null|2024-12-20 04:33:...|\n",
       "| 491663|                  5500.0|                  235.4|                    0.0|                5735.4|            2147.02|         Sep-2010|             null|2024-12-20 04:33:...|\n",
       "| 491632|                 10000.0|                1466.31|                    0.0|            11466.3125|            7274.73|         Apr-2011|             null|2024-12-20 04:33:...|\n",
       "| 491618|                24999.99|                2085.75|                    0.0|             27085.738|           21866.75|         Oct-2010|             null|2024-12-20 04:33:...|\n",
       "| 491622|                 25000.0|               13079.81|                    0.0|              38079.81|            7912.97|         Feb-2015|             null|2024-12-20 04:33:...|\n",
       "| 491552|                 22000.0|                3709.11|                    0.0|             25709.104|            1711.64|         Aug-2012|             null|2024-12-20 04:33:...|\n",
       "| 491477|                 16750.0|                3079.64|                    0.0|             19829.643|            1895.34|         Apr-2012|             null|2024-12-20 04:33:...|\n",
       "| 491596|                  3600.0|                 459.21|                    0.0|              4059.209|               6.15|         Mar-2011|             null|2024-12-20 04:33:...|\n",
       "| 491575|                 13750.0|                1923.96|                    0.0|             15673.965|             497.94|         May-2011|             null|2024-12-20 04:33:...|\n",
       "| 491581|                  8500.0|                 1464.2|                    0.0|              9964.197|             296.32|         Mar-2013|             null|2024-12-20 04:33:...|\n",
       "| 423260|                     0.0|              10912.222|               10912.22|                  null|                0.0|              0.0|              0.0|2024-12-20 04:33:...|\n",
       "| 488022|                  8000.0|                1277.23|                    0.0|              9277.228|             273.34|         Mar-2013|             null|2024-12-20 04:33:...|\n",
       "| 491557|                 12000.0|                2008.96|                    0.0|             14008.957|            6778.81|         Oct-2011|             null|2024-12-20 04:33:...|\n",
       "| 491494|                 10000.0|                2473.25|                    0.0|             12473.249|             375.18|         Mar-2013|             null|2024-12-20 04:33:...|\n",
       "| 491487|                 11000.0|                 2506.0|                    0.0|               13506.0|             394.75|         Mar-2013|             null|2024-12-20 04:33:...|\n",
       "+-------+------------------------+-----------------------+-----------------------+----------------------+-------------------+-----------------+-----------------+--------------------+\n",
       "only showing top 20 rows"
      ]
     },
     "execution_count": 84,
     "metadata": {},
     "output_type": "execute_result"
    }
   ],
   "source": [
    "spark.sql(\"select * from loans_repayments\")"
   ]
  },
  {
   "cell_type": "code",
   "execution_count": 85,
   "id": "62712252",
   "metadata": {},
   "outputs": [
    {
     "data": {
      "text/html": [
       "<table border='1'>\n",
       "<tr><th>count(1)</th></tr>\n",
       "<tr><td>69</td></tr>\n",
       "</table>\n"
      ],
      "text/plain": [
       "+--------+\n",
       "|count(1)|\n",
       "+--------+\n",
       "|      69|\n",
       "+--------+"
      ]
     },
     "execution_count": 85,
     "metadata": {},
     "output_type": "execute_result"
    }
   ],
   "source": [
    "spark.sql(\"select count(*) from loans_repayments where total_principal_received is null\")"
   ]
  },
  {
   "cell_type": "code",
   "execution_count": 86,
   "id": "9ced9010",
   "metadata": {},
   "outputs": [],
   "source": [
    "columns_to_check = [\"total_principal_received\",\"total_interest_received\",\"total_late_fee_received\",\n",
    "                    \"total_payment_received\",\"last_payment_amount\"]"
   ]
  },
  {
   "cell_type": "code",
   "execution_count": 87,
   "id": "5deac130",
   "metadata": {},
   "outputs": [],
   "source": [
    "loans_repay_filtered_df = loans_repay_df_with_ingest_date.na.drop(subset = columns_to_check)"
   ]
  },
  {
   "cell_type": "code",
   "execution_count": 88,
   "id": "6e4bf41a",
   "metadata": {},
   "outputs": [],
   "source": [
    "loans_repay_filtered_df.createOrReplaceTempView(\"loans_repayments\")"
   ]
  },
  {
   "cell_type": "code",
   "execution_count": 89,
   "id": "ee924fab",
   "metadata": {},
   "outputs": [
    {
     "data": {
      "text/plain": [
       "2260701"
      ]
     },
     "execution_count": 89,
     "metadata": {},
     "output_type": "execute_result"
    }
   ],
   "source": [
    "loans_repay_df_with_ingest_date.count()"
   ]
  },
  {
   "cell_type": "code",
   "execution_count": 90,
   "id": "733b2174",
   "metadata": {},
   "outputs": [
    {
     "data": {
      "text/plain": [
       "2260498"
      ]
     },
     "execution_count": 90,
     "metadata": {},
     "output_type": "execute_result"
    }
   ],
   "source": [
    "loans_repay_filtered_df.count()"
   ]
  },
  {
   "cell_type": "code",
   "execution_count": 91,
   "id": "85abe140",
   "metadata": {},
   "outputs": [
    {
     "data": {
      "text/html": [
       "<table border='1'>\n",
       "<tr><th>loan_id</th><th>total_principal_received</th><th>total_interest_received</th><th>total_late_fee_received</th><th>total_payment_received</th><th>last_payment_amount</th><th>last_payment_date</th><th>next_payment_date</th><th>ingest_date</th></tr>\n",
       "<tr><td>485818</td><td>14640.096</td><td>13388.84</td><td>13000.0</td><td>0.0</td><td>0.0</td><td>0.0</td><td>Mar-2013</td><td>2024-12-20 04:33:...</td></tr>\n",
       "<tr><td>485471</td><td>29620.818</td><td>29134.64</td><td>25000.0</td><td>0.0</td><td>0.0</td><td>0.0</td><td>Mar-2013</td><td>2024-12-20 04:33:...</td></tr>\n",
       "<tr><td>482256</td><td>8735.611</td><td>7479.87</td><td>8000.0</td><td>0.0</td><td>0.0</td><td>0.0</td><td>Feb-2011</td><td>2024-12-20 04:33:...</td></tr>\n",
       "<tr><td>478160</td><td>410.0</td><td>407.36</td><td>0.0</td><td>0.0</td><td>143.1</td><td>410.0</td><td>null</td><td>2024-12-20 04:33:...</td></tr>\n",
       "<tr><td>476557</td><td>28865.18</td><td>24164.67</td><td>5692.31</td><td>0.0</td><td>6972.59</td><td>19916.78</td><td>Dec-2010</td><td>2024-12-20 04:33:...</td></tr>\n",
       "<tr><td>472516</td><td>25951.482</td><td>24731.76</td><td>25000.0</td><td>0.0</td><td>0.0</td><td>0.0</td><td>May-2010</td><td>2024-12-20 04:33:...</td></tr>\n",
       "<tr><td>472197</td><td>12048.13</td><td>12018.01</td><td>10000.0</td><td>0.0</td><td>0.0</td><td>0.0</td><td>Jan-2013</td><td>2024-12-20 04:33:...</td></tr>\n",
       "<tr><td>467364</td><td>29216.791</td><td>29066.19</td><td>24250.0</td><td>0.0</td><td>0.0</td><td>0.0</td><td>Dec-2012</td><td>2024-12-20 04:33:...</td></tr>\n",
       "<tr><td>399499</td><td>26557.729</td><td>26336.41</td><td>24000.0</td><td>0.0</td><td>0.0</td><td>0.0</td><td>Dec-2010</td><td>2024-12-20 04:33:...</td></tr>\n",
       "<tr><td>451482</td><td>7587.5513</td><td>7587.55</td><td>7000.0</td><td>0.0</td><td>0.0</td><td>0.0</td><td>Jan-2011</td><td>2024-12-20 04:33:...</td></tr>\n",
       "<tr><td>454682</td><td>0.0</td><td>0.0</td><td>0.0</td><td>0.0</td><td>0.0</td><td>null</td><td>null</td><td>2024-12-20 04:33:...</td></tr>\n",
       "<tr><td>453361</td><td>11072.387</td><td>11057.05</td><td>9000.0</td><td>0.0</td><td>0.0</td><td>0.0</td><td>Oct-2012</td><td>2024-12-20 04:33:...</td></tr>\n",
       "<tr><td>451820</td><td>0.0</td><td>0.0</td><td>0.0</td><td>0.0</td><td>0.0</td><td>null</td><td>null</td><td>2024-12-20 04:33:...</td></tr>\n",
       "<tr><td>451775</td><td>3196.65</td><td>3191.35</td><td>1704.25</td><td>0.0</td><td>6.0</td><td>600.15</td><td>Apr-2010</td><td>2024-12-20 04:33:...</td></tr>\n",
       "<tr><td>440817</td><td>9004.034</td><td>9004.03</td><td>8000.0</td><td>0.0</td><td>0.0</td><td>0.0</td><td>Jan-2012</td><td>2024-12-20 04:33:...</td></tr>\n",
       "<tr><td>440285</td><td>9103.791</td><td>9103.79</td><td>8000.0</td><td>0.0</td><td>0.0</td><td>0.0</td><td>Sep-2012</td><td>2024-12-20 04:33:...</td></tr>\n",
       "<tr><td>439641</td><td>0.0</td><td>0.0</td><td>0.0</td><td>0.0</td><td>0.0</td><td>null</td><td>null</td><td>2024-12-20 04:33:...</td></tr>\n",
       "<tr><td>436279</td><td>10766.17</td><td>10507.37</td><td>10400.0</td><td>0.0</td><td>0.0</td><td>0.0</td><td>Feb-2010</td><td>2024-12-20 04:33:...</td></tr>\n",
       "<tr><td>436215</td><td>17839.12</td><td>13881.97</td><td>13543.88</td><td>0.0</td><td>0.0</td><td>1.23</td><td>Dec-2011</td><td>2024-12-20 04:33:...</td></tr>\n",
       "<tr><td>435953</td><td>12350.051</td><td>12116.9</td><td>10000.0</td><td>0.0</td><td>0.0</td><td>0.0</td><td>Sep-2012</td><td>2024-12-20 04:33:...</td></tr>\n",
       "</table>\n",
       "only showing top 20 rows\n"
      ],
      "text/plain": [
       "+-------+------------------------+-----------------------+-----------------------+----------------------+-------------------+-----------------+-----------------+--------------------+\n",
       "|loan_id|total_principal_received|total_interest_received|total_late_fee_received|total_payment_received|last_payment_amount|last_payment_date|next_payment_date|         ingest_date|\n",
       "+-------+------------------------+-----------------------+-----------------------+----------------------+-------------------+-----------------+-----------------+--------------------+\n",
       "| 485818|               14640.096|               13388.84|                13000.0|                   0.0|                0.0|              0.0|         Mar-2013|2024-12-20 04:33:...|\n",
       "| 485471|               29620.818|               29134.64|                25000.0|                   0.0|                0.0|              0.0|         Mar-2013|2024-12-20 04:33:...|\n",
       "| 482256|                8735.611|                7479.87|                 8000.0|                   0.0|                0.0|              0.0|         Feb-2011|2024-12-20 04:33:...|\n",
       "| 478160|                   410.0|                 407.36|                    0.0|                   0.0|              143.1|            410.0|             null|2024-12-20 04:33:...|\n",
       "| 476557|                28865.18|               24164.67|                5692.31|                   0.0|            6972.59|         19916.78|         Dec-2010|2024-12-20 04:33:...|\n",
       "| 472516|               25951.482|               24731.76|                25000.0|                   0.0|                0.0|              0.0|         May-2010|2024-12-20 04:33:...|\n",
       "| 472197|                12048.13|               12018.01|                10000.0|                   0.0|                0.0|              0.0|         Jan-2013|2024-12-20 04:33:...|\n",
       "| 467364|               29216.791|               29066.19|                24250.0|                   0.0|                0.0|              0.0|         Dec-2012|2024-12-20 04:33:...|\n",
       "| 399499|               26557.729|               26336.41|                24000.0|                   0.0|                0.0|              0.0|         Dec-2010|2024-12-20 04:33:...|\n",
       "| 451482|               7587.5513|                7587.55|                 7000.0|                   0.0|                0.0|              0.0|         Jan-2011|2024-12-20 04:33:...|\n",
       "| 454682|                     0.0|                    0.0|                    0.0|                   0.0|                0.0|             null|             null|2024-12-20 04:33:...|\n",
       "| 453361|               11072.387|               11057.05|                 9000.0|                   0.0|                0.0|              0.0|         Oct-2012|2024-12-20 04:33:...|\n",
       "| 451820|                     0.0|                    0.0|                    0.0|                   0.0|                0.0|             null|             null|2024-12-20 04:33:...|\n",
       "| 451775|                 3196.65|                3191.35|                1704.25|                   0.0|                6.0|           600.15|         Apr-2010|2024-12-20 04:33:...|\n",
       "| 440817|                9004.034|                9004.03|                 8000.0|                   0.0|                0.0|              0.0|         Jan-2012|2024-12-20 04:33:...|\n",
       "| 440285|                9103.791|                9103.79|                 8000.0|                   0.0|                0.0|              0.0|         Sep-2012|2024-12-20 04:33:...|\n",
       "| 439641|                     0.0|                    0.0|                    0.0|                   0.0|                0.0|             null|             null|2024-12-20 04:33:...|\n",
       "| 436279|                10766.17|               10507.37|                10400.0|                   0.0|                0.0|              0.0|         Feb-2010|2024-12-20 04:33:...|\n",
       "| 436215|                17839.12|               13881.97|               13543.88|                   0.0|                0.0|             1.23|         Dec-2011|2024-12-20 04:33:...|\n",
       "| 435953|               12350.051|                12116.9|                10000.0|                   0.0|                0.0|              0.0|         Sep-2012|2024-12-20 04:33:...|\n",
       "+-------+------------------------+-----------------------+-----------------------+----------------------+-------------------+-----------------+-----------------+--------------------+\n",
       "only showing top 20 rows"
      ]
     },
     "execution_count": 91,
     "metadata": {},
     "output_type": "execute_result"
    }
   ],
   "source": [
    "spark.sql(\"select * from loans_repayments where total_payment_received = 0.0\")"
   ]
  },
  {
   "cell_type": "code",
   "execution_count": 92,
   "id": "4a78260f",
   "metadata": {},
   "outputs": [
    {
     "data": {
      "text/html": [
       "<table border='1'>\n",
       "<tr><th>count(1)</th></tr>\n",
       "<tr><td>995</td></tr>\n",
       "</table>\n"
      ],
      "text/plain": [
       "+--------+\n",
       "|count(1)|\n",
       "+--------+\n",
       "|     995|\n",
       "+--------+"
      ]
     },
     "execution_count": 92,
     "metadata": {},
     "output_type": "execute_result"
    }
   ],
   "source": [
    "spark.sql(\"select count(*) from loans_repayments where total_payment_received = 0.0\")"
   ]
  },
  {
   "cell_type": "code",
   "execution_count": 93,
   "id": "c16eb678",
   "metadata": {},
   "outputs": [
    {
     "data": {
      "text/html": [
       "<table border='1'>\n",
       "<tr><th>count(1)</th></tr>\n",
       "<tr><td>46</td></tr>\n",
       "</table>\n"
      ],
      "text/plain": [
       "+--------+\n",
       "|count(1)|\n",
       "+--------+\n",
       "|      46|\n",
       "+--------+"
      ]
     },
     "execution_count": 93,
     "metadata": {},
     "output_type": "execute_result"
    }
   ],
   "source": [
    "spark.sql(\"select count(*) from loans_repayments \\\n",
    "          where total_payment_received = 0.0 and total_principal_received != 0.0\")"
   ]
  },
  {
   "cell_type": "code",
   "execution_count": 94,
   "id": "b67e4267",
   "metadata": {},
   "outputs": [
    {
     "data": {
      "text/html": [
       "<table border='1'>\n",
       "<tr><th>loan_id</th><th>total_principal_received</th><th>total_interest_received</th><th>total_late_fee_received</th><th>total_payment_received</th><th>last_payment_amount</th><th>last_payment_date</th><th>next_payment_date</th><th>ingest_date</th></tr>\n",
       "<tr><td>485818</td><td>14640.096</td><td>13388.84</td><td>13000.0</td><td>0.0</td><td>0.0</td><td>0.0</td><td>Mar-2013</td><td>2024-12-20 04:33:...</td></tr>\n",
       "<tr><td>485471</td><td>29620.818</td><td>29134.64</td><td>25000.0</td><td>0.0</td><td>0.0</td><td>0.0</td><td>Mar-2013</td><td>2024-12-20 04:33:...</td></tr>\n",
       "<tr><td>482256</td><td>8735.611</td><td>7479.87</td><td>8000.0</td><td>0.0</td><td>0.0</td><td>0.0</td><td>Feb-2011</td><td>2024-12-20 04:33:...</td></tr>\n",
       "<tr><td>478160</td><td>410.0</td><td>407.36</td><td>0.0</td><td>0.0</td><td>143.1</td><td>410.0</td><td>null</td><td>2024-12-20 04:33:...</td></tr>\n",
       "<tr><td>476557</td><td>28865.18</td><td>24164.67</td><td>5692.31</td><td>0.0</td><td>6972.59</td><td>19916.78</td><td>Dec-2010</td><td>2024-12-20 04:33:...</td></tr>\n",
       "<tr><td>472516</td><td>25951.482</td><td>24731.76</td><td>25000.0</td><td>0.0</td><td>0.0</td><td>0.0</td><td>May-2010</td><td>2024-12-20 04:33:...</td></tr>\n",
       "<tr><td>472197</td><td>12048.13</td><td>12018.01</td><td>10000.0</td><td>0.0</td><td>0.0</td><td>0.0</td><td>Jan-2013</td><td>2024-12-20 04:33:...</td></tr>\n",
       "<tr><td>467364</td><td>29216.791</td><td>29066.19</td><td>24250.0</td><td>0.0</td><td>0.0</td><td>0.0</td><td>Dec-2012</td><td>2024-12-20 04:33:...</td></tr>\n",
       "<tr><td>399499</td><td>26557.729</td><td>26336.41</td><td>24000.0</td><td>0.0</td><td>0.0</td><td>0.0</td><td>Dec-2010</td><td>2024-12-20 04:33:...</td></tr>\n",
       "<tr><td>451482</td><td>7587.5513</td><td>7587.55</td><td>7000.0</td><td>0.0</td><td>0.0</td><td>0.0</td><td>Jan-2011</td><td>2024-12-20 04:33:...</td></tr>\n",
       "<tr><td>453361</td><td>11072.387</td><td>11057.05</td><td>9000.0</td><td>0.0</td><td>0.0</td><td>0.0</td><td>Oct-2012</td><td>2024-12-20 04:33:...</td></tr>\n",
       "<tr><td>451775</td><td>3196.65</td><td>3191.35</td><td>1704.25</td><td>0.0</td><td>6.0</td><td>600.15</td><td>Apr-2010</td><td>2024-12-20 04:33:...</td></tr>\n",
       "<tr><td>440817</td><td>9004.034</td><td>9004.03</td><td>8000.0</td><td>0.0</td><td>0.0</td><td>0.0</td><td>Jan-2012</td><td>2024-12-20 04:33:...</td></tr>\n",
       "<tr><td>440285</td><td>9103.791</td><td>9103.79</td><td>8000.0</td><td>0.0</td><td>0.0</td><td>0.0</td><td>Sep-2012</td><td>2024-12-20 04:33:...</td></tr>\n",
       "<tr><td>436279</td><td>10766.17</td><td>10507.37</td><td>10400.0</td><td>0.0</td><td>0.0</td><td>0.0</td><td>Feb-2010</td><td>2024-12-20 04:33:...</td></tr>\n",
       "<tr><td>436215</td><td>17839.12</td><td>13881.97</td><td>13543.88</td><td>0.0</td><td>0.0</td><td>1.23</td><td>Dec-2011</td><td>2024-12-20 04:33:...</td></tr>\n",
       "<tr><td>435953</td><td>12350.051</td><td>12116.9</td><td>10000.0</td><td>0.0</td><td>0.0</td><td>0.0</td><td>Sep-2012</td><td>2024-12-20 04:33:...</td></tr>\n",
       "<tr><td>430237</td><td>1597.64</td><td>1597.64</td><td>1069.79</td><td>0.0</td><td>1.41</td><td>134.2</td><td>Jul-2010</td><td>2024-12-20 04:33:...</td></tr>\n",
       "<tr><td>429906</td><td>20204.574</td><td>20085.72</td><td>17000.0</td><td>0.0</td><td>0.0</td><td>0.0</td><td>Aug-2012</td><td>2024-12-20 04:33:...</td></tr>\n",
       "<tr><td>425187</td><td>4919.18</td><td>4913.37</td><td>3862.04</td><td>0.0</td><td>18.0176</td><td>84.3</td><td>Dec-2011</td><td>2024-12-20 04:33:...</td></tr>\n",
       "</table>\n",
       "only showing top 20 rows\n"
      ],
      "text/plain": [
       "+-------+------------------------+-----------------------+-----------------------+----------------------+-------------------+-----------------+-----------------+--------------------+\n",
       "|loan_id|total_principal_received|total_interest_received|total_late_fee_received|total_payment_received|last_payment_amount|last_payment_date|next_payment_date|         ingest_date|\n",
       "+-------+------------------------+-----------------------+-----------------------+----------------------+-------------------+-----------------+-----------------+--------------------+\n",
       "| 485818|               14640.096|               13388.84|                13000.0|                   0.0|                0.0|              0.0|         Mar-2013|2024-12-20 04:33:...|\n",
       "| 485471|               29620.818|               29134.64|                25000.0|                   0.0|                0.0|              0.0|         Mar-2013|2024-12-20 04:33:...|\n",
       "| 482256|                8735.611|                7479.87|                 8000.0|                   0.0|                0.0|              0.0|         Feb-2011|2024-12-20 04:33:...|\n",
       "| 478160|                   410.0|                 407.36|                    0.0|                   0.0|              143.1|            410.0|             null|2024-12-20 04:33:...|\n",
       "| 476557|                28865.18|               24164.67|                5692.31|                   0.0|            6972.59|         19916.78|         Dec-2010|2024-12-20 04:33:...|\n",
       "| 472516|               25951.482|               24731.76|                25000.0|                   0.0|                0.0|              0.0|         May-2010|2024-12-20 04:33:...|\n",
       "| 472197|                12048.13|               12018.01|                10000.0|                   0.0|                0.0|              0.0|         Jan-2013|2024-12-20 04:33:...|\n",
       "| 467364|               29216.791|               29066.19|                24250.0|                   0.0|                0.0|              0.0|         Dec-2012|2024-12-20 04:33:...|\n",
       "| 399499|               26557.729|               26336.41|                24000.0|                   0.0|                0.0|              0.0|         Dec-2010|2024-12-20 04:33:...|\n",
       "| 451482|               7587.5513|                7587.55|                 7000.0|                   0.0|                0.0|              0.0|         Jan-2011|2024-12-20 04:33:...|\n",
       "| 453361|               11072.387|               11057.05|                 9000.0|                   0.0|                0.0|              0.0|         Oct-2012|2024-12-20 04:33:...|\n",
       "| 451775|                 3196.65|                3191.35|                1704.25|                   0.0|                6.0|           600.15|         Apr-2010|2024-12-20 04:33:...|\n",
       "| 440817|                9004.034|                9004.03|                 8000.0|                   0.0|                0.0|              0.0|         Jan-2012|2024-12-20 04:33:...|\n",
       "| 440285|                9103.791|                9103.79|                 8000.0|                   0.0|                0.0|              0.0|         Sep-2012|2024-12-20 04:33:...|\n",
       "| 436279|                10766.17|               10507.37|                10400.0|                   0.0|                0.0|              0.0|         Feb-2010|2024-12-20 04:33:...|\n",
       "| 436215|                17839.12|               13881.97|               13543.88|                   0.0|                0.0|             1.23|         Dec-2011|2024-12-20 04:33:...|\n",
       "| 435953|               12350.051|                12116.9|                10000.0|                   0.0|                0.0|              0.0|         Sep-2012|2024-12-20 04:33:...|\n",
       "| 430237|                 1597.64|                1597.64|                1069.79|                   0.0|               1.41|            134.2|         Jul-2010|2024-12-20 04:33:...|\n",
       "| 429906|               20204.574|               20085.72|                17000.0|                   0.0|                0.0|              0.0|         Aug-2012|2024-12-20 04:33:...|\n",
       "| 425187|                 4919.18|                4913.37|                3862.04|                   0.0|            18.0176|             84.3|         Dec-2011|2024-12-20 04:33:...|\n",
       "+-------+------------------------+-----------------------+-----------------------+----------------------+-------------------+-----------------+-----------------+--------------------+\n",
       "only showing top 20 rows"
      ]
     },
     "execution_count": 94,
     "metadata": {},
     "output_type": "execute_result"
    }
   ],
   "source": [
    "spark.sql(\"select * from loans_repayments \\\n",
    "          where total_payment_received = 0.0 and total_principal_received != 0.0\")"
   ]
  },
  {
   "cell_type": "code",
   "execution_count": 95,
   "id": "878dcfaa",
   "metadata": {},
   "outputs": [],
   "source": [
    "from pyspark.sql.functions import when, col"
   ]
  },
  {
   "cell_type": "code",
   "execution_count": 96,
   "id": "fb1fb742",
   "metadata": {},
   "outputs": [],
   "source": [
    "loans_payments_fixed_df = loans_repay_filtered_df.withColumn(\n",
    "    \"total_payment_received\",\n",
    "    when(\n",
    "        (col(\"total_principal_received\") != 0.0) &\n",
    "        (col(\"total_payment_received\") == 0.0),\n",
    "        col(\"total_principal_received\")+col(\"total_interest_received\")+col(\"total_late_fee_received\")\n",
    "    ).otherwise(col(\"total_payment_received\"))\n",
    ")"
   ]
  },
  {
   "cell_type": "code",
   "execution_count": 97,
   "id": "d836a059",
   "metadata": {},
   "outputs": [
    {
     "data": {
      "text/html": [
       "<table border='1'>\n",
       "<tr><th>loan_id</th><th>total_principal_received</th><th>total_interest_received</th><th>total_late_fee_received</th><th>total_payment_received</th><th>last_payment_amount</th><th>last_payment_date</th><th>next_payment_date</th><th>ingest_date</th></tr>\n",
       "<tr><td>491699</td><td>7000.0</td><td>1444.94</td><td>0.0</td><td>8444.942</td><td>954.65</td><td>Dec-2012</td><td>null</td><td>2024-12-20 04:33:...</td></tr>\n",
       "<tr><td>491685</td><td>15000.0</td><td>2583.58</td><td>0.0</td><td>17583.584</td><td>517.23</td><td>Mar-2013</td><td>null</td><td>2024-12-20 04:33:...</td></tr>\n",
       "<tr><td>491667</td><td>6400.0</td><td>807.51</td><td>0.0</td><td>7207.5093</td><td>209.97</td><td>Mar-2013</td><td>null</td><td>2024-12-20 04:33:...</td></tr>\n",
       "<tr><td>491160</td><td>4000.0</td><td>963.31</td><td>0.0</td><td>4963.3066</td><td>144.87</td><td>Mar-2013</td><td>null</td><td>2024-12-20 04:33:...</td></tr>\n",
       "<tr><td>491675</td><td>20000.0</td><td>2887.0</td><td>0.0</td><td>22886.992</td><td>16.27</td><td>Jul-2011</td><td>null</td><td>2024-12-20 04:33:...</td></tr>\n",
       "<tr><td>491668</td><td>1773.57</td><td>591.33</td><td>0.0</td><td>2957.37</td><td>394.94</td><td>Mar-2011</td><td>null</td><td>2024-12-20 04:33:...</td></tr>\n",
       "<tr><td>491663</td><td>5500.0</td><td>235.4</td><td>0.0</td><td>5735.4</td><td>2147.02</td><td>Sep-2010</td><td>null</td><td>2024-12-20 04:33:...</td></tr>\n",
       "<tr><td>491632</td><td>10000.0</td><td>1466.31</td><td>0.0</td><td>11466.3125</td><td>7274.73</td><td>Apr-2011</td><td>null</td><td>2024-12-20 04:33:...</td></tr>\n",
       "<tr><td>491618</td><td>24999.99</td><td>2085.75</td><td>0.0</td><td>27085.738</td><td>21866.75</td><td>Oct-2010</td><td>null</td><td>2024-12-20 04:33:...</td></tr>\n",
       "<tr><td>491622</td><td>25000.0</td><td>13079.81</td><td>0.0</td><td>38079.81</td><td>7912.97</td><td>Feb-2015</td><td>null</td><td>2024-12-20 04:33:...</td></tr>\n",
       "<tr><td>491552</td><td>22000.0</td><td>3709.11</td><td>0.0</td><td>25709.104</td><td>1711.64</td><td>Aug-2012</td><td>null</td><td>2024-12-20 04:33:...</td></tr>\n",
       "<tr><td>491477</td><td>16750.0</td><td>3079.64</td><td>0.0</td><td>19829.643</td><td>1895.34</td><td>Apr-2012</td><td>null</td><td>2024-12-20 04:33:...</td></tr>\n",
       "<tr><td>491596</td><td>3600.0</td><td>459.21</td><td>0.0</td><td>4059.209</td><td>6.15</td><td>Mar-2011</td><td>null</td><td>2024-12-20 04:33:...</td></tr>\n",
       "<tr><td>491575</td><td>13750.0</td><td>1923.96</td><td>0.0</td><td>15673.965</td><td>497.94</td><td>May-2011</td><td>null</td><td>2024-12-20 04:33:...</td></tr>\n",
       "<tr><td>491581</td><td>8500.0</td><td>1464.2</td><td>0.0</td><td>9964.197</td><td>296.32</td><td>Mar-2013</td><td>null</td><td>2024-12-20 04:33:...</td></tr>\n",
       "<tr><td>488022</td><td>8000.0</td><td>1277.23</td><td>0.0</td><td>9277.228</td><td>273.34</td><td>Mar-2013</td><td>null</td><td>2024-12-20 04:33:...</td></tr>\n",
       "<tr><td>491557</td><td>12000.0</td><td>2008.96</td><td>0.0</td><td>14008.957</td><td>6778.81</td><td>Oct-2011</td><td>null</td><td>2024-12-20 04:33:...</td></tr>\n",
       "<tr><td>491494</td><td>10000.0</td><td>2473.25</td><td>0.0</td><td>12473.249</td><td>375.18</td><td>Mar-2013</td><td>null</td><td>2024-12-20 04:33:...</td></tr>\n",
       "<tr><td>491487</td><td>11000.0</td><td>2506.0</td><td>0.0</td><td>13506.0</td><td>394.75</td><td>Mar-2013</td><td>null</td><td>2024-12-20 04:33:...</td></tr>\n",
       "<tr><td>490680</td><td>15400.0</td><td>563.87</td><td>0.0</td><td>15963.867</td><td>7.61</td><td>Aug-2010</td><td>null</td><td>2024-12-20 04:33:...</td></tr>\n",
       "</table>\n",
       "only showing top 20 rows\n"
      ],
      "text/plain": [
       "+-------+------------------------+-----------------------+-----------------------+----------------------+-------------------+-----------------+-----------------+--------------------+\n",
       "|loan_id|total_principal_received|total_interest_received|total_late_fee_received|total_payment_received|last_payment_amount|last_payment_date|next_payment_date|         ingest_date|\n",
       "+-------+------------------------+-----------------------+-----------------------+----------------------+-------------------+-----------------+-----------------+--------------------+\n",
       "| 491699|                  7000.0|                1444.94|                    0.0|              8444.942|             954.65|         Dec-2012|             null|2024-12-20 04:33:...|\n",
       "| 491685|                 15000.0|                2583.58|                    0.0|             17583.584|             517.23|         Mar-2013|             null|2024-12-20 04:33:...|\n",
       "| 491667|                  6400.0|                 807.51|                    0.0|             7207.5093|             209.97|         Mar-2013|             null|2024-12-20 04:33:...|\n",
       "| 491160|                  4000.0|                 963.31|                    0.0|             4963.3066|             144.87|         Mar-2013|             null|2024-12-20 04:33:...|\n",
       "| 491675|                 20000.0|                 2887.0|                    0.0|             22886.992|              16.27|         Jul-2011|             null|2024-12-20 04:33:...|\n",
       "| 491668|                 1773.57|                 591.33|                    0.0|               2957.37|             394.94|         Mar-2011|             null|2024-12-20 04:33:...|\n",
       "| 491663|                  5500.0|                  235.4|                    0.0|                5735.4|            2147.02|         Sep-2010|             null|2024-12-20 04:33:...|\n",
       "| 491632|                 10000.0|                1466.31|                    0.0|            11466.3125|            7274.73|         Apr-2011|             null|2024-12-20 04:33:...|\n",
       "| 491618|                24999.99|                2085.75|                    0.0|             27085.738|           21866.75|         Oct-2010|             null|2024-12-20 04:33:...|\n",
       "| 491622|                 25000.0|               13079.81|                    0.0|              38079.81|            7912.97|         Feb-2015|             null|2024-12-20 04:33:...|\n",
       "| 491552|                 22000.0|                3709.11|                    0.0|             25709.104|            1711.64|         Aug-2012|             null|2024-12-20 04:33:...|\n",
       "| 491477|                 16750.0|                3079.64|                    0.0|             19829.643|            1895.34|         Apr-2012|             null|2024-12-20 04:33:...|\n",
       "| 491596|                  3600.0|                 459.21|                    0.0|              4059.209|               6.15|         Mar-2011|             null|2024-12-20 04:33:...|\n",
       "| 491575|                 13750.0|                1923.96|                    0.0|             15673.965|             497.94|         May-2011|             null|2024-12-20 04:33:...|\n",
       "| 491581|                  8500.0|                 1464.2|                    0.0|              9964.197|             296.32|         Mar-2013|             null|2024-12-20 04:33:...|\n",
       "| 488022|                  8000.0|                1277.23|                    0.0|              9277.228|             273.34|         Mar-2013|             null|2024-12-20 04:33:...|\n",
       "| 491557|                 12000.0|                2008.96|                    0.0|             14008.957|            6778.81|         Oct-2011|             null|2024-12-20 04:33:...|\n",
       "| 491494|                 10000.0|                2473.25|                    0.0|             12473.249|             375.18|         Mar-2013|             null|2024-12-20 04:33:...|\n",
       "| 491487|                 11000.0|                 2506.0|                    0.0|               13506.0|             394.75|         Mar-2013|             null|2024-12-20 04:33:...|\n",
       "| 490680|                 15400.0|                 563.87|                    0.0|             15963.867|               7.61|         Aug-2010|             null|2024-12-20 04:33:...|\n",
       "+-------+------------------------+-----------------------+-----------------------+----------------------+-------------------+-----------------+-----------------+--------------------+\n",
       "only showing top 20 rows"
      ]
     },
     "execution_count": 97,
     "metadata": {},
     "output_type": "execute_result"
    }
   ],
   "source": [
    "loans_payments_fixed_df"
   ]
  },
  {
   "cell_type": "code",
   "execution_count": 98,
   "id": "c0770824",
   "metadata": {},
   "outputs": [
    {
     "data": {
      "text/html": [
       "<table border='1'>\n",
       "<tr><th>loan_id</th><th>total_principal_received</th><th>total_interest_received</th><th>total_late_fee_received</th><th>total_payment_received</th><th>last_payment_amount</th><th>last_payment_date</th><th>next_payment_date</th><th>ingest_date</th></tr>\n",
       "<tr><td>485818</td><td>14640.096</td><td>13388.84</td><td>13000.0</td><td>41028.938</td><td>0.0</td><td>0.0</td><td>Mar-2013</td><td>2024-12-20 04:33:...</td></tr>\n",
       "</table>\n"
      ],
      "text/plain": [
       "+-------+------------------------+-----------------------+-----------------------+----------------------+-------------------+-----------------+-----------------+--------------------+\n",
       "|loan_id|total_principal_received|total_interest_received|total_late_fee_received|total_payment_received|last_payment_amount|last_payment_date|next_payment_date|         ingest_date|\n",
       "+-------+------------------------+-----------------------+-----------------------+----------------------+-------------------+-----------------+-----------------+--------------------+\n",
       "| 485818|               14640.096|               13388.84|                13000.0|             41028.938|                0.0|              0.0|         Mar-2013|2024-12-20 04:33:...|\n",
       "+-------+------------------------+-----------------------+-----------------------+----------------------+-------------------+-----------------+-----------------+--------------------+"
      ]
     },
     "execution_count": 98,
     "metadata": {},
     "output_type": "execute_result"
    }
   ],
   "source": [
    "loans_payments_fixed_df.filter(\"loan_id == '485818'\")"
   ]
  },
  {
   "cell_type": "code",
   "execution_count": 99,
   "id": "5e0ceb14",
   "metadata": {},
   "outputs": [
    {
     "data": {
      "text/plain": [
       "949"
      ]
     },
     "execution_count": 99,
     "metadata": {},
     "output_type": "execute_result"
    }
   ],
   "source": [
    "loans_payments_fixed_df.filter(\"total_payment_received = 0.0\").count()"
   ]
  },
  {
   "cell_type": "code",
   "execution_count": 100,
   "id": "1c5edddc",
   "metadata": {},
   "outputs": [],
   "source": [
    "loans_payments_fixed_df2 = loans_payments_fixed_df.filter(\"total_payment_received = 0.0\")"
   ]
  },
  {
   "cell_type": "code",
   "execution_count": 101,
   "id": "d1aa4940",
   "metadata": {},
   "outputs": [
    {
     "data": {
      "text/html": [
       "<table border='1'>\n",
       "<tr><th>loan_id</th><th>total_principal_received</th><th>total_interest_received</th><th>total_late_fee_received</th><th>total_payment_received</th><th>last_payment_amount</th><th>last_payment_date</th><th>next_payment_date</th><th>ingest_date</th></tr>\n",
       "<tr><td>454682</td><td>0.0</td><td>0.0</td><td>0.0</td><td>0.0</td><td>0.0</td><td>null</td><td>null</td><td>2024-12-20 04:33:...</td></tr>\n",
       "<tr><td>451820</td><td>0.0</td><td>0.0</td><td>0.0</td><td>0.0</td><td>0.0</td><td>null</td><td>null</td><td>2024-12-20 04:33:...</td></tr>\n",
       "<tr><td>439641</td><td>0.0</td><td>0.0</td><td>0.0</td><td>0.0</td><td>0.0</td><td>null</td><td>null</td><td>2024-12-20 04:33:...</td></tr>\n",
       "<tr><td>417817</td><td>0.0</td><td>0.0</td><td>0.0</td><td>0.0</td><td>0.0</td><td>null</td><td>null</td><td>2024-12-20 04:33:...</td></tr>\n",
       "<tr><td>392751</td><td>0.0</td><td>0.0</td><td>0.0</td><td>0.0</td><td>0.0</td><td>null</td><td>null</td><td>2024-12-20 04:33:...</td></tr>\n",
       "<tr><td>472762</td><td>0.0</td><td>0.0</td><td>0.0</td><td>0.0</td><td>0.0</td><td>null</td><td>Jun-2010</td><td>2024-12-20 04:33:...</td></tr>\n",
       "<tr><td>462167</td><td>0.0</td><td>0.0</td><td>0.0</td><td>0.0</td><td>0.0</td><td>null</td><td>May-2010</td><td>2024-12-20 04:33:...</td></tr>\n",
       "<tr><td>409248</td><td>0.0</td><td>0.0</td><td>0.0</td><td>0.0</td><td>0.0</td><td>null</td><td>Nov-2009</td><td>2024-12-20 04:33:...</td></tr>\n",
       "<tr><td>271819</td><td>0.0</td><td>0.0</td><td>0.0</td><td>0.0</td><td>0.0</td><td>null</td><td>Dec-2008</td><td>2024-12-20 04:33:...</td></tr>\n",
       "<tr><td>103567719</td><td>0.0</td><td>0.0</td><td>0.0</td><td>0.0</td><td>0.0</td><td>null</td><td>null</td><td>2024-12-20 04:33:...</td></tr>\n",
       "<tr><td>103743592</td><td>0.0</td><td>0.0</td><td>0.0</td><td>0.0</td><td>0.0</td><td>null</td><td>null</td><td>2024-12-20 04:33:...</td></tr>\n",
       "<tr><td>102954473</td><td>0.0</td><td>0.0</td><td>0.0</td><td>0.0</td><td>0.0</td><td>null</td><td>null</td><td>2024-12-20 04:33:...</td></tr>\n",
       "<tr><td>103484557</td><td>0.0</td><td>0.0</td><td>0.0</td><td>0.0</td><td>0.0</td><td>null</td><td>null</td><td>2024-12-20 04:33:...</td></tr>\n",
       "<tr><td>102665819</td><td>0.0</td><td>0.0</td><td>0.0</td><td>0.0</td><td>0.0</td><td>null</td><td>null</td><td>2024-12-20 04:33:...</td></tr>\n",
       "<tr><td>103087367</td><td>0.0</td><td>0.0</td><td>0.0</td><td>0.0</td><td>0.0</td><td>null</td><td>null</td><td>2024-12-20 04:33:...</td></tr>\n",
       "<tr><td>102661192</td><td>0.0</td><td>0.0</td><td>0.0</td><td>0.0</td><td>0.0</td><td>null</td><td>null</td><td>2024-12-20 04:33:...</td></tr>\n",
       "<tr><td>102649798</td><td>0.0</td><td>0.0</td><td>0.0</td><td>0.0</td><td>0.0</td><td>null</td><td>null</td><td>2024-12-20 04:33:...</td></tr>\n",
       "<tr><td>102632243</td><td>0.0</td><td>0.0</td><td>0.0</td><td>0.0</td><td>0.0</td><td>null</td><td>null</td><td>2024-12-20 04:33:...</td></tr>\n",
       "<tr><td>99842835</td><td>0.0</td><td>0.0</td><td>0.0</td><td>0.0</td><td>0.0</td><td>null</td><td>null</td><td>2024-12-20 04:33:...</td></tr>\n",
       "<tr><td>102625530</td><td>0.0</td><td>0.0</td><td>0.0</td><td>0.0</td><td>0.0</td><td>null</td><td>null</td><td>2024-12-20 04:33:...</td></tr>\n",
       "</table>\n",
       "only showing top 20 rows\n"
      ],
      "text/plain": [
       "+---------+------------------------+-----------------------+-----------------------+----------------------+-------------------+-----------------+-----------------+--------------------+\n",
       "|  loan_id|total_principal_received|total_interest_received|total_late_fee_received|total_payment_received|last_payment_amount|last_payment_date|next_payment_date|         ingest_date|\n",
       "+---------+------------------------+-----------------------+-----------------------+----------------------+-------------------+-----------------+-----------------+--------------------+\n",
       "|   454682|                     0.0|                    0.0|                    0.0|                   0.0|                0.0|             null|             null|2024-12-20 04:33:...|\n",
       "|   451820|                     0.0|                    0.0|                    0.0|                   0.0|                0.0|             null|             null|2024-12-20 04:33:...|\n",
       "|   439641|                     0.0|                    0.0|                    0.0|                   0.0|                0.0|             null|             null|2024-12-20 04:33:...|\n",
       "|   417817|                     0.0|                    0.0|                    0.0|                   0.0|                0.0|             null|             null|2024-12-20 04:33:...|\n",
       "|   392751|                     0.0|                    0.0|                    0.0|                   0.0|                0.0|             null|             null|2024-12-20 04:33:...|\n",
       "|   472762|                     0.0|                    0.0|                    0.0|                   0.0|                0.0|             null|         Jun-2010|2024-12-20 04:33:...|\n",
       "|   462167|                     0.0|                    0.0|                    0.0|                   0.0|                0.0|             null|         May-2010|2024-12-20 04:33:...|\n",
       "|   409248|                     0.0|                    0.0|                    0.0|                   0.0|                0.0|             null|         Nov-2009|2024-12-20 04:33:...|\n",
       "|   271819|                     0.0|                    0.0|                    0.0|                   0.0|                0.0|             null|         Dec-2008|2024-12-20 04:33:...|\n",
       "|103567719|                     0.0|                    0.0|                    0.0|                   0.0|                0.0|             null|             null|2024-12-20 04:33:...|\n",
       "|103743592|                     0.0|                    0.0|                    0.0|                   0.0|                0.0|             null|             null|2024-12-20 04:33:...|\n",
       "|102954473|                     0.0|                    0.0|                    0.0|                   0.0|                0.0|             null|             null|2024-12-20 04:33:...|\n",
       "|103484557|                     0.0|                    0.0|                    0.0|                   0.0|                0.0|             null|             null|2024-12-20 04:33:...|\n",
       "|102665819|                     0.0|                    0.0|                    0.0|                   0.0|                0.0|             null|             null|2024-12-20 04:33:...|\n",
       "|103087367|                     0.0|                    0.0|                    0.0|                   0.0|                0.0|             null|             null|2024-12-20 04:33:...|\n",
       "|102661192|                     0.0|                    0.0|                    0.0|                   0.0|                0.0|             null|             null|2024-12-20 04:33:...|\n",
       "|102649798|                     0.0|                    0.0|                    0.0|                   0.0|                0.0|             null|             null|2024-12-20 04:33:...|\n",
       "|102632243|                     0.0|                    0.0|                    0.0|                   0.0|                0.0|             null|             null|2024-12-20 04:33:...|\n",
       "| 99842835|                     0.0|                    0.0|                    0.0|                   0.0|                0.0|             null|             null|2024-12-20 04:33:...|\n",
       "|102625530|                     0.0|                    0.0|                    0.0|                   0.0|                0.0|             null|             null|2024-12-20 04:33:...|\n",
       "+---------+------------------------+-----------------------+-----------------------+----------------------+-------------------+-----------------+-----------------+--------------------+\n",
       "only showing top 20 rows"
      ]
     },
     "execution_count": 101,
     "metadata": {},
     "output_type": "execute_result"
    }
   ],
   "source": [
    "loans_payments_fixed_df2"
   ]
  },
  {
   "cell_type": "code",
   "execution_count": 122,
   "id": "70476140",
   "metadata": {},
   "outputs": [
    {
     "data": {
      "text/html": [
       "\n",
       "            <div>\n",
       "                <p><b>SparkSession - hive</b></p>\n",
       "                \n",
       "        <div>\n",
       "            <p><b>SparkContext</b></p>\n",
       "\n",
       "            <p><a href=\"http://g02.itversity.com:37647\">Spark UI</a></p>\n",
       "\n",
       "            <dl>\n",
       "              <dt>Version</dt>\n",
       "                <dd><code>v3.1.2</code></dd>\n",
       "              <dt>Master</dt>\n",
       "                <dd><code>yarn</code></dd>\n",
       "              <dt>AppName</dt>\n",
       "                <dd><code>itv012041_Loan_Repayment_Data_Cleanup</code></dd>\n",
       "            </dl>\n",
       "        </div>\n",
       "        \n",
       "            </div>\n",
       "        "
      ],
      "text/plain": [
       "<pyspark.sql.session.SparkSession at 0x7f717471fa90>"
      ]
     },
     "execution_count": 122,
     "metadata": {},
     "output_type": "execute_result"
    }
   ],
   "source": [
    "spark"
   ]
  },
  {
   "cell_type": "code",
   "execution_count": 124,
   "id": "bbac3ae8",
   "metadata": {},
   "outputs": [],
   "source": [
    "loans_payments_fixed_df2.write \\\n",
    ".option(\"header\", True) \\\n",
    ".format(\"csv\") \\\n",
    ".mode(\"overwrite\") \\\n",
    ".option(\"path\", \"/user/itv012041/lendingclubproject/cleaned/loans_repayments_csv\") \\\n",
    ".save()"
   ]
  },
  {
   "cell_type": "code",
   "execution_count": 125,
   "id": "7a8b1f52",
   "metadata": {},
   "outputs": [],
   "source": [
    "loans_payments_fixed_df2.write \\\n",
    ".option(\"header\", True) \\\n",
    ".format(\"parquet\") \\\n",
    ".mode(\"overwrite\") \\\n",
    ".option(\"path\", \"/user/itv012041/lendingclubproject/cleaned/loans_repayments_parquet\") \\\n",
    ".save()"
   ]
  },
  {
   "cell_type": "code",
   "execution_count": null,
   "id": "fddaa179",
   "metadata": {},
   "outputs": [],
   "source": []
  }
 ],
 "metadata": {
  "kernelspec": {
   "display_name": "Pyspark 3",
   "language": "python",
   "name": "pyspark3"
  },
  "language_info": {
   "codemirror_mode": {
    "name": "ipython",
    "version": 3
   },
   "file_extension": ".py",
   "mimetype": "text/x-python",
   "name": "python",
   "nbconvert_exporter": "python",
   "pygments_lexer": "ipython3",
   "version": "3.6.12"
  }
 },
 "nbformat": 4,
 "nbformat_minor": 5
}
